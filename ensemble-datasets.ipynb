{
 "cells": [
  {
   "cell_type": "code",
   "execution_count": null,
   "metadata": {
    "pycharm": {
     "is_executing": false
    }
   },
   "outputs": [],
   "source": [
    "import sys\n",
    "sys.path.append('..')\n",
    "%load_ext autoreload\n",
    "%autoreload 2\n",
    "%matplotlib inline\n"
   ]
  },
  {
   "cell_type": "code",
   "execution_count": null,
   "metadata": {
    "jupyter": {
     "outputs_hidden": false
    },
    "pycharm": {
     "is_executing": false,
     "name": "#%%\n"
    }
   },
   "outputs": [],
   "source": [
    "import pickle\n",
    "from datetime import datetime\n",
    "\n",
    "import numpy as np\n",
    "import matplotlib.pyplot as plt\n",
    "import pandas as pd\n",
    "import seaborn as sns\n",
    "import re\n",
    "\n",
    "from dataloader.builder import build_dataset\n",
    "from model.mlp import MLP\n",
    "from uncertainty_estimator.masks import build_masks \n",
    "from experiment_setup import build_estimator\n",
    "from analysis.metrics import get_uq_metrics\n",
    "from experiments.utils.data import scale, split_ood, multiple_kfold\n",
    "\n",
    "plt.rcParams['figure.facecolor'] = 'white'\n"
   ]
  },
  {
   "cell_type": "code",
   "execution_count": null,
   "metadata": {},
   "outputs": [],
   "source": [
    "import torch\n",
    "from loss.nll_loss import NLLRegLoss\n",
    "from torch.nn import functional as F\n",
    "from model.ensemble import MLPEnsemble\n",
    "\n",
    "def nll_postprocessing(x):\n",
    "    return torch.cat([x[:, [0]], F.softplus(x[:, [1]])], dim=1)\n",
    "\n",
    "def nll_mean_only(x):\n",
    "    return x[:, 0]"
   ]
  },
  {
   "cell_type": "code",
   "execution_count": null,
   "metadata": {
    "jupyter": {
     "outputs_hidden": false
    },
    "pycharm": {
     "is_executing": false,
     "name": "#%%\n"
    }
   },
   "outputs": [],
   "source": [
    "config = {\n",
    "    'nn_runs': 100,\n",
    "    'runs': 2,\n",
    "    'max_runs': 20,\n",
    "    'k_folds': 10,\n",
    "    'verbose': False,\n",
    "    # Our train config\n",
    "    'layers': [8, 256, 256, 128, 1],\n",
    "    'epochs': 10_000,\n",
    "    'validation_step': 100,\n",
    "    \n",
    "    # Our train config\n",
    "    'nll_layers': [8, 256, 256, 128, 2],\n",
    "    'nll_epochs': 400,\n",
    "    'nll_validation_step': 50,\n",
    "    \n",
    "    'acc_percentile': 0.1,\n",
    "    'patience': 3,\n",
    "    'dropout_rate': 0.2,\n",
    "    'dropout_uq': 0.5,\n",
    "    'batch_size': 256,\n",
    "    'dataset': 'concrete',\n",
    "    'l2_reg': 1e-5,\n",
    "    'ood_percentile': 90,\n",
    "    \n",
    "    'optimizer': {'type': 'Adam', 'lr': 0.01, 'weight_decay':1e-5}\n",
    "}\n"
   ]
  },
  {
   "cell_type": "code",
   "execution_count": null,
   "metadata": {
    "jupyter": {
     "outputs_hidden": false
    },
    "pycharm": {
     "is_executing": false,
     "name": "#%%\n"
    }
   },
   "outputs": [],
   "source": [
    "# Get data\n",
    "dataset = build_dataset(config['dataset'], val_split=0.01) \n",
    "x_all, y_all = dataset.dataset('train')\n",
    "x_set, y_set, x_ood, y_ood = split_ood(x_all, y_all, config['ood_percentile'])\n",
    "config['layers'][0] = x_all.shape[-1]\n",
    "config['nll_layers'][0] = x_all.shape[-1]\n"
   ]
  },
  {
   "cell_type": "code",
   "execution_count": null,
   "metadata": {
    "jupyter": {
     "outputs_hidden": false
    },
    "pycharm": {
     "is_executing": false,
     "name": "#%%\n"
    }
   },
   "outputs": [],
   "source": [
    "masks = build_masks(nn_runs=config['nn_runs'])"
   ]
  },
  {
   "cell_type": "code",
   "execution_count": null,
   "metadata": {
    "jupyter": {
     "outputs_hidden": false
    },
    "pycharm": {
     "is_executing": false,
     "name": "#%%\n"
    }
   },
   "outputs": [],
   "source": [
    "# Evaluate different masks\n",
    "def evaluate_masks(model, masks, x_val, y_val, y_scaler, tag='standard'):\n",
    "    predictions = model(x_val).cpu().numpy()\n",
    "    errors = np.abs(predictions - y_val)\n",
    "    scaled_errors = y_scaler.inverse_transform(predictions) - y_scaler.inverse_transform(y_val)\n",
    "    rmse = np.sqrt(np.mean(np.square(scaled_errors)))\n",
    "    results = []\n",
    "\n",
    "    for name, mask in masks.items():\n",
    "        estimator = build_estimator(\n",
    "            'mcdue_masked', model, nn_runs=config['nn_runs'], dropout_mask=mask,\n",
    "            dropout_rate=config['dropout_uq'])\n",
    "\n",
    "        for run in range(config['runs']):\n",
    "            estimations = estimator.estimate(x_val)\n",
    "            acc, ndcg, ll = get_uq_metrics(estimations, errors, config['acc_percentile'])\n",
    "            results.append([acc, ndcg, ll, rmse, name, tag])\n",
    "\n",
    "            if hasattr(mask, 'reset'):\n",
    "                mask.reset()\n",
    "\n",
    "    return results\n",
    "\n",
    "        "
   ]
  },
  {
   "cell_type": "code",
   "execution_count": null,
   "metadata": {},
   "outputs": [],
   "source": [
    "def evaluate_ensemble(model, x_val, y_val, y_scaler, tag='standard'):\n",
    "    predictions = model(x_val).cpu().numpy()[:, [0]]\n",
    "    errors = np.abs(predictions - y_val)\n",
    "    scaled_errors = y_scaler.inverse_transform(predictions) - y_scaler.inverse_transform(y_val)\n",
    "    rmse = np.sqrt(np.mean(np.square(scaled_errors)))\n",
    "    results = []\n",
    "    \n",
    "    \n",
    "    estimator = build_estimator('eue_nll', ensemble)\n",
    "\n",
    "    for run in range(config['runs']):\n",
    "        estimations = estimator.estimate(x_val)\n",
    "        acc, ndcg, ll = get_uq_metrics(estimations, errors, config['acc_percentile'])\n",
    "        results.append([acc, ndcg, ll, rmse, 'eue_nll', tag])\n",
    "\n",
    "    return results"
   ]
  },
  {
   "cell_type": "code",
   "execution_count": null,
   "metadata": {
    "jupyter": {
     "outputs_hidden": false
    },
    "pycharm": {
     "is_executing": false,
     "name": "#%%\n"
    },
    "scrolled": false
   },
   "outputs": [],
   "source": [
    "mask_results = [] \n",
    "kfold_iterator = multiple_kfold(config['k_folds'], len(x_set), config['max_runs'])\n",
    "\n",
    "for m, (train_idx, val_idx) in enumerate(kfold_iterator):\n",
    "    x_train, y_train = x_set[train_idx], y_set[train_idx]\n",
    "    x_val, y_val = x_set[val_idx], y_set[val_idx]\n",
    "    print(\" ------ Model {} -------\".format(m+1))\n",
    "\n",
    "    x_train, x_val, x_scaler = scale(x_train, x_val)\n",
    "    y_train, y_val, y_scaler = scale(y_train, y_val)\n",
    "    x_ood = x_scaler.transform(x_ood)\n",
    "    y_ood = y_scaler.transform(y_ood)\n",
    "    \n",
    "\n",
    "    model = MLP(config['layers'], l2_reg=config['l2_reg'])\n",
    "    train_opts = ['patience', 'dropout_rate', 'epochs', 'batch_size', 'validation_step']\n",
    "    train_config = {k: config[k] for k in config if k in train_opts}\n",
    "    model.fit((x_train, y_train), (x_val, y_val), **train_config)\n",
    "    \n",
    "    results = evaluate_masks(model, masks, x_val, y_val, y_scaler)\n",
    "    mask_results.extend(results)\n",
    "    results = evaluate_masks(model, masks, x_ood, y_ood, y_scaler, tag='ood')\n",
    "    mask_results.extend(results)\n",
    "    \n",
    "    \n",
    "    \n",
    "    ensemble = MLPEnsemble(config['nll_layers'], n_models=5, \n",
    "                           reduction='nll', loss=NLLRegLoss,\n",
    "                           optimizer=config['optimizer'],\n",
    "                           postprocessing=nll_postprocessing)\n",
    "    prefix = re.compile('nll_')\n",
    "    train_opts = ['dropout_rate', 'nll_epochs', 'batch_size', 'nll_validation_step']\n",
    "    train_config = {prefix.sub('', k): config[k] for k in config if k in train_opts}\n",
    "    ensemble.fit((x_train, y_train), (x_val, y_val), **train_config)\n",
    "    \n",
    "    results = evaluate_ensemble(ensemble, x_val, y_val, y_scaler)\n",
    "    mask_results.extend(results)\n",
    "    results = evaluate_ensemble(ensemble, x_ood, y_ood, y_scaler, tag='ood')\n",
    "    mask_results.extend(results)"
   ]
  },
  {
   "cell_type": "code",
   "execution_count": null,
   "metadata": {},
   "outputs": [],
   "source": [
    "# # Plot the results\n",
    "mask_df = pd.DataFrame(mask_results, columns=['Acc', 'NDCG', 'LL', 'RMSE', 'Mask', 'Tag'])\n",
    "\n",
    "fig = plt.figure(figsize=(16, 16))\n",
    "plt.suptitle(config['dataset'], fontsize=16)\n",
    "fig.subplots_adjust(top=0.95)\n",
    "\n",
    "\n",
    "def boxplot(df, x_label, y_label, i, bottom=0, top=1):\n",
    "    plt.subplot(4, 2, i)\n",
    "    plt.xticks(rotation=45)\n",
    "    if bottom is not None:\n",
    "        plt.ylim(bottom, top)\n",
    "    sns.boxplot(data=df, x=x_label, y=y_label, hue='Tag')\n",
    "\n",
    "boxplot(mask_df, 'Mask', 'Acc', 1, 0, 1)\n",
    "boxplot(mask_df, 'Mask', 'NDCG', 2, 0, 1)\n",
    "boxplot(mask_df[mask_df.Tag=='standard'], 'Mask', 'LL', 3, None)\n",
    "boxplot(mask_df[mask_df.Tag=='ood'], 'Mask', 'LL', 4, None)\n",
    "boxplot(mask_df, 'Mask', 'RMSE', 5, 0, None)"
   ]
  },
  {
   "cell_type": "code",
   "execution_count": null,
   "metadata": {
    "jupyter": {
     "outputs_hidden": false
    },
    "pycharm": {
     "is_executing": false,
     "name": "#%%\n"
    }
   },
   "outputs": [],
   "source": [
    "timestamp = datetime.now().strftime(\"%y-%m-%d__%H_%M\")\n",
    "with open(f\"data/results_{config['dataset']}_{timestamp}.pkl\", 'wb') as f:\n",
    "    pickle.dump(mask_results, f)\n",
    "    "
   ]
  }
 ],
 "metadata": {
  "kernelspec": {
   "display_name": "Python 3",
   "language": "python",
   "name": "python3"
  },
  "language_info": {
   "codemirror_mode": {
    "name": "ipython",
    "version": 3
   },
   "file_extension": ".py",
   "mimetype": "text/x-python",
   "name": "python",
   "nbconvert_exporter": "python",
   "pygments_lexer": "ipython3",
   "version": "3.7.3"
  },
  "pycharm": {
   "stem_cell": {
    "cell_type": "raw",
    "metadata": {
     "collapsed": false
    },
    "source": []
   }
  }
 },
 "nbformat": 4,
 "nbformat_minor": 4
}
