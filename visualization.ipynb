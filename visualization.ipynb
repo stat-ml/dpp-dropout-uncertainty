{
 "cells": [
  {
   "cell_type": "code",
   "execution_count": null,
   "metadata": {
    "collapsed": false,
    "jupyter": {
     "outputs_hidden": false
    },
    "pycharm": {
     "is_executing": false,
     "name": "#%%\n"
    }
   },
   "outputs": [],
   "source": [
    "import sys\n",
    "sys.path.append('..')\n",
    "%load_ext autoreload\n",
    "%autoreload 2"
   ]
  },
  {
   "cell_type": "code",
   "execution_count": null,
   "metadata": {
    "collapsed": false,
    "jupyter": {
     "outputs_hidden": false
    },
    "pycharm": {
     "is_executing": false,
     "name": "#%%\n"
    }
   },
   "outputs": [],
   "source": [
    "from itertools import product\n",
    "\n",
    "import numpy as np\n",
    "import matplotlib.pyplot as plt\n",
    "import seaborn as sns\n",
    "\n",
    "\n",
    "from dataloader.builder import build_dataset\n",
    "from model.mlp import MLP\n",
    "from uncertainty_estimator.masks import build_masks, DEFAULT_MASKS\n",
    "from experiment_setup import build_estimator, get_model\n",
    "from experiments.utils.data import scale, split_ood, multiple_kfold\n",
    "import torch\n",
    "\n",
    "from analysis.autoencoder import AutoEncoder \n",
    "\n",
    "plt.rcParams['figure.facecolor'] = 'white'\n",
    "torch.cuda.set_device(1)\n"
   ]
  },
  {
   "cell_type": "code",
   "execution_count": null,
   "metadata": {
    "collapsed": false,
    "jupyter": {
     "outputs_hidden": false
    },
    "pycharm": {
     "is_executing": false,
     "name": "#%%\n"
    }
   },
   "outputs": [],
   "source": [
    "config = {\n",
    "    'nn_runs': 100,\n",
    "    'runs': 2,\n",
    "    'max_runs': 20,\n",
    "    'k_folds': 10,\n",
    "    'verbose': False,\n",
    "    'layers': [8, 256, 256, 128, 1],\n",
    "    'epochs': 10_000,\n",
    "    'validation_step': 50,\n",
    "    'acc_percentile': 0.1,\n",
    "    'patience': 3,\n",
    "    'dropout_rate': 0.2,\n",
    "    'dropout_uq': 0.5,\n",
    "    'batch_size': 256,\n",
    "    # 'dataset': 'kin8nm',\n",
    "    'dataset': 'naval_propulsion',\n",
    "    'ood_percentile': 90,\n",
    "    'with_ensembles': True,\n",
    "    'optimizer': {'type': 'Adadelta', 'weight_decay':1e-3}\n",
    "}"
   ]
  },
  {
   "cell_type": "code",
   "execution_count": null,
   "metadata": {
    "collapsed": false,
    "jupyter": {
     "outputs_hidden": false
    },
    "pycharm": {
     "is_executing": false,
     "name": "#%%\n"
    }
   },
   "outputs": [],
   "source": [
    "# Load dataset\n",
    "dataset = build_dataset(config['dataset'])\n",
    "\n",
    "x_train, y_train = dataset.dataset('train')\n",
    "x_val, y_val = dataset.dataset('val')\n",
    "config['layers'][0] = x_train.shape[-1]\n"
   ]
  },
  {
   "cell_type": "code",
   "execution_count": null,
   "metadata": {
    "collapsed": false,
    "jupyter": {
     "outputs_hidden": false
    },
    "pycharm": {
     "is_executing": false,
     "name": "#%%\n"
    }
   },
   "outputs": [],
   "source": [
    "x_train, x_val, x_scaler = scale(x_train, x_val)\n",
    "y_train, y_val, y_scaler = scale(y_train, y_val)"
   ]
  },
  {
   "cell_type": "code",
   "execution_count": null,
   "metadata": {
    "collapsed": false,
    "jupyter": {
     "outputs_hidden": false
    },
    "pycharm": {
     "is_executing": false,
     "name": "#%%\n"
    }
   },
   "outputs": [],
   "source": [
    "autoencoder = AutoEncoder(config['layers'][0], 128, 2, lr=1e-2)\n",
    "autoencoder.train()\n",
    "for e in range(500):\n",
    "    loss = autoencoder.fit(x_train)\n",
    "    if (e+1) % 5 == 0:\n",
    "        print(e+1, loss)\n"
   ]
  },
  {
   "cell_type": "code",
   "execution_count": null,
   "metadata": {
    "collapsed": false,
    "jupyter": {
     "outputs_hidden": false
    },
    "pycharm": {
     "is_executing": false,
     "name": "#%%\n"
    }
   },
   "outputs": [],
   "source": [
    "autoencoder.eval()\n",
    "def encode(x):\n",
    "    samples = torch.DoubleTensor(x).to('cuda')\n",
    "    encoded = autoencoder.encode(samples)\n",
    "    return encoded.cpu().detach().numpy()\n",
    "\n",
    "def decode(x):\n",
    "    samples = torch.DoubleTensor(x).to('cuda')\n",
    "    encoded = autoencoder.decode(samples)\n",
    "    return encoded.cpu().detach().numpy()\n"
   ]
  },
  {
   "cell_type": "code",
   "execution_count": null,
   "metadata": {
    "collapsed": false,
    "jupyter": {
     "outputs_hidden": false
    },
    "pycharm": {
     "is_executing": false,
     "name": "#%%\n"
    }
   },
   "outputs": [],
   "source": [
    "encoded_train = encode(x_train)\n",
    "plt.figure(figsize=(12, 10))\n",
    "sns.scatterplot(\n",
    "    x=encoded_train[:, 0], y=encoded_train[:, 1], hue=y_train.squeeze(),\n",
    "    palette=\"Accent\")\n"
   ]
  },
  {
   "cell_type": "code",
   "execution_count": null,
   "metadata": {
    "collapsed": false,
    "jupyter": {
     "outputs_hidden": false
    },
    "pycharm": {
     "is_executing": false,
     "name": "#%%\n"
    }
   },
   "outputs": [],
   "source": [
    "# Train or load model\n",
    "model = MLP(config['layers'], optimizer=config['optimizer'])\n",
    "model_path = f\"experiments/data/model_{config['dataset']}.ckpt\"\n",
    "model = get_model(model, model_path, (x_train, y_train), (x_val, y_val))\n"
   ]
  },
  {
   "cell_type": "code",
   "execution_count": null,
   "metadata": {
    "collapsed": false,
    "jupyter": {
     "outputs_hidden": false
    },
    "pycharm": {
     "is_executing": false,
     "name": "#%%\n"
    }
   },
   "outputs": [],
   "source": [
    "ngridx = 150\n",
    "ngridy = 150\n",
    "x = encoded_train[:, 0]\n",
    "y = encoded_train[:, 1]\n",
    "\n",
    "x1, x2 = 3*min(x), 3*max(x)\n",
    "y1, y2 = 3*min(y), 3*max(y)\n",
    "\n",
    "xi = np.linspace(x1, x2, ngridx)\n",
    "yi = np.linspace(y1, y2, ngridy)\n",
    "\n",
    "# Countour coord; for some reason they are ortogonal to usual coord in pyplot\n",
    "points = np.array(list(product(yi, xi)))\n",
    "x_grid = decode(points)\n",
    "x_grid.shape"
   ]
  },
  {
   "cell_type": "code",
   "execution_count": null,
   "metadata": {
    "collapsed": false,
    "jupyter": {
     "outputs_hidden": false
    },
    "pycharm": {
     "is_executing": false,
     "name": "#%%\n"
    }
   },
   "outputs": [],
   "source": [
    "\n",
    "# UE\n",
    "masks = build_masks(DEFAULT_MASKS)\n",
    "for name, mask in masks.items():\n",
    "    estimator = build_estimator('mcdue_masked', model, dropout_mask=mask)\n",
    "    estimations = estimator.estimate(x_grid)\n",
    "    zi = estimations.reshape((ngridx, ngridy))\n",
    "\n",
    "    fig, ax1 = plt.subplots(figsize=(16, 12))\n",
    "    ax1.contour(xi, yi, zi, levels=14, linewidths=0.5, colors='k')\n",
    "    cntr1 = ax1.contourf(xi, yi, zi, levels=14, cmap=\"gray\")\n",
    "    fig.colorbar(cntr1, ax=ax1)\n",
    "\n",
    "    ax1.scatter(x, y, c=y_train.squeeze(), alpha=0.5)\n",
    "    ax1.set(xlim=(x1, x2), ylim=(y1, y2))\n",
    "    ax1.set_title('%s grid and contour (%d points, %d grid points)' %\n",
    "                  (name, len(x), ngridx * ngridy))"
   ]
  },
  {
   "cell_type": "code",
   "execution_count": null,
   "metadata": {
    "collapsed": false,
    "jupyter": {
     "outputs_hidden": false
    },
    "pycharm": {
     "is_executing": false,
     "name": "#%%\n"
    }
   },
   "outputs": [],
   "source": [
    "decode(np.array([[10, 0.7]]))\n"
   ]
  },
  {
   "cell_type": "code",
   "execution_count": null,
   "metadata": {
    "collapsed": false,
    "jupyter": {
     "outputs_hidden": false
    },
    "pycharm": {
     "is_executing": false,
     "name": "#%%\n"
    }
   },
   "outputs": [],
   "source": [
    "\n"
   ]
  }
 ],
 "metadata": {
  "kernelspec": {
   "display_name": "Python 3",
   "language": "python",
   "name": "python3"
  },
  "language_info": {
   "codemirror_mode": {
    "name": "ipython",
    "version": 3
   },
   "file_extension": ".py",
   "mimetype": "text/x-python",
   "name": "python",
   "nbconvert_exporter": "python",
   "pygments_lexer": "ipython3",
   "version": "3.7.3"
  },
  "pycharm": {
   "stem_cell": {
    "cell_type": "raw",
    "source": [],
    "metadata": {
     "collapsed": false
    }
   }
  }
 },
 "nbformat": 4,
 "nbformat_minor": 4
}