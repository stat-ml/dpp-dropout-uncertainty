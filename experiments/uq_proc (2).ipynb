{
 "cells": [
  {
   "cell_type": "code",
   "execution_count": null,
   "metadata": {},
   "outputs": [],
   "source": [
    "import sys\n",
    "sys.path = ['/home/etsymbalov/.local/lib/python3.6/site-packages'] + sys.path\n",
    "import torch\n",
    "from torch.nn.functional import elu"
   ]
  },
  {
   "cell_type": "code",
   "execution_count": null,
   "metadata": {},
   "outputs": [],
   "source": [
    "# !python -m pip install torch==1.5.0+cu92 torchvision==0.6.0+cu92 -f https://download.pytorch.org/whl/torch_stable.html --user"
   ]
  },
  {
   "cell_type": "code",
   "execution_count": null,
   "metadata": {},
   "outputs": [],
   "source": [
    "torch.__version__"
   ]
  },
  {
   "cell_type": "code",
   "execution_count": null,
   "metadata": {},
   "outputs": [],
   "source": [
    "# !python -m pip install alpaca-ml --user --upgrade --force\n",
    "# я и руками ставил"
   ]
  },
  {
   "cell_type": "code",
   "execution_count": null,
   "metadata": {},
   "outputs": [],
   "source": [
    "from torch.nn.functional import leaky_relu"
   ]
  },
  {
   "cell_type": "code",
   "execution_count": null,
   "metadata": {},
   "outputs": [],
   "source": []
  },
  {
   "cell_type": "code",
   "execution_count": null,
   "metadata": {},
   "outputs": [],
   "source": [
    "import os\n",
    "import pickle\n",
    "import random\n",
    "from pathlib import Path\n",
    "\n",
    "import pandas as pd\n",
    "# import torch\n",
    "# from torch.nn.functional import elu\n",
    "import numpy as np\n",
    "import matplotlib.pyplot as plt\n",
    "\n",
    "from alpaca.uncertainty_estimator.masks import build_masks, DEFAULT_MASKS\n",
    "from alpaca.model.ensemble import MLPEnsemble\n",
    "from alpaca.uncertainty_estimator import build_estimator\n",
    "from alpaca.analysis.metrics import get_uq_metrics\n",
    "\n",
    "plt.rcParams['figure.facecolor'] = 'white'"
   ]
  },
  {
   "cell_type": "code",
   "execution_count": null,
   "metadata": {},
   "outputs": [],
   "source": [
    "SEED = 10 \n",
    "torch.manual_seed(SEED)\n",
    "np.random.seed(SEED)\n",
    "random.seed(SEED)\n",
    "\n",
    "torch.cuda.set_device(0)\n",
    "torch.backends.cudnn.deterministic = True\n",
    "torch.backends.cudnn.benchmark = False"
   ]
  },
  {
   "cell_type": "code",
   "execution_count": null,
   "metadata": {},
   "outputs": [],
   "source": [
    "def construct_estimator(model, model_type, name):\n",
    "    if model_type == 'mask': \n",
    "        mask = masks[name]\n",
    "        msk = build_estimator(\n",
    "            'mcdue_masked', model, nn_runs=config['nn_runs'], dropout_mask=mask,\n",
    "            dropout_rate=config['dropout_uq'])\n",
    "        msk.tol_level=1e-5\n",
    "        return msk\n",
    "    elif model_type == 'emask': \n",
    "        mask = emasks[name]\n",
    "        msk = build_estimator(\n",
    "            'emcdue_masked', model, nn_runs=config['nn_runs'], dropout_mask=mask,\n",
    "            dropout_rate=config['dropout_uq'])\n",
    "        msk.tol_level=1e-5\n",
    "        return msk\n",
    "    else:\n",
    "        return build_estimator(name, model)\n",
    "\n",
    "\n",
    "class Evaluator:    \n",
    "    def __init__(self, x_test, y_test, y_scaler, tag='standard'):\n",
    "        self.x_test = torch.DoubleTensor(x_test).cuda()\n",
    "        self.y_test = y_test\n",
    "        self.unscale = lambda y : y_scaler.inverse_transform(y) \n",
    "        self.tag = tag\n",
    "        self.results = []\n",
    "\n",
    "    def bench(self, model, name, model_type='mask'): \n",
    "        predictions = model(self.x_test).cpu().detach().numpy()\n",
    "        \n",
    "        errors = np.abs(predictions - self.y_test)\n",
    "        \n",
    "        scaled_errors = self.unscale(predictions) - self.unscale(self.y_test)\n",
    "        rmse = np.sqrt(np.mean(np.square(scaled_errors)))\n",
    "\n",
    "        estimator = construct_estimator(model, model_type, name)\n",
    "        if model_type == 'emask':\n",
    "            name = 'e_' + name\n",
    "        \n",
    "        for run in range(config['n_ue_runs']):\n",
    "            estimations = estimator.estimate(self.x_test)\n",
    "            acc, ndcg, ll = get_uq_metrics(estimations, errors, \n",
    "                                           config['acc_percentile'],\n",
    "                                           bins = [80, 95, 99]\n",
    "                                          )\n",
    "            self.results.append([acc, ndcg, ll, rmse, name, self.tag])\n",
    "            if hasattr(estimator, 'reset'):\n",
    "                estimator.reset()\n"
   ]
  },
  {
   "cell_type": "code",
   "execution_count": null,
   "metadata": {},
   "outputs": [],
   "source": [
    "# folder = Path('./experiments/exp5_smot')\n",
    "folder = Path('data/regression_2')\n",
    "files = [file for file in os.listdir(folder) if file.endswith('.pickle')]\n"
   ]
  },
  {
   "cell_type": "code",
   "execution_count": null,
   "outputs": [],
   "source": [
    "files\n"
   ],
   "metadata": {
    "collapsed": false,
    "pycharm": {
     "name": "#%%\n"
    }
   }
  },
  {
   "cell_type": "code",
   "execution_count": null,
   "metadata": {},
   "outputs": [],
   "source": [
    "# with open(folder / file, 'rb') as f:\n",
    "#     dct = pickle.load(f)\n",
    "# with open('./paper_upgrade/A_log_exp.log', 'w') as f:\n",
    "#     f.write(f'{cnt} / {len(files)}')"
   ]
  },
  {
   "cell_type": "code",
   "execution_count": null,
   "metadata": {},
   "outputs": [],
   "source": [
    "DEFAULT_MASKS2 = DEFAULT_MASKS + ['decorrelating_sc', 'dpp']#, 'k_dpp']"
   ]
  },
  {
   "cell_type": "code",
   "execution_count": null,
   "metadata": {},
   "outputs": [],
   "source": [
    "DEFAULT_MASKS"
   ]
  },
  {
   "cell_type": "code",
   "execution_count": null,
   "metadata": {},
   "outputs": [],
   "source": [
    "data = []\n",
    "errs = []\n",
    "for cnt, file in enumerate(files[:3]):\n",
    "#     if cnt < 235:\n",
    "#         continue\n",
    "    try:\n",
    "        with open(folder / file, 'rb') as f:\n",
    "            dct = pickle.load(f)\n",
    "        with open('./A_log_exp.log', 'w') as f:\n",
    "            f.write(f'{cnt} / {len(files)}')\n",
    "        print(file)\n",
    "        config = dct['config']\n",
    "        config['n_ue_runs'] = 1\n",
    "        config['acc_percentile'] = .1\n",
    "        state_dict = dct['state_dict']\n",
    "        x_train, y_train, x_val, y_val, x_scaler, y_scaler = dct['data']\n",
    "\n",
    "        model = MLPEnsemble(\n",
    "            config['layers'], n_models=config['n_ens'], activation = elu,\n",
    "            reduction='mean')\n",
    "        model.load_state_dict(state_dict)\n",
    "\n",
    "        standard_evaluator = Evaluator(x_val, y_val, y_scaler, 'standard')\n",
    "        masks = build_masks(DEFAULT_MASKS2)\n",
    "        emasks = []\n",
    "        for i in range(config['n_ens']):\n",
    "            msk = build_masks(DEFAULT_MASKS2)\n",
    "            emasks.append(msk)\n",
    "        emasks = {key: [e[key] for e in emasks] for key in masks.keys()}\n",
    "\n",
    "        single_model = model.models[2]\n",
    "        for name in masks: \n",
    "            print(name, end = '|')\n",
    "            standard_evaluator.bench(single_model, name, 'mask')\n",
    "        standard_evaluator.bench(model, 'eue', 'ensemble')    \n",
    "        for name in emasks: \n",
    "            print(name, end = '*|')\n",
    "            standard_evaluator.bench(model, name, 'emask')\n",
    "        mask_df = pd.DataFrame(standard_evaluator.results, \n",
    "                           columns=['Acc', 'NDCG', 'LL',\n",
    "                                    'RMSE', 'Mask', 'Tag'])\n",
    "        mask_df['fname'] = file\n",
    "        data.append(mask_df)\n",
    "        pd.concat(data).to_csv('./AAAA_experiment_results.csv', index = None)\n",
    "    except Exception as e:\n",
    "        errs.append([e,cnt,file])"
   ]
  },
  {
   "cell_type": "code",
   "execution_count": null,
   "metadata": {},
   "outputs": [],
   "source": [
    "pd.concat(data).head(50)"
   ]
  },
  {
   "cell_type": "code",
   "execution_count": null,
   "metadata": {},
   "outputs": [],
   "source": []
  }
 ],
 "metadata": {
  "kernelspec": {
   "display_name": "Python 3",
   "language": "python",
   "name": "python3"
  },
  "language_info": {
   "codemirror_mode": {
    "name": "ipython",
    "version": 3
   },
   "file_extension": ".py",
   "mimetype": "text/x-python",
   "name": "python",
   "nbconvert_exporter": "python",
   "pygments_lexer": "ipython3",
   "version": "3.6.7"
  }
 },
 "nbformat": 4,
 "nbformat_minor": 2
}