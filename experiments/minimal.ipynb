{
 "cells": [
  {
   "cell_type": "code",
   "execution_count": null,
   "metadata": {
    "collapsed": true
   },
   "outputs": [],
   "source": [
    "import sys\n",
    "sys.path.append('..')\n",
    "%load_ext autoreload\n",
    "%autoreload 2\n"
   ]
  },
  {
   "cell_type": "code",
   "execution_count": null,
   "outputs": [],
   "source": [
    "import os\n",
    "from pathlib import Path\n",
    "import random\n",
    "\n",
    "import matplotlib.pyplot as plt\n",
    "import pickle\n",
    "import torch\n",
    "import numpy as np\n",
    "from sklearn.model_selection import train_test_split\n",
    "\n",
    "# from experiment_setup import get_model, set_random, build_estimator\n",
    "from alpaca.model.ensemble import MLPEnsemble\n",
    "from alpaca.dataloader.builder import build_dataset\n",
    "from alpaca.uncertainty_estimator import build_estimator\n",
    "from alpaca.analysis.metrics import get_uq_metrics\n",
    "from experiments.utils.data import scale, multiple_kfold\n",
    "\n",
    "plt.rcParams['figure.facecolor'] = 'white'\n",
    "\n",
    "from catalyst.utils.seed import set_global_seed"
   ],
   "metadata": {
    "collapsed": false,
    "pycharm": {
     "name": "#%%\n"
    }
   }
  },
  {
   "cell_type": "code",
   "execution_count": null,
   "outputs": [],
   "source": [
    "SEED = 10\n",
    "torch.manual_seed(SEED)\n",
    "np.random.seed(SEED)\n",
    "random.seed(SEED)\n",
    "\n",
    "torch.cuda.set_device(0)\n",
    "torch.backends.cudnn.deterministic = True\n",
    "torch.backends.cudnn.benchmark = False\n",
    "\n"
   ],
   "metadata": {
    "collapsed": false,
    "pycharm": {
     "name": "#%%\n"
    }
   }
  },
  {
   "cell_type": "code",
   "execution_count": null,
   "outputs": [],
   "source": [
    "config = {\n",
    "    'layers': [8, 128, 128, 64, 1],\n",
    "    'n_ens': 2,\n",
    "    'dropout_rate': 0.5,\n",
    "    'dropout_uq': 0.5,\n",
    "    'acc_percentile': .1\n",
    "}"
   ],
   "metadata": {
    "collapsed": false,
    "pycharm": {
     "name": "#%%\n"
    }
   }
  },
  {
   "cell_type": "code",
   "execution_count": null,
   "outputs": [],
   "source": [
    "\n",
    "# over datasets\n",
    "dataset_name = 'boston_housing'\n",
    "print(f'=={dataset_name}==')\n",
    "dataset = build_dataset(dataset_name, val_split=0.0)\n",
    "x_set, y_set = dataset.dataset('train')\n",
    "config['layers'][0] = x_set.shape[-1]\n",
    "\n",
    "x_train, x_val, y_train, y_val = train_test_split(x_set, y_set, train_size=0.2)\n",
    "x_train, x_val, x_scaler = scale(x_train, x_val)\n",
    "y_train, y_val, y_scaler = scale(y_train, y_val)\n",
    "\n",
    "train_opts = {\n",
    "\n",
    "}\n",
    "# over model runs\n",
    "ensemble = MLPEnsemble(config['layers'],\n",
    "                    n_models=config['n_ens'],\n",
    "                    reduction='mean')\n",
    "ensemble.fit((x_train, y_train),\n",
    "          (x_val, y_val),\n",
    "          **train_opts)\n",
    "model = ensemble.models[0]\n",
    "\n"
   ],
   "metadata": {
    "collapsed": false,
    "pycharm": {
     "name": "#%%\n"
    }
   }
  },
  {
   "cell_type": "code",
   "execution_count": null,
   "outputs": [],
   "source": [
    "name = 'cov_leverages'\n",
    "results = []\n",
    "x_val_tensor = torch.DoubleTensor(x_val).cuda()\n",
    "predictions = model(x_val_tensor).cpu().detach().numpy()\n",
    "\n",
    "errors = np.abs(predictions - y_val)\n",
    "\n",
    "unscale = lambda y : y_scaler.inverse_transform(y)\n",
    "scaled_errors = unscale(predictions) - unscale(y_val)\n",
    "rmse = np.sqrt(np.mean(np.square(scaled_errors)))\n",
    "\n",
    "estimator = build_estimator(\n",
    "    'mcdue_masked', model, nn_runs=100, dropout_mask=name, dropout_rate=config['dropout_uq'])\n",
    "\n",
    "estimations = estimator.estimate(x_val_tensor)\n",
    "acc, ndcg, ll = get_uq_metrics(estimations, errors,\n",
    "                               config['acc_percentile'],\n",
    "                               bins = [80, 95, 99]\n",
    "                              )\n",
    "results.append([acc, ndcg, ll, rmse, name ])\n",
    "results[0][2]\n"
   ],
   "metadata": {
    "collapsed": false,
    "pycharm": {
     "name": "#%%\n"
    }
   }
  },
  {
   "cell_type": "code",
   "execution_count": null,
   "outputs": [],
   "source": [
    "\n"
   ],
   "metadata": {
    "collapsed": false,
    "pycharm": {
     "name": "#%%\n"
    }
   }
  }
 ],
 "metadata": {
  "kernelspec": {
   "display_name": "Python 3",
   "language": "python",
   "name": "python3"
  },
  "language_info": {
   "codemirror_mode": {
    "name": "ipython",
    "version": 2
   },
   "file_extension": ".py",
   "mimetype": "text/x-python",
   "name": "python",
   "nbconvert_exporter": "python",
   "pygments_lexer": "ipython2",
   "version": "2.7.6"
  }
 },
 "nbformat": 4,
 "nbformat_minor": 0
}