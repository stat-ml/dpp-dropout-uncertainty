{
 "cells": [
  {
   "cell_type": "code",
   "execution_count": null,
   "outputs": [],
   "source": [
    "# Let's build Dolan-More curves, see:\n",
    "# http://abelsiqueira.github.io/blog/introduction-to-performance-profile/"
   ],
   "metadata": {
    "collapsed": false,
    "pycharm": {
     "name": "#%%\n",
     "is_executing": false
    }
   }
  },
  {
   "cell_type": "code",
   "execution_count": null,
   "metadata": {
    "pycharm": {
     "is_executing": false
    }
   },
   "outputs": [],
   "source": [
    "from pathlib import Path\n",
    "import random\n",
    "\n",
    "import seaborn as sns\n",
    "import pandas as pd\n",
    "import numpy as np\n",
    "import matplotlib.pyplot as plt\n",
    "import torch\n",
    "%matplotlib inline"
   ]
  },
  {
   "cell_type": "code",
   "execution_count": null,
   "outputs": [],
   "source": [
    "SEED = 10\n",
    "torch.manual_seed(SEED)\n",
    "np.random.seed(SEED)\n",
    "random.seed(SEED)\n",
    "\n",
    "torch.cuda.set_device(0)\n",
    "torch.backends.cudnn.deterministic = True\n",
    "torch.backends.cudnn.benchmark = False\n"
   ],
   "metadata": {
    "collapsed": false,
    "pycharm": {
     "name": "#%%\n",
     "is_executing": false
    }
   }
  },
  {
   "cell_type": "code",
   "execution_count": null,
   "metadata": {
    "pycharm": {
     "is_executing": false
    }
   },
   "outputs": [],
   "source": [
    "folder = Path('./data/regression')\n",
    "df = pd.read_csv(folder / 'experiment_results.csv').drop_duplicates()"
   ]
  },
  {
   "cell_type": "code",
   "execution_count": null,
   "metadata": {
    "pycharm": {
     "is_executing": false
    }
   },
   "outputs": [],
   "source": [
    "emasks = []\n",
    "masks = []\n",
    "for msk in df.Mask.unique():\n",
    "    if msk[:2] == 'e_':\n",
    "        emasks.append(msk)\n",
    "    elif msk != 'eue':\n",
    "        masks.append(msk)\n",
    "print(masks)\n",
    "print(emasks)"
   ]
  },
  {
   "cell_type": "code",
   "execution_count": null,
   "metadata": {
    "pycharm": {
     "is_executing": false
    }
   },
   "outputs": [],
   "source": [
    "dsets = []\n",
    "for fname in df.fname:\n",
    "    dsets.append(fname.split('_')[0])\n",
    "df['dset'] = dsets"
   ]
  },
  {
   "cell_type": "code",
   "execution_count": null,
   "metadata": {
    "pycharm": {
     "is_executing": false
    }
   },
   "outputs": [],
   "source": []
  },
  {
   "cell_type": "code",
   "execution_count": null,
   "outputs": [],
   "source": [
    "# %%time\n",
    "large_data = []\n",
    "metric = 'Acc'\n",
    "for fname, df_temp in df.groupby('fname'):\n",
    "    data = []\n",
    "    assert len(df_temp[df_temp.Mask == 'eue']) == 1\n",
    "    eue_performance = df_temp[df_temp.Mask == 'eue'][metric].values[0]\n",
    "    dct_single = {'eue': eue_performance}\n",
    "    for mask in masks:\n",
    "        perf = df_temp[df_temp.Mask == mask][metric].values[0]\n",
    "        dct_single[mask] = perf\n",
    "    dct_single = {k: 1./v for k, v in dct_single.items()}\n",
    "    data.append(dct_single)\n",
    "    \n",
    "    df_res = pd.DataFrame(data)\n",
    "    normalized_values = df_res.values/df_res.min(axis = 1).values[:,None]\n",
    "    df_res = pd.DataFrame(normalized_values, columns = df_res.columns)\n",
    "    large_data.append(df_res)"
   ],
   "metadata": {
    "collapsed": false,
    "pycharm": {
     "name": "#%%\n",
     "is_executing": false
    }
   }
  },
  {
   "cell_type": "code",
   "execution_count": null,
   "metadata": {
    "pycharm": {
     "is_executing": false
    }
   },
   "outputs": [],
   "source": [
    "df_res = pd.concat(large_data)"
   ]
  },
  {
   "cell_type": "code",
   "execution_count": null,
   "metadata": {
    "pycharm": {
     "is_executing": false
    }
   },
   "outputs": [],
   "source": [
    "def make_dm_plot(df_res, masks, emasks,\n",
    "                 metric = 'some metric', \n",
    "                 exper = 'some exper',\n",
    "                 taus = np.linspace(1, 3, 101),\n",
    "                 plotter = plt.plot,\n",
    "                 **kwargs\n",
    "                ):\n",
    "    npp = len(df_res)\n",
    "    for msk in masks:\n",
    "        if 'eue' == msk:\n",
    "            continue\n",
    "        pas = []\n",
    "        for tau in taus:\n",
    "            pas.append(sum(df_res[msk].values <= tau)/npp)\n",
    "        print(f'{msk}, {pas[0]:.2f}')\n",
    "        plotter(taus, pas, label = msk,**kwargs)\n",
    "    for msk in emasks:\n",
    "        if 'eue' == msk:\n",
    "            continue\n",
    "        pas = []\n",
    "        for tau in taus:\n",
    "            pas.append(sum(df_res[msk].values <= tau)/npp)\n",
    "        print(f'{msk}, {pas[0]:.2f}')\n",
    "        plotter(taus, pas, label = msk,**kwargs)\n",
    "    pas = []\n",
    "    for tau in taus:\n",
    "        pas.append(sum(df_res['eue'].values <= tau)/npp)\n",
    "    print(f'{msk}, {pas[0]:.2f}')\n",
    "    plotter(taus, pas, 'k', label = 'eue',**kwargs)\n",
    "\n",
    "    plt.legend()\n",
    "    plt.title(metric + '|' + exper)"
   ]
  },
  {
   "cell_type": "code",
   "execution_count": null,
   "metadata": {
    "pycharm": {
     "is_executing": false
    }
   },
   "outputs": [],
   "source": [
    "plt.figure(figsize=(8,6))\n",
    "masks = ['mc_dropout', 'decorrelating_sc', 'dpp', 'k_dpp', \n",
    "         'eue']\n",
    "make_dm_plot(df_res[masks], masks, [], metric, f' ', \n",
    "             taus = np.linspace(1, 3, 101),lw=3, alpha=.8)\n",
    "plt.grid()\n",
    "plt.title('Accuracy for single NN UE')\n",
    "plt.legend(['MC dropout',\n",
    "            'decorrelation',\n",
    "            'dpp', 'k_dpp', 'ensemble'\n",
    "           ])\n",
    "plt.xlabel(r'$\\tau$')\n",
    "plt.ylabel(r'$\\rho_a(\\tau$)')\n",
    "plt.xlim(1, 3)\n",
    "plt.savefig('../figures/dolan_acc_single.png', dpi = 600)\n"
   ]
  },
  {
   "cell_type": "code",
   "execution_count": null,
   "metadata": {
    "pycharm": {
     "is_executing": false
    }
   },
   "outputs": [],
   "source": [
    "import seaborn as sns\n",
    "cnt = 1\n",
    "names_as_in_paper = [\n",
    "    'boston', 'concrete', 'energy', 'kin8nm',\n",
    "    'naval', 'ccpp', 'naval', 'red wine', 'yacht'\n",
    "]\n",
    "\n",
    "\n",
    "plt.figure(figsize=(10,20))\n",
    "for dset in df.dset.unique():\n",
    "    plt.subplot(4,2,cnt)\n",
    "    dfx = df[(df.dset == dset)]\n",
    "    g=sns.boxplot(x = 'LL', y = 'Mask', data = dfx)#, hue = 'dset')\n",
    "    if cnt % 2 == 0:\n",
    "        g.set(yticklabels=[])\n",
    "    plt.grid()\n",
    "    plt.title(names_as_in_paper[cnt-1])\n",
    "    cnt += 1\n",
    "plt.tight_layout()\n"
   ]
  },
  {
   "cell_type": "code",
   "execution_count": null,
   "metadata": {
    "pycharm": {
     "is_executing": false
    }
   },
   "outputs": [],
   "source": [
    "import seaborn as sns\n",
    "cnt = 1\n",
    "names_as_in_paper = [\n",
    "    'boston', 'concrete', 'energy', 'kin8nm',\n",
    "    'naval', 'ccpp', 'naval', 'red wine', 'yacht'\n",
    "]\n",
    "\n",
    "plt.figure(figsize=(10,12))\n",
    "for dset in df.dset.unique():\n",
    "    plt.subplot(4,2,cnt)\n",
    "    dfx = df[(df.dset == dset) & (df.Mask.isin(masks))]\n",
    "    g=sns.boxplot(x = 'LL', y = 'Mask', data = dfx)\n",
    "    print(dset)\n",
    "    g.set(ylabel='')\n",
    "    if cnt % 2 == 0:\n",
    "        g.set(yticklabels=[])\n",
    "    else:\n",
    "        g.set(yticklabels=['MC dropout', 'decorrelation', 'dpp', 'k_dpp', 'eue'])\n",
    "    plt.grid()\n",
    "    plt.title(names_as_in_paper[cnt-1])\n",
    "    cnt += 1\n",
    "plt.tight_layout()\n",
    "plt.savefig('../figures/LL_UCI_single.png', dpi = 600)"
   ]
  },
  {
   "cell_type": "code",
   "execution_count": null,
   "outputs": [],
   "source": [
    "cnt = 1\n",
    "names_as_in_paper = [\n",
    "    'boston', 'concrete', 'energy', 'kin8nm',\n",
    "    'naval', 'ccpp', 'naval', 'red wine', 'yacht'\n",
    "]\n",
    "\n",
    "plt.figure(figsize=(10,12))\n",
    "\n",
    "for dset in df.dset.unique():\n",
    "    plt.subplot(4,2,cnt)\n",
    "    dfx = df[(df.dset == dset) & (df.Mask.isin(emasks))]\n",
    "    g=sns.boxplot(x = 'LL', y = 'Mask', data = dfx)\n",
    "    g.set(ylabel='')\n",
    "    if cnt % 2 == 0:\n",
    "        g.set(yticklabels=[])\n",
    "    else:\n",
    "        g.set(yticklabels=['MC dropout', 'decorrelation', 'dpp', 'k_dpp'])\n",
    "    plt.grid()\n",
    "    plt.title(names_as_in_paper[cnt-1])\n",
    "    cnt += 1\n",
    "plt.tight_layout()\n",
    "plt.savefig('../figures/LL_UCI_ens.png', dpi = 600)"
   ],
   "metadata": {
    "collapsed": false,
    "pycharm": {
     "name": "#%%\n",
     "is_executing": false
    }
   }
  },
  {
   "cell_type": "code",
   "execution_count": null,
   "outputs": [],
   "source": [
    "\n"
   ],
   "metadata": {
    "collapsed": false,
    "pycharm": {
     "name": "#%%\n"
    }
   }
  }
 ],
 "metadata": {
  "kernelspec": {
   "display_name": "Python 3",
   "language": "python",
   "name": "python3"
  },
  "language_info": {
   "codemirror_mode": {
    "name": "ipython",
    "version": 3
   },
   "file_extension": ".py",
   "mimetype": "text/x-python",
   "name": "python",
   "nbconvert_exporter": "python",
   "pygments_lexer": "ipython3",
   "version": "3.6.7"
  },
  "pycharm": {
   "stem_cell": {
    "cell_type": "raw",
    "source": [],
    "metadata": {
     "collapsed": false
    }
   }
  }
 },
 "nbformat": 4,
 "nbformat_minor": 2
}