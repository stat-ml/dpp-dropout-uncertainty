{
 "cells": [
  {
   "cell_type": "code",
   "execution_count": null,
   "outputs": [],
   "source": [
    "import random\n",
    "from alpaca.utils.datasets.builder import build_dataset\n",
    "import torch\n",
    "from torch import nn\n",
    "import torch.nn.functional as F\n",
    "from torch.utils.data import TensorDataset, DataLoader\n",
    "import matplotlib.pyplot as plt\n",
    "import numpy as np\n",
    "from sklearn.model_selection import train_test_split\n",
    "from sklearn.preprocessing import StandardScaler\n",
    "from scipy.special import logsumexp"
   ],
   "metadata": {
    "collapsed": false,
    "pycharm": {
     "name": "#%%\n"
    }
   }
  },
  {
   "cell_type": "code",
   "execution_count": null,
   "outputs": [],
   "source": [
    "\n",
    "def manual_seed(seed):\n",
    "    torch.manual_seed(seed)\n",
    "    torch.cuda.manual_seed_all(seed)\n",
    "    random.seed(seed)\n",
    "    np.random.seed(seed)\n",
    "\n",
    "manual_seed(42)\n"
   ],
   "metadata": {
    "collapsed": false,
    "pycharm": {
     "name": "#%%\n"
    }
   }
  },
  {
   "cell_type": "code",
   "execution_count": null,
   "outputs": [],
   "source": [
    "T = 10000\n",
    "dataset = build_dataset('boston_housing', val_split=0)\n",
    "x, y = dataset.dataset('train')\n",
    "dropout_value = 0.005\n",
    "lengthscale = 1e-2\n",
    "N = x.shape[0] * 0.9 # train size\n",
    "tau = 1e-3\n",
    "reg = lengthscale**2 * (1 - dropout_value) / (2. * N * tau)\n",
    "\n",
    "class Network(nn.Module):\n",
    "    def __init__(self, input_size, dropout_value):\n",
    "        super().__init__()\n",
    "        self.dropout_0 = nn.Dropout(dropout_value)\n",
    "        self.fc1 = nn.Linear(input_size, 50)\n",
    "        self.dropout_1 = nn.Dropout(dropout_value)\n",
    "        self.fc2 = nn.Linear(50, 50)\n",
    "        self.dropout_2 = nn.Dropout(dropout_value)\n",
    "        self.fc3 = nn.Linear(50, 1)\n",
    "\n",
    "    def forward(self, x):\n",
    "        x = self.dropout_0(x)\n",
    "        x = F.relu(self.fc1(x))\n",
    "        x = self.dropout_1(x)\n",
    "        x = F.relu(self.fc2(x))\n",
    "        x = self.dropout_2(x)\n",
    "        x = self.fc3(x)\n",
    "        return x\n",
    "\n",
    "def loader(x_array, y_array, batch_size=32):\n",
    "    dataset = TensorDataset(torch.Tensor(x_array), torch.Tensor(y_array))\n",
    "    return DataLoader(dataset, batch_size=batch_size)\n",
    "\n",
    "def rmse(values, predictions):\n",
    "    return np.sqrt(np.mean(np.square(values - predictions)))\n",
    "\n",
    "\n",
    "def rmse_nll(model, T, x_test, y_test, y_scaler, tau, dropout=True):\n",
    "    y_test_unscaled =  y_scaler.inverse_transform(y_test)\n",
    "    if dropout:\n",
    "        model.train()\n",
    "    else:\n",
    "        model.eval()\n",
    "\n",
    "    with torch.no_grad():\n",
    "        y_hat = np.array([y_scaler.inverse_transform(model(torch.Tensor(x_test)).numpy()) for _ in range(T)])\n",
    "    y_pred = np.mean(y_hat, axis=0)\n",
    "    ll = np.mean((logsumexp(-0.5 * tau * (y_test_unscaled[None] - y_hat)**2., 0) - np.log(T)\n",
    "            - 0.5*np.log(2*np.pi) + 0.5*np.log(tau)))\n",
    "    return rmse(y_test_unscaled, y_pred), ll\n"
   ],
   "metadata": {
    "collapsed": false,
    "pycharm": {
     "name": "#%%\n"
    }
   }
  },
  {
   "cell_type": "code",
   "source": [],
   "metadata": {
    "collapsed": false,
    "pycharm": {
     "name": "#%%\n"
    }
   },
   "execution_count": null,
   "outputs": []
  },
  {
   "cell_type": "code",
   "execution_count": null,
   "outputs": [],
   "source": [
    "\n",
    "def split_and_scale(x, y):\n",
    "    # Load dat\n",
    "    x_train, x_test, y_train, y_test = train_test_split(x, y, test_size=0.1)\n",
    "    x_train, x_val, y_train, y_val = train_test_split(x_train, y_train, test_size=0.01)\n",
    "\n",
    "    # Scaler\n",
    "    scaler = StandardScaler()\n",
    "    x_train = scaler.fit_transform(x_train)\n",
    "    x_test = scaler.transform(x_test)\n",
    "\n",
    "    y_scaler = StandardScaler()\n",
    "    y_train = y_scaler.fit_transform(y_train)\n",
    "    y_test = y_scaler.transform(y_test)\n",
    "\n",
    "    return x_train, y_train, x_test, y_test, y_scaler\n",
    "\n",
    "\n",
    "def build_and_train(x_train, y_train, epochs, tau, dropout_value):\n",
    "    reg = lengthscale**2 * (1 - dropout_value) / (2. * N * tau)\n",
    "    train_loader = loader(x_train, y_train)\n",
    "\n",
    "    model = Network(x_train.shape[1], dropout_value)\n",
    "    model.train()\n",
    "    optimizer = torch.optim.Adam(model.parameters(), lr=1e-2, weight_decay=reg)\n",
    "    criterion = nn.MSELoss()\n",
    "    train_losses = []\n",
    "\n",
    "    for epoch in range(epochs):\n",
    "        losses = []\n",
    "        for x_batch, y_batch in train_loader:\n",
    "            preds = model(x_batch)\n",
    "            optimizer.zero_grad()\n",
    "            loss = criterion(y_batch, preds)\n",
    "            loss.backward()\n",
    "            optimizer.step()\n",
    "            losses.append(loss.item())\n",
    "        if epoch % 10 == 0:\n",
    "            train_losses.append(np.mean(losses))\n",
    "    return model\n",
    "\n"
   ],
   "metadata": {
    "collapsed": false,
    "pycharm": {
     "name": "#%%\n"
    }
   }
  },
  {
   "cell_type": "code",
   "execution_count": null,
   "outputs": [],
   "source": [
    "x_train, y_train, x_test, y_test, y_scaler = split_and_scale(x, y)\n",
    "results = []\n",
    "for local_tau in np.logspace(-5, 1, 25):\n",
    "    for local_dropout in [0.05]:\n",
    "        model = build_and_train(x_train, y_train, 50, local_tau, local_dropout)\n",
    "        error, ll = rmse_nll(model, 1, x_test, y_test, y_scaler, dropout=False, tau=local_tau)\n",
    "        results.append((ll, error, (local_tau, local_dropout)))\n",
    "\n",
    "best_tau, best_dropout = sorted(results, key=lambda p: p[0])[-1][-1]\n",
    "print(results)\n",
    "print(best_tau, best_dropout)\n"
   ],
   "metadata": {
    "collapsed": false,
    "pycharm": {
     "name": "#%%\n"
    }
   }
  },
  {
   "cell_type": "code",
   "execution_count": null,
   "outputs": [],
   "source": [
    "vanilla_rmse = []\n",
    "vanilla_ll = []\n",
    "mc_rmse = []\n",
    "mc_ll = []\n",
    "\n",
    "for i in range(20):\n",
    "    print(i)\n",
    "    x_train, y_train, x_test, y_test, y_scaler = split_and_scale(x, y)\n",
    "    model = build_and_train(x_train, y_train, 400, best_tau, best_dropout)\n",
    "\n",
    "    model.eval()\n",
    "    with torch.no_grad():\n",
    "        test_loss = rmse(\n",
    "            y_scaler.inverse_transform(y_test),\n",
    "            y_scaler.inverse_transform(model(torch.Tensor(x_test)).numpy())\n",
    "        )\n",
    "    error, ll = rmse_nll(model, 1, x_test, y_test, y_scaler, tau=best_tau, dropout=False)\n",
    "    vanilla_rmse.append(test_loss)\n",
    "    vanilla_ll.append(ll)\n",
    "    error, ll = rmse_nll(model, T, x_test, y_test, y_scaler, tau=best_tau, dropout=True)\n",
    "    mc_rmse.append(error)\n",
    "    mc_ll.append(ll)\n",
    "\n"
   ],
   "metadata": {
    "collapsed": false,
    "pycharm": {
     "name": "#%%\n"
    }
   }
  },
  {
   "cell_type": "code",
   "execution_count": null,
   "outputs": [],
   "source": [
    "plt.boxplot(vanilla_rmse)\n",
    "plt.boxplot(mc_rmse)\n",
    "plt.show()"
   ],
   "metadata": {
    "collapsed": false,
    "pycharm": {
     "name": "#%%\n"
    }
   }
  },
  {
   "cell_type": "code",
   "execution_count": null,
   "outputs": [],
   "source": [
    "print(np.mean(vanilla_rmse), np.std(vanilla_rmse))\n",
    "print(np.mean(vanilla_ll), np.std(vanilla_ll))\n",
    "print(np.mean(mc_rmse), np.std(mc_rmse))\n",
    "print(np.mean(mc_ll), np.std(mc_ll))\n",
    "#"
   ],
   "metadata": {
    "collapsed": false,
    "pycharm": {
     "name": "#%%\n"
    }
   }
  }
 ],
 "metadata": {
  "kernelspec": {
   "display_name": "Python 3",
   "language": "python",
   "name": "python3"
  },
  "language_info": {
   "codemirror_mode": {
    "name": "ipython",
    "version": 2
   },
   "file_extension": ".py",
   "mimetype": "text/x-python",
   "name": "python",
   "nbconvert_exporter": "python",
   "pygments_lexer": "ipython2",
   "version": "2.7.6"
  }
 },
 "nbformat": 4,
 "nbformat_minor": 0
}