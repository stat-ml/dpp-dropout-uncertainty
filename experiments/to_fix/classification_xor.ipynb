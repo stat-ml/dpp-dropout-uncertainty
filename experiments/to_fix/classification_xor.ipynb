{
 "cells": [
  {
   "cell_type": "code",
   "execution_count": null,
   "metadata": {
    "collapsed": true,
    "pycharm": {
     "is_executing": false
    }
   },
   "outputs": [],
   "source": [
    "import sys\n",
    "sys.path.append('..')\n",
    "\n",
    "import torch\n",
    "from torch.utils.data import TensorDataset\n",
    "import numpy as np\n",
    "import matplotlib.pyplot as plt\n",
    "from scipy.special import expit as sigmoid\n",
    "from scipy.special import softmax\n",
    "\n",
    "from fastai.vision import Learner, accuracy\n",
    "from fastai.basic_data import DataBunch\n",
    "\n",
    "from model.dense import Dense\n",
    "from experiment_setup import build_estimator\n",
    "from uncertainty_estimator.masks import build_masks, build_mask, DEFAULT_MASKS\n",
    "from experiments.utils.fastai import Inferencer "
   ]
  },
  {
   "cell_type": "code",
   "execution_count": null,
   "outputs": [],
   "source": [
    "border = 1.2\n",
    "dots = 300\n",
    "xx, yy = np.meshgrid(np.linspace(-border, border, dots), np.linspace(-border, border, dots))\n",
    "x_mesh = np.vstack((xx.ravel(), yy.ravel())).T\n",
    "epochs = 10 \n",
    "layers = (2, 100, 100, 100, 2)\n"
   ],
   "metadata": {
    "collapsed": false,
    "pycharm": {
     "name": "#%%\n",
     "is_executing": false
    }
   }
  },
  {
   "cell_type": "code",
   "execution_count": null,
   "outputs": [],
   "source": [
    "def xor(points, noise_level=0.):\n",
    "    rng = np.random\n",
    "    x = 2*rng.random((points, 2)) - 1\n",
    "    noised_x = x + noise_level * (2*rng.random((points, 2)) - 1)\n",
    "    y = np.logical_xor(noised_x[:, 0] > 0, noised_x[:, 1] > 0)\n",
    "    return x, y\n",
    "\n",
    "\n",
    "def train(x, y, x_val, y_val):\n",
    "    loss_func = torch.nn.CrossEntropyLoss()\n",
    "    model = Dense(layers, dropout_rate=0.5)\n",
    "\n",
    "    train_ds = TensorDataset(torch.FloatTensor(x), torch.LongTensor(y))\n",
    "    val_ds = TensorDataset(torch.FloatTensor(x_val), torch.LongTensor(y_val))\n",
    "    data = DataBunch.create(train_ds, val_ds, bs=10)\n",
    "\n",
    "    learner = Learner(data, model, metrics=accuracy, loss_func=loss_func)\n",
    "\n",
    "    learner.fit_one_cycle(epochs)\n",
    "    return model\n",
    "\n",
    "\n",
    "def eval(model, x, y, method='basic_bern', noise_level=0):\n",
    "    t_mesh = torch.FloatTensor(x_mesh).cuda()\n",
    "    mask = build_mask(method)\n",
    "    estimator = build_estimator('bald_masked', model, dropout_mask=mask, num_classes=2, dropout_rate=0.5, keep_runs=True)\n",
    "    # estimations = sigmoid(estimator.estimate(t_val))\n",
    "    estimations = model(t_mesh)[:, 0]\n",
    "    plot(x, y, estimations, noise_level, 'prediction')\n",
    "    estimations = estimator.estimate(t_mesh)\n",
    "    estimations = estimations\n",
    "    plot(x, y, estimations, noise_level, method)\n",
    "    \n",
    "    \n",
    "def plot(x, y, estimations, noise_level, method):\n",
    "    Z = estimations.reshape(xx.shape)\n",
    "    plt.figure(figsize=(12, 9))\n",
    "    plt.scatter(x[:, 0], x[:, 1], s=50, c=y, cmap=plt.cm.gray, edgecolors=(0, 0, 0))\n",
    "    plt.imshow(Z, interpolation='nearest',\n",
    "                           extent=(xx.min(), xx.max(), yy.min(), yy.max()),\n",
    "                           aspect='auto', origin='lower', cmap=plt.cm.RdBu_r)\n",
    "    plt.title(f\"{method} with noise {noise_level}\")\n",
    "    plt.colorbar()  \n",
    "    plt.savefig(f\"data/xor/{method}_{noise_level}.png\")\n",
    "    plt.show()\n"
   ],
   "metadata": {
    "collapsed": false,
    "pycharm": {
     "name": "#%%\n",
     "is_executing": false
    }
   }
  },
  {
   "cell_type": "markdown",
   "source": [
    "### Plot for all masks"
   ],
   "metadata": {
    "collapsed": false,
    "pycharm": {
     "name": "#%% md\n",
     "is_executing": true
    }
   }
  },
  {
   "cell_type": "code",
   "execution_count": null,
   "outputs": [],
   "source": [
    "for noise_level in np.arange(0, 1, 0.1):\n",
    "    print(noise_level)\n",
    "    x, y = xor(500, noise_level)\n",
    "    x_val, y_val = xor(500, noise_level)\n",
    "    model = train(x, y, x_val, y_val)\n",
    "    for mask_name in DEFAULT_MASKS:\n",
    "        eval(model, x, y, mask_name, noise_level)\n",
    "        "
   ],
   "metadata": {
    "collapsed": false,
    "pycharm": {
     "name": "#%%\n",
     "is_executing": true
    }
   }
  },
  {
   "cell_type": "markdown",
   "source": [
    "### Point example for BALD calculation"
   ],
   "metadata": {
    "collapsed": false,
    "pycharm": {
     "name": "#%% md\n",
     "is_executing": true
    }
   }
  },
  {
   "cell_type": "code",
   "execution_count": null,
   "outputs": [],
   "source": [
    "t_mesh = torch.FloatTensor(x_mesh).cuda()\n",
    "mask = build_mask('basic_bern')\n",
    "estimator = build_estimator('bald_masked', model, dropout_mask=mask, num_classes=2, dropout_rate=0.5, keep_runs=True)\n",
    "# estimations = sigmoid(estimator.estimate(t_val))\n",
    "predictions = model(t_mesh)[:, 0]\n",
    "plot(x, y, predictions, noise_level, 'prediction')\n",
    "estimations = estimator.estimate(t_mesh)\n",
    "plot(x, y, estimations, noise_level, 'basic_bern')\n"
   ],
   "metadata": {
    "collapsed": false,
    "pycharm": {
     "name": "#%%\n",
     "is_executing": true
    }
   }
  },
  {
   "cell_type": "code",
   "execution_count": null,
   "outputs": [],
   "source": [
    "estimator.last_mcd_runs().shape\n",
    "point_mcd = estimator.last_mcd_runs()[45000] "
   ],
   "metadata": {
    "collapsed": false,
    "pycharm": {
     "name": "#%%\n",
     "is_executing": true
    }
   }
  },
  {
   "cell_type": "code",
   "execution_count": null,
   "outputs": [],
   "source": [
    "def entropy(runs):\n",
    "    return -np.sum(runs * np.log(np.clip(runs, 1e-8, 1)), axis=-1)"
   ],
   "metadata": {
    "collapsed": false,
    "pycharm": {
     "name": "#%%\n",
     "is_executing": true
    }
   }
  },
  {
   "cell_type": "code",
   "execution_count": null,
   "outputs": [],
   "source": [
    "mcd = softmax(point_mcd[:100], axis=-1)\n",
    "mcd"
   ],
   "metadata": {
    "collapsed": false,
    "pycharm": {
     "name": "#%%\n",
     "is_executing": true
    }
   }
  },
  {
   "cell_type": "code",
   "execution_count": null,
   "outputs": [],
   "source": [
    "first = np.mean(entropy(mcd))\n",
    "first"
   ],
   "metadata": {
    "collapsed": false,
    "pycharm": {
     "name": "#%%\n",
     "is_executing": true
    }
   }
  },
  {
   "cell_type": "code",
   "execution_count": null,
   "outputs": [],
   "source": [
    "second = entropy(np.mean(mcd, axis=-2))\n",
    "second"
   ],
   "metadata": {
    "collapsed": false,
    "pycharm": {
     "name": "#%%\n",
     "is_executing": true
    }
   }
  },
  {
   "cell_type": "code",
   "execution_count": null,
   "outputs": [],
   "source": [
    "second - first"
   ],
   "metadata": {
    "collapsed": false,
    "pycharm": {
     "name": "#%%\n",
     "is_executing": true
    }
   }
  },
  {
   "cell_type": "code",
   "execution_count": null,
   "outputs": [],
   "source": [
    "\n",
    "\n",
    "\n"
   ],
   "metadata": {
    "collapsed": false,
    "pycharm": {
     "name": "#%%\n",
     "is_executing": true
    }
   }
  }
 ],
 "metadata": {
  "kernelspec": {
   "display_name": "Python 3",
   "language": "python",
   "name": "python3"
  },
  "language_info": {
   "codemirror_mode": {
    "name": "ipython",
    "version": 2
   },
   "file_extension": ".py",
   "mimetype": "text/x-python",
   "name": "python",
   "nbconvert_exporter": "python",
   "pygments_lexer": "ipython2",
   "version": "2.7.6"
  },
  "pycharm": {
   "stem_cell": {
    "cell_type": "raw",
    "source": [],
    "metadata": {
     "collapsed": false
    }
   }
  }
 },
 "nbformat": 4,
 "nbformat_minor": 0
}