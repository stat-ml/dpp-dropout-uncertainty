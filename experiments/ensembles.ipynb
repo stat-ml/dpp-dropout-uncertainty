{
 "cells": [
  {
   "cell_type": "code",
   "execution_count": null,
   "outputs": [],
   "source": [
    "import sys\n",
    "sys.path.append('..')\n",
    "%load_ext autoreload\n",
    "%autoreload 2\n"
   ],
   "metadata": {
    "collapsed": false,
    "pycharm": {
     "name": "#%%\n"
    }
   }
  },
  {
   "cell_type": "code",
   "execution_count": null,
   "outputs": [],
   "source": [
    "import os\n",
    "from pathlib import Path\n",
    "import random\n",
    "\n",
    "import matplotlib.pyplot as plt\n",
    "import pickle\n",
    "import torch\n",
    "import numpy as np\n",
    "\n",
    "# from experiment_setup import get_model, set_random, build_estimator\n",
    "from alpaca.model.ensemble import MLPEnsemble\n",
    "from alpaca.model.mlp import MLP\n",
    "from alpaca.dataloader.builder import build_dataset\n",
    "from experiments.utils.data import scale, multiple_kfold\n",
    "\n",
    "plt.rcParams['figure.facecolor'] = 'white'"
   ],
   "metadata": {
    "collapsed": false,
    "pycharm": {
     "name": "#%%\n"
    }
   }
  },
  {
   "cell_type": "code",
   "execution_count": null,
   "outputs": [],
   "source": [
    "SEED = 10\n",
    "torch.manual_seed(SEED)\n",
    "np.random.seed(SEED)\n",
    "random.seed(SEED)\n",
    "\n",
    "torch.cuda.set_device(0)\n",
    "torch.backends.cudnn.deterministic = True\n",
    "torch.backends.cudnn.benchmark = False\n",
    "\n"
   ],
   "metadata": {
    "collapsed": false,
    "pycharm": {
     "name": "#%%\n"
    }
   }
  },
  {
   "cell_type": "code",
   "execution_count": null,
   "outputs": [],
   "source": [
    "config = {\n",
    "    'nn_runs': 100,\n",
    "    'runs': 2,\n",
    "    'max_runs': 20,\n",
    "    # Our train config\n",
    "   'layers': [8, 128, 128, 64, 1],\n",
    "    'epochs': 10_000,\n",
    "    'validation_step': 100,\n",
    "\n",
    "    'patience': 10,\n",
    "    'dropout_rate': 0.5,\n",
    "    'dropout_uq': 0.5,\n",
    "    'batch_size': 256,\n",
    "    'l2_reg': 1e-5,\n",
    "\n",
    "    'optimizer': {'type': 'Adam', 'lr': 0.01, 'weight_decay':1e-5},\n",
    "    'n_split_runs': 3,\n",
    "    'n_model_runs': 3,\n",
    "    'n_ens': 5,\n",
    "    'n_ue_runs': 5,\n",
    "    'k_folds': 10,\n",
    "    'verbose': False,\n",
    "}\n"
   ],
   "metadata": {
    "collapsed": false,
    "pycharm": {
     "name": "#%%\n"
    }
   }
  },
  {
   "cell_type": "code",
   "execution_count": null,
   "outputs": [],
   "source": [
    "train_opts = ['patience', 'dropout_rate', 'epochs', 'batch_size', 'validation_step', 'verbose']\n",
    "config['train_opts'] = {k: config[k] for k in config if k in train_opts}\n"
   ],
   "metadata": {
    "collapsed": false,
    "pycharm": {
     "name": "#%%\n"
    }
   }
  },
  {
   "cell_type": "code",
   "execution_count": null,
   "outputs": [],
   "source": [
    "# datasets = [\n",
    "#     'boston_housing', 'concrete', 'energy_efficiency',\n",
    "#     'kin8nm', 'naval_propulsion', 'ccpp', 'red_wine',\n",
    "#     'yacht_hydrodynamics'\n",
    "# ]"
   ],
   "metadata": {
    "collapsed": false,
    "pycharm": {
     "name": "#%%\n"
    }
   }
  },
  {
   "cell_type": "code",
   "execution_count": null,
   "outputs": [],
   "source": [
    "dataset_name = 'kin8nm'\n",
    "dataset = build_dataset(dataset_name, val_split=0.2)\n",
    "x_train, y_train = dataset.dataset('train')\n",
    "x_val, y_val = dataset.dataset('val')\n",
    "\n",
    "x_train, x_val, x_scaler = scale(x_train, x_val)\n",
    "y_train, y_val, y_scaler = scale(y_train, y_val)\n",
    "\n",
    "print(dataset_name, x_train.shape)\n",
    "config['layers'][0] = x_train.shape[-1]\n"
   ],
   "metadata": {
    "collapsed": false,
    "pycharm": {
     "name": "#%%\n"
    }
   }
  },
  {
   "cell_type": "code",
   "execution_count": null,
   "outputs": [],
   "source": [
    "model = MLP(config['layers'])\n"
   ],
   "metadata": {
    "collapsed": false,
    "pycharm": {
     "name": "#%%\n"
    }
   }
  },
  {
   "cell_type": "code",
   "execution_count": null,
   "outputs": [],
   "source": [
    "model.fit((x_train, y_train), (x_val, y_val))\n"
   ],
   "metadata": {
    "collapsed": false,
    "pycharm": {
     "name": "#%%\n"
    }
   }
  },
  {
   "cell_type": "code",
   "execution_count": null,
   "outputs": [],
   "source": [
    "x_val_tensor = torch.tensor(x_val)\n",
    "predictions = model(x_val_tensor.cuda()).cpu().detach().numpy()\n"
   ],
   "metadata": {
    "collapsed": false,
    "pycharm": {
     "name": "#%%\n"
    }
   }
  },
  {
   "cell_type": "code",
   "execution_count": null,
   "outputs": [],
   "source": [
    "unscale = lambda y : y_scaler.inverse_transform(y)\n",
    "\n",
    "scaled_errors = unscale(predictions) - unscale(y_val)\n",
    "rmse_single = np.sqrt(np.mean(np.square(scaled_errors)))"
   ],
   "metadata": {
    "collapsed": false,
    "pycharm": {
     "name": "#%%\n"
    }
   }
  },
  {
   "cell_type": "code",
   "execution_count": null,
   "outputs": [],
   "source": [
    "train_opts = ['patience', 'dropout_rate', 'epochs', 'batch_size', 'validation_step', 'verbose']\n",
    "config['train_opts'] = {k: config[k] for k in config if k in train_opts}"
   ],
   "metadata": {
    "collapsed": false,
    "pycharm": {
     "name": "#%%\n"
    }
   }
  },
  {
   "cell_type": "code",
   "execution_count": null,
   "outputs": [],
   "source": [
    "\n",
    "train_opts = config['train_opts'].copy()\n",
    "ensemble = MLPEnsemble(config['layers'],\n",
    "                    n_models=config['n_ens'],\n",
    "                    reduction='mean')\n",
    "ensemble.fit((x_train, y_train),\n",
    "          (x_val, y_val),\n",
    "          **train_opts)\n",
    "\n"
   ],
   "metadata": {
    "collapsed": false,
    "pycharm": {
     "name": "#%%\n"
    }
   }
  },
  {
   "cell_type": "code",
   "execution_count": null,
   "outputs": [],
   "source": [
    "predictions = ensemble(x_val_tensor.cuda()).cpu().detach().numpy()\n",
    "scaled_errors = unscale(predictions) - unscale(y_val)\n",
    "rmse_ensemble = np.sqrt(np.mean(np.square(scaled_errors)))\n"
   ],
   "metadata": {
    "collapsed": false,
    "pycharm": {
     "name": "#%%\n"
    }
   }
  },
  {
   "cell_type": "code",
   "execution_count": null,
   "outputs": [],
   "source": [
    "print(dataset_name)\n",
    "print('Single', rmse_single)\n",
    "print('Ensemble', rmse_ensemble)\n",
    "\n"
   ],
   "metadata": {
    "collapsed": false,
    "pycharm": {
     "name": "#%%\n"
    }
   }
  }
 ],
 "metadata": {
  "kernelspec": {
   "name": "python3",
   "language": "python",
   "display_name": "Python 3"
  },
  "language_info": {
   "codemirror_mode": {
    "name": "ipython",
    "version": 2
   },
   "file_extension": ".py",
   "mimetype": "text/x-python",
   "name": "python",
   "nbconvert_exporter": "python",
   "pygments_lexer": "ipython2",
   "version": "2.7.6"
  }
 },
 "nbformat": 4,
 "nbformat_minor": 0
}