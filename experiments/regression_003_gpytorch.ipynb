{
 "cells": [
  {
   "cell_type": "code",
   "execution_count": 7,
   "metadata": {
    "collapsed": true
   },
   "outputs": [
    {
     "name": "stdout",
     "output_type": "stream",
     "text": [
      "The autoreload extension is already loaded. To reload it, use:\n",
      "  %reload_ext autoreload\n"
     ]
    }
   ],
   "source": [
    "import math\n",
    "import torch\n",
    "import gpytorch\n",
    "from matplotlib import pyplot as plt\n",
    "\n",
    "%matplotlib inline\n",
    "%load_ext autoreload\n",
    "%autoreload 2"
   ]
  },
  {
   "cell_type": "code",
   "execution_count": 8,
   "outputs": [],
   "source": [
    "# Training data is 11 points in [0,1] inclusive regularly spaced\n",
    "train_x = torch.linspace(0, 1, 100)\n",
    "# True function is sin(2*pi*x) with Gaussian noise\n",
    "train_y = torch.sin(train_x * (2 * math.pi)) + torch.randn(train_x.size()) * 0.2\n"
   ],
   "metadata": {
    "collapsed": false,
    "pycharm": {
     "name": "#%%\n"
    }
   }
  },
  {
   "cell_type": "code",
   "execution_count": 9,
   "outputs": [],
   "source": [
    "class ExactGPModel(gpytorch.models.ExactGP):\n",
    "    def __init__(self, train_x, train_y, likelihood):\n",
    "        super(ExactGPModel, self).__init__(train_x, train_y, likelihood)\n",
    "        self.mean_module = gpytorch.means.ConstantMean()\n",
    "        self.covar_module = gpytorch.kernels.ScaleKernel(gpytorch.kernels.RBFKernel())\n",
    "\n",
    "    def forward(self, x):\n",
    "        mean_x = self.mean_module(x)\n",
    "        covar_x = self.covar_module(x)\n",
    "        return gpytorch.distributions.MultivariateNormal(mean_x, covar_x)\n",
    "\n",
    "# initialize likelihood and model\n",
    "likelihood = gpytorch.likelihoods.GaussianLikelihood()\n",
    "model = ExactGPModel(train_x, train_y, likelihood)"
   ],
   "metadata": {
    "collapsed": false,
    "pycharm": {
     "name": "#%%\n"
    }
   }
  },
  {
   "cell_type": "code",
   "execution_count": 10,
   "outputs": [
    {
     "name": "stdout",
     "output_type": "stream",
     "text": [
      "Iter 1/50 - Loss: 0.966   lengthscale: 0.693   noise: 0.693\n",
      "Iter 2/50 - Loss: 0.936   lengthscale: 0.644   noise: 0.644\n",
      "Iter 3/50 - Loss: 0.903   lengthscale: 0.598   noise: 0.598\n",
      "Iter 4/50 - Loss: 0.865   lengthscale: 0.555   noise: 0.554\n",
      "Iter 5/50 - Loss: 0.821   lengthscale: 0.514   noise: 0.513\n",
      "Iter 6/50 - Loss: 0.771   lengthscale: 0.476   noise: 0.474\n",
      "Iter 7/50 - Loss: 0.716   lengthscale: 0.440   noise: 0.437\n",
      "Iter 8/50 - Loss: 0.660   lengthscale: 0.405   noise: 0.402\n",
      "Iter 9/50 - Loss: 0.606   lengthscale: 0.373   noise: 0.369\n",
      "Iter 10/50 - Loss: 0.557   lengthscale: 0.343   noise: 0.339\n",
      "Iter 11/50 - Loss: 0.513   lengthscale: 0.315   noise: 0.310\n",
      "Iter 12/50 - Loss: 0.473   lengthscale: 0.291   noise: 0.283\n",
      "Iter 13/50 - Loss: 0.437   lengthscale: 0.271   noise: 0.259\n",
      "Iter 14/50 - Loss: 0.402   lengthscale: 0.254   noise: 0.236\n",
      "Iter 15/50 - Loss: 0.369   lengthscale: 0.240   noise: 0.215\n",
      "Iter 16/50 - Loss: 0.337   lengthscale: 0.228   noise: 0.195\n",
      "Iter 17/50 - Loss: 0.305   lengthscale: 0.219   noise: 0.178\n",
      "Iter 18/50 - Loss: 0.273   lengthscale: 0.213   noise: 0.162\n",
      "Iter 19/50 - Loss: 0.242   lengthscale: 0.208   noise: 0.147\n",
      "Iter 20/50 - Loss: 0.212   lengthscale: 0.205   noise: 0.133\n",
      "Iter 21/50 - Loss: 0.182   lengthscale: 0.204   noise: 0.121\n",
      "Iter 22/50 - Loss: 0.154   lengthscale: 0.204   noise: 0.110\n",
      "Iter 23/50 - Loss: 0.126   lengthscale: 0.206   noise: 0.100\n",
      "Iter 24/50 - Loss: 0.100   lengthscale: 0.208   noise: 0.091\n",
      "Iter 25/50 - Loss: 0.076   lengthscale: 0.212   noise: 0.083\n",
      "Iter 26/50 - Loss: 0.053   lengthscale: 0.217   noise: 0.076\n",
      "Iter 27/50 - Loss: 0.033   lengthscale: 0.223   noise: 0.069\n",
      "Iter 28/50 - Loss: 0.016   lengthscale: 0.230   noise: 0.063\n",
      "Iter 29/50 - Loss: 0.001   lengthscale: 0.238   noise: 0.058\n",
      "Iter 30/50 - Loss: -0.011   lengthscale: 0.246   noise: 0.053\n",
      "Iter 31/50 - Loss: -0.021   lengthscale: 0.255   noise: 0.049\n",
      "Iter 32/50 - Loss: -0.027   lengthscale: 0.265   noise: 0.046\n",
      "Iter 33/50 - Loss: -0.030   lengthscale: 0.274   noise: 0.043\n",
      "Iter 34/50 - Loss: -0.030   lengthscale: 0.284   noise: 0.040\n",
      "Iter 35/50 - Loss: -0.028   lengthscale: 0.293   noise: 0.038\n",
      "Iter 36/50 - Loss: -0.024   lengthscale: 0.302   noise: 0.036\n",
      "Iter 37/50 - Loss: -0.019   lengthscale: 0.308   noise: 0.035\n",
      "Iter 38/50 - Loss: -0.014   lengthscale: 0.313   noise: 0.033\n",
      "Iter 39/50 - Loss: -0.010   lengthscale: 0.314   noise: 0.033\n",
      "Iter 40/50 - Loss: -0.007   lengthscale: 0.314   noise: 0.032\n",
      "Iter 41/50 - Loss: -0.006   lengthscale: 0.311   noise: 0.031\n",
      "Iter 42/50 - Loss: -0.007   lengthscale: 0.307   noise: 0.031\n",
      "Iter 43/50 - Loss: -0.008   lengthscale: 0.301   noise: 0.031\n",
      "Iter 44/50 - Loss: -0.010   lengthscale: 0.295   noise: 0.032\n",
      "Iter 45/50 - Loss: -0.012   lengthscale: 0.289   noise: 0.032\n",
      "Iter 46/50 - Loss: -0.015   lengthscale: 0.284   noise: 0.033\n",
      "Iter 47/50 - Loss: -0.017   lengthscale: 0.279   noise: 0.033\n",
      "Iter 48/50 - Loss: -0.020   lengthscale: 0.275   noise: 0.034\n",
      "Iter 49/50 - Loss: -0.022   lengthscale: 0.272   noise: 0.035\n",
      "Iter 50/50 - Loss: -0.024   lengthscale: 0.269   noise: 0.036\n"
     ]
    }
   ],
   "source": [
    "# Find optimal model hyperparameters\n",
    "model.train()\n",
    "likelihood.train()\n",
    "\n",
    "# Use the adam optimizer\n",
    "optimizer = torch.optim.Adam(model.parameters(), lr=0.1)  # Includes GaussianLikelihood parameters\n",
    "\n",
    "# \"Loss\" for GPs - the marginal log likelihood\n",
    "mll = gpytorch.mlls.ExactMarginalLogLikelihood(likelihood, model)\n",
    "\n",
    "training_iter = 50\n",
    "for i in range(training_iter):\n",
    "    # Zero gradients from previous iteration\n",
    "    optimizer.zero_grad()\n",
    "    # Output from model\n",
    "    output = model(train_x)\n",
    "    # Calc loss and backprop gradients\n",
    "    loss = -mll(output, train_y)\n",
    "    loss.backward()\n",
    "    print('Iter %d/%d - Loss: %.3f   lengthscale: %.3f   noise: %.3f' % (\n",
    "        i + 1, training_iter, loss.item(),\n",
    "        model.covar_module.base_kernel.lengthscale.item(),\n",
    "        model.likelihood.noise.item()\n",
    "    ))\n",
    "    optimizer.step()\n"
   ],
   "metadata": {
    "collapsed": false,
    "pycharm": {
     "name": "#%%\n"
    }
   }
  },
  {
   "cell_type": "code",
   "execution_count": 13,
   "outputs": [],
   "source": [
    "test_x = torch.linspace(0, 1, 51).cuda()\n",
    "model.eval().cuda()\n",
    "likelihood.eval()\n",
    "\n",
    "# Test points are regularly spaced along [0,1]\n",
    "# Make predictions by feeding model through likelihood\n",
    "with torch.no_grad(), gpytorch.settings.fast_pred_var():\n",
    "    observed_pred = likelihood(model(test_x))\n",
    "    mean = observed_pred.mean\n",
    "    lower, upper = observed_pred.confidence_region()"
   ],
   "metadata": {
    "collapsed": false,
    "pycharm": {
     "name": "#%%\n"
    }
   }
  },
  {
   "cell_type": "code",
   "execution_count": 14,
   "outputs": [
    {
     "data": {
      "text/plain": "tensor([ 0.0199,  0.1269,  0.2371,  0.3485,  0.4591,  0.5669,  0.6698,  0.7657,\n         0.8524,  0.9281,  0.9910,  1.0394,  1.0720,  1.0878,  1.0860,  1.0662,\n         1.0284,  0.9729,  0.9006,  0.8125,  0.7100,  0.5951,  0.4697,  0.3363,\n         0.1973,  0.0554, -0.0868, -0.2263, -0.3608, -0.4875, -0.6042, -0.7087,\n        -0.7993, -0.8745, -0.9331, -0.9743, -0.9977, -1.0033, -0.9915, -0.9628,\n        -0.9182, -0.8591, -0.7868, -0.7032, -0.6100, -0.5092, -0.4028, -0.2929,\n        -0.1814, -0.0704,  0.0383], device='cuda:0')"
     },
     "execution_count": 14,
     "metadata": {},
     "output_type": "execute_result"
    }
   ],
   "source": [],
   "metadata": {
    "collapsed": false,
    "pycharm": {
     "name": "#%%\n"
    }
   }
  }
 ],
 "metadata": {
  "kernelspec": {
   "display_name": "Python 3",
   "language": "python",
   "name": "python3"
  },
  "language_info": {
   "codemirror_mode": {
    "name": "ipython",
    "version": 2
   },
   "file_extension": ".py",
   "mimetype": "text/x-python",
   "name": "python",
   "nbconvert_exporter": "python",
   "pygments_lexer": "ipython2",
   "version": "2.7.6"
  }
 },
 "nbformat": 4,
 "nbformat_minor": 0
}