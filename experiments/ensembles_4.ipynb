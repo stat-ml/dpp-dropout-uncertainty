{
 "cells": [
  {
   "cell_type": "code",
   "execution_count": null,
   "outputs": [],
   "source": [
    "%load_ext autoreload\n",
    "%autoreload 2"
   ],
   "metadata": {
    "collapsed": false,
    "pycharm": {
     "name": "#%%\n"
    }
   }
  },
  {
   "cell_type": "code",
   "execution_count": null,
   "outputs": [],
   "source": [
    "import os\n",
    "import pickle\n",
    "import random\n",
    "from pathlib import Path\n",
    "\n",
    "import seaborn as sns\n",
    "import pandas as pd\n",
    "import torch\n",
    "from torch.nn.functional import elu\n",
    "import numpy as np\n",
    "import matplotlib.pyplot as plt\n",
    "\n",
    "from alpaca.uncertainty_estimator.masks import build_masks, DEFAULT_MASKS\n",
    "from alpaca.analysis.metrics import uq_ll\n",
    "from alpaca.model.ensemble import MLPEnsemble\n",
    "from alpaca.uncertainty_estimator import build_estimator\n",
    "from alpaca.analysis.metrics import get_uq_metrics\n",
    "\n",
    "plt.rcParams['figure.facecolor'] = 'white'\n"
   ],
   "metadata": {
    "collapsed": false,
    "pycharm": {
     "name": "#%%\n"
    }
   }
  },
  {
   "cell_type": "code",
   "execution_count": null,
   "outputs": [],
   "source": [
    "SEED = 10\n",
    "torch.manual_seed(SEED)\n",
    "np.random.seed(SEED)\n",
    "random.seed(SEED)\n",
    "\n",
    "torch.cuda.set_device(0)\n",
    "torch.backends.cudnn.deterministic = True\n",
    "torch.backends.cudnn.benchmark = False\n"
   ],
   "metadata": {
    "collapsed": false,
    "pycharm": {
     "name": "#%%\n"
    }
   }
  },
  {
   "cell_type": "code",
   "execution_count": null,
   "outputs": [],
   "source": [
    "folder = Path('./data/regression')\n",
    "files = sorted([file for file in os.listdir(folder) if file.endswith('.pickle')])\n",
    "# files = [file for file in files if file.startswith('kin8')]\n",
    "\n"
   ],
   "metadata": {
    "collapsed": false,
    "pycharm": {
     "name": "#%%\n"
    }
   }
  },
  {
   "cell_type": "code",
   "execution_count": null,
   "outputs": [],
   "source": [
    "def load_setup(file):\n",
    "    print(file)\n",
    "    with open(folder / 'log_exp.log', 'w') as f:\n",
    "        f.write(f'{cnt} / {len(files)}')\n",
    "    with open(folder / file, 'rb') as f:\n",
    "        dct = pickle.load(f)\n",
    "    config = dct['config']\n",
    "    config['n_ue_runs'] = 1\n",
    "    config['acc_percentile'] = .1\n",
    "    state_dict = dct['state_dict']\n",
    "    x_train, y_train, x_val, y_val, x_scaler, y_scaler = dct['data']\n",
    "\n",
    "    ensemble = MLPEnsemble(\n",
    "        config['layers'], n_models=config['n_ens'], activation = elu,\n",
    "        reduction='mean')\n",
    "    ensemble.load_state_dict(state_dict)\n",
    "\n",
    "    model = ensemble.models[2]\n",
    "    return model, ensemble, x_train, y_train, x_val, y_val, x_scaler, y_scaler\n"
   ],
   "metadata": {
    "collapsed": false,
    "pycharm": {
     "name": "#%%\n"
    }
   }
  },
  {
   "cell_type": "code",
   "execution_count": null,
   "outputs": [],
   "source": [
    "accumulate = []\n",
    "data = []\n",
    "\n",
    "\n",
    "np.random.shuffle(files)\n",
    "for cnt, file in enumerate(files):\n",
    "    model, ensemble, x_train, y_train, x_val, y_val, x_scaler, y_scaler = load_setup(file)\n",
    "\n",
    "    x_val_tensor = torch.tensor(x_val)\n",
    "    unscale = lambda y : y_scaler.inverse_transform(y)\n",
    "\n",
    "    predictions = model(x_val_tensor.cuda()).cpu().detach().numpy()\n",
    "    errors = predictions - y_val\n",
    "    rmse_single = np.sqrt(np.mean(np.square(errors)))\n",
    "    accumulate.append([file[:4], 'single', rmse_single])\n",
    "\n",
    "    predictions = ensemble(x_val_tensor.cuda()).cpu().detach().numpy()\n",
    "    errors = predictions - y_val\n",
    "    rmse_single = np.sqrt(np.mean(np.square(errors)))\n",
    "    accumulate.append([file[:4], 'ensemble', rmse_single])\n",
    "\n",
    "    for mask_name in DEFAULT_MASKS:\n",
    "        estimator = build_estimator(\n",
    "            'mcdue_masked', model, nn_runs=100, keep_runs=True,\n",
    "            dropout_mask=mask_name)\n",
    "        estimator.estimate(torch.Tensor(x_val).double().cuda())\n",
    "        runs = estimator.last_mcd_runs()\n",
    "        predictions = np.mean(estimator.last_mcd_runs(), axis=-1)\n",
    "        errors = predictions - y_val[:, 0]\n",
    "        rmse_mask = np.sqrt(np.mean(np.square(errors)))\n",
    "        accumulate.append([file[:4], mask_name, rmse_mask])\n",
    "\n"
   ],
   "metadata": {
    "collapsed": false,
    "pycharm": {
     "name": "#%%\n"
    }
   }
  },
  {
   "cell_type": "code",
   "execution_count": null,
   "outputs": [],
   "source": [
    "plt.figure(figsize=(10, 6))\n",
    "\n",
    "accumulate2 = [record for record in accumulate if record[1] !='decorrelating_sc']\n",
    "df = pd.DataFrame(accumulate2, columns=['dataset', 'type', 'rmse'])\n",
    "sns.boxplot('dataset', 'rmse', hue='type', data=df)\n",
    "plt.savefig('rmse_masks.png', dpi=150)\n",
    "\n"
   ],
   "metadata": {
    "collapsed": false,
    "pycharm": {
     "name": "#%%\n"
    }
   }
  },
  {
   "cell_type": "code",
   "execution_count": null,
   "outputs": [],
   "source": [
    "\n"
   ],
   "metadata": {
    "collapsed": false,
    "pycharm": {
     "name": "#%%\n"
    }
   }
  },
  {
   "cell_type": "code",
   "execution_count": null,
   "outputs": [],
   "source": [
    "\n"
   ],
   "metadata": {
    "collapsed": false,
    "pycharm": {
     "name": "#%%\n"
    }
   }
  },
  {
   "cell_type": "code",
   "execution_count": null,
   "outputs": [],
   "source": [
    "\n"
   ],
   "metadata": {
    "collapsed": false,
    "pycharm": {
     "name": "#%%\n"
    }
   }
  },
  {
   "cell_type": "code",
   "execution_count": null,
   "outputs": [],
   "source": [
    "\n"
   ],
   "metadata": {
    "collapsed": false,
    "pycharm": {
     "name": "#%%\n"
    }
   }
  },
  {
   "cell_type": "code",
   "execution_count": null,
   "outputs": [],
   "source": [
    "\n"
   ],
   "metadata": {
    "collapsed": false,
    "pycharm": {
     "name": "#%%\n"
    }
   }
  }
 ],
 "metadata": {
  "kernelspec": {
   "name": "python3",
   "language": "python",
   "display_name": "Python 3"
  },
  "language_info": {
   "codemirror_mode": {
    "name": "ipython",
    "version": 2
   },
   "file_extension": ".py",
   "mimetype": "text/x-python",
   "name": "python",
   "nbconvert_exporter": "python",
   "pygments_lexer": "ipython2",
   "version": "2.7.6"
  }
 },
 "nbformat": 4,
 "nbformat_minor": 0
}