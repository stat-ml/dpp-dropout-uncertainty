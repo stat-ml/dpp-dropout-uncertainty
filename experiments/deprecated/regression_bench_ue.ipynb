{
 "cells": [
  {
   "cell_type": "code",
   "execution_count": null,
   "metadata": {
    "pycharm": {
     "is_executing": false
    }
   },
   "outputs": [],
   "source": [
    "import sys\n",
    "sys.path.append('..')\n",
    "%load_ext autoreload\n",
    "%autoreload 2\n",
    "%matplotlib inline\n"
   ]
  },
  {
   "cell_type": "code",
   "execution_count": null,
   "metadata": {
    "collapsed": false,
    "jupyter": {
     "outputs_hidden": false
    },
    "pycharm": {
     "is_executing": false,
     "name": "#%%\n"
    }
   },
   "outputs": [],
   "source": [
    "import pickle\n",
    "from datetime import datetime\n",
    "\n",
    "import numpy as np\n",
    "import matplotlib.pyplot as plt\n",
    "import pandas as pd\n",
    "import seaborn as sns\n",
    "\n",
    "\n",
    "from dataloader.builder import build_dataset\n",
    "from model.mlp import MLP\n",
    "from model.ensemble import MLPEnsemble\n",
    "from uncertainty_estimator.masks import build_masks, DEFAULT_MASKS\n",
    "from experiment_setup import build_estimator\n",
    "from analysis.metrics import get_uq_metrics\n",
    "from experiments.utils.data import scale, split_ood, multiple_kfold\n",
    "import torch\n",
    "\n",
    "plt.rcParams['figure.facecolor'] = 'white'\n",
    "torch.cuda.set_device(1)"
   ]
  },
  {
   "cell_type": "code",
   "execution_count": null,
   "metadata": {
    "collapsed": false,
    "jupyter": {
     "outputs_hidden": false
    },
    "pycharm": {
     "is_executing": false,
     "name": "#%%\n"
    }
   },
   "outputs": [],
   "source": [
    "config = {\n",
    "    'nn_runs': 100,\n",
    "    'runs': 2,\n",
    "    'max_runs': 20,\n",
    "    'k_folds': 10,\n",
    "    'verbose': False,\n",
    "    'layers': [8, 256, 256, 128, 1],\n",
    "    'epochs': 10_000,\n",
    "    'validation_step': 100,\n",
    "    'acc_percentile': 0.1,\n",
    "    'patience': 3,\n",
    "    'dropout_rate': 0.2,\n",
    "    'dropout_uq': 0.5,\n",
    "    'batch_size': 256,\n",
    "    'dataset': 'kin8nm',\n",
    "    'l2_reg': 1e-4,\n",
    "    'ood_percentile': 90,\n",
    "    'with_ensembles': True,\n",
    "    'ensembles_num_models': 5\n",
    "}"
   ]
  },
  {
   "cell_type": "code",
   "execution_count": null,
   "metadata": {
    "collapsed": false,
    "jupyter": {
     "outputs_hidden": false
    },
    "pycharm": {
     "is_executing": false,
     "name": "#%%\n"
    }
   },
   "outputs": [],
   "source": [
    "train_opts = ['patience', 'dropout_rate', 'epochs', 'batch_size', 'validation_step']\n",
    "config['train_opts'] = {k: config[k] for k in config if k in train_opts}\n"
   ]
  },
  {
   "cell_type": "markdown",
   "metadata": {
    "pycharm": {
     "name": "#%% md\n"
    }
   },
   "source": [
    "### Get data"
   ]
  },
  {
   "cell_type": "code",
   "execution_count": null,
   "metadata": {
    "collapsed": false,
    "jupyter": {
     "outputs_hidden": false
    },
    "pycharm": {
     "is_executing": false,
     "name": "#%%\n"
    }
   },
   "outputs": [],
   "source": [
    "dataset = build_dataset(config['dataset'], val_split=0.01) \n",
    "x_all, y_all = dataset.dataset('train')\n",
    "x_set, y_set, x_ood, y_ood = split_ood(x_all, y_all, config['ood_percentile'])\n",
    "config['layers'][0] = x_all.shape[-1]"
   ]
  },
  {
   "cell_type": "markdown",
   "metadata": {
    "pycharm": {
     "name": "#%% md\n"
    }
   },
   "source": [
    "### Defining support functions\n"
   ]
  },
  {
   "cell_type": "code",
   "execution_count": null,
   "metadata": {},
   "outputs": [],
   "source": [
    "masks = build_masks(DEFAULT_MASKS)"
   ]
  },
  {
   "cell_type": "code",
   "execution_count": null,
   "metadata": {},
   "outputs": [],
   "source": [
    "emasks = [build_masks(DEFAULT_MASKS) for i in range(config['ensembles_num_models'])]\n",
    "emasks = {key: [e[key] for e in emasks] for key in masks.keys()}"
   ]
  },
  {
   "cell_type": "code",
   "execution_count": null,
   "metadata": {
    "collapsed": false,
    "jupyter": {
     "outputs_hidden": false
    },
    "pycharm": {
     "is_executing": false,
     "name": "#%% \n"
    }
   },
   "outputs": [],
   "source": [
    "def construct_estimator(model, model_type, name):\n",
    "    if model_type == 'mask': \n",
    "        mask = masks[name]\n",
    "        return build_estimator(\n",
    "            'mcdue_masked', model, nn_runs=config['nn_runs'], dropout_mask=mask,\n",
    "            dropout_rate=config['dropout_uq'])\n",
    "    elif model_type == 'emask': \n",
    "        mask = emasks[name]\n",
    "        return build_estimator(\n",
    "            'emcdue_masked', model, nn_runs=config['nn_runs'], dropout_mask=mask,\n",
    "            dropout_rate=config['dropout_uq'])\n",
    "    else:\n",
    "        return build_estimator(name, model)\n",
    "\n",
    "\n",
    "class Evaluator:    \n",
    "    def __init__(self, x_test, y_test, y_scaler, tag='standard'):\n",
    "        self.x_test = x_test\n",
    "        self.y_test = y_test\n",
    "        self.unscale = lambda y : y_scaler.inverse_transform(y) \n",
    "        self.tag = tag\n",
    "        self.results = []\n",
    "\n",
    "    def bench(self, model, name, model_type='mask'): \n",
    "        predictions = model(self.x_test).cpu().numpy()\n",
    "        \n",
    "        errors = np.abs(predictions - self.y_test)\n",
    "        \n",
    "        scaled_errors = self.unscale(predictions) - self.unscale(self.y_test)\n",
    "        rmse = np.sqrt(np.mean(np.square(scaled_errors)))\n",
    "\n",
    "        estimator = construct_estimator(model, model_type, name)\n",
    "        if model_type == 'emask':\n",
    "            name = 'e_' + name\n",
    "        \n",
    "        for run in range(config['runs']):\n",
    "            estimations = estimator.estimate(self.x_test)\n",
    "            acc, ndcg, ll = get_uq_metrics(estimations, errors, config['acc_percentile'])\n",
    "            self.results.append([acc, ndcg, ll, rmse, name, self.tag])\n",
    "            if hasattr(estimator, 'reset'):\n",
    "                estimator.reset()\n",
    "            \n"
   ]
  },
  {
   "cell_type": "markdown",
   "metadata": {
    "pycharm": {
     "name": "#%% md\n"
    }
   },
   "source": [
    "### Train and generate results"
   ]
  },
  {
   "cell_type": "code",
   "execution_count": null,
   "metadata": {},
   "outputs": [],
   "source": [
    "masks"
   ]
  },
  {
   "cell_type": "code",
   "execution_count": null,
   "metadata": {
    "collapsed": false,
    "jupyter": {
     "outputs_hidden": false
    },
    "pycharm": {
     "is_executing": true,
     "name": "#%%\n"
    }
   },
   "outputs": [],
   "source": [
    "mask_results = [] \n",
    "kfold_iterator = multiple_kfold(config['k_folds'], len(x_set), config['max_runs'])\n",
    "\n",
    "for m, (train_idx, val_idx) in enumerate(kfold_iterator):\n",
    "    x_train, y_train = x_set[train_idx], y_set[train_idx]\n",
    "    x_val, y_val = x_set[val_idx], y_set[val_idx]\n",
    "    print(\"Iteration\", m+1)\n",
    "\n",
    "    x_train, x_val, x_scaler = scale(x_train, x_val)\n",
    "    y_train, y_val, y_scaler = scale(y_train, y_val)\n",
    "    x_ood_scaled = x_scaler.transform(x_ood)\n",
    "    y_ood_scaled = y_scaler.transform(y_ood)\n",
    "    \n",
    "    standard_evaluator = Evaluator(x_val, y_val, y_scaler, 'standard')\n",
    "    ood_evaluator = Evaluator(x_ood_scaled, y_ood_scaled, y_scaler, 'ood')\n",
    "    \n",
    "    \n",
    "    #Dropout \n",
    "    optimizer={'type': 'Adadelta', 'weight_decay': config['l2_reg']}\n",
    "    model = MLP(config['layers'], optimizer=optimizer)\n",
    "    model.fit((x_train, y_train), (x_val, y_val), **config['train_opts'])\n",
    "    \n",
    "    for name in masks: \n",
    "        standard_evaluator.bench(model, name, 'mask')\n",
    "        ood_evaluator.bench(model, name, 'mask')\n",
    "    \n",
    "    # RMSE ensemble\n",
    "    train_opts = config['train_opts'].copy()\n",
    "    model = MLPEnsemble(config['layers'], n_models=5, reduction='mean')\n",
    "    model.fit((x_train, y_train), (x_val, y_val), **train_opts)\n",
    "\n",
    "    standard_evaluator.bench(model, 'eue', 'ensemble')\n",
    "    ood_evaluator.bench(model, 'eue', 'ensemble')\n",
    "    \n",
    "    for name in emasks: \n",
    "        standard_evaluator.bench(model, name, 'emask')\n",
    "        ood_evaluator.bench(model, name, 'emask')\n",
    "    \n",
    "    mask_results += standard_evaluator.results\n",
    "    mask_results += ood_evaluator.results\n",
    "    \n"
   ]
  },
  {
   "cell_type": "markdown",
   "metadata": {
    "pycharm": {
     "is_executing": false,
     "name": "#%% md\n"
    }
   },
   "source": [
    "### Plot the results "
   ]
  },
  {
   "cell_type": "code",
   "execution_count": null,
   "metadata": {
    "collapsed": false,
    "jupyter": {
     "outputs_hidden": false
    },
    "pycharm": {
     "is_executing": true,
     "name": "#%%\n"
    }
   },
   "outputs": [],
   "source": [
    "mask_df = pd.DataFrame(mask_results, columns=['Acc', 'NDCG', 'LL', 'RMSE', 'Mask', 'Tag'])\n",
    "\n",
    "fig = plt.figure(figsize=(16, 32))\n",
    "plt.suptitle(config['dataset'], fontsize=16)\n",
    "fig.subplots_adjust(top=0.95)\n",
    "\n",
    "\n",
    "def boxplot(df, x_label, y_label, i, bottom=0, top=1):\n",
    "    plt.subplot(8, 1, i)\n",
    "    plt.xticks(rotation=45)\n",
    "    if bottom is not None:\n",
    "        plt.ylim(bottom, top)\n",
    "    sns.boxplot(data=df, x=x_label, y=y_label, hue='Tag', showfliers=False)\n",
    "\n",
    "boxplot(mask_df, 'Mask', 'Acc', 1, 0, 1)\n",
    "boxplot(mask_df, 'Mask', 'NDCG', 2, 0, 1)\n",
    "boxplot(mask_df[mask_df.Tag=='standard'], 'Mask', 'LL', 3, None)\n",
    "boxplot(mask_df[mask_df.Tag=='ood'], 'Mask', 'LL', 4, None)\n",
    "boxplot(mask_df, None, 'RMSE', 5, 0, 1.2*mask_df.RMSE.max())\n"
   ]
  },
  {
   "cell_type": "code",
   "execution_count": null,
   "metadata": {
    "collapsed": false,
    "jupyter": {
     "outputs_hidden": false
    },
    "pycharm": {
     "is_executing": true,
     "name": "#%%\n"
    }
   },
   "outputs": [],
   "source": [
    "timestamp = datetime.now().strftime(\"%y-%m-%d__%H_%M\")\n",
    "with open(f\"data/results_{config['dataset']}_{timestamp}.pkl\", 'wb') as f:\n",
    "    pickle.dump(mask_results, f)\n",
    "    "
   ]
  },
  {
   "cell_type": "code",
   "execution_count": null,
   "metadata": {
    "collapsed": false,
    "jupyter": {
     "outputs_hidden": false
    },
    "pycharm": {
     "is_executing": true,
     "name": "#%%\n"
    }
   },
   "outputs": [],
   "source": [
    "\n"
   ]
  }
 ],
 "metadata": {
  "kernelspec": {
   "display_name": "Python 3",
   "language": "python",
   "name": "python3"
  },
  "language_info": {
   "codemirror_mode": {
    "name": "ipython",
    "version": 3
   },
   "file_extension": ".py",
   "mimetype": "text/x-python",
   "name": "python",
   "nbconvert_exporter": "python",
   "pygments_lexer": "ipython3",
   "version": "3.7.3"
  },
  "pycharm": {
   "stem_cell": {
    "cell_type": "raw",
    "metadata": {
     "collapsed": false
    },
    "source": []
   }
  }
 },
 "nbformat": 4,
 "nbformat_minor": 4
}
