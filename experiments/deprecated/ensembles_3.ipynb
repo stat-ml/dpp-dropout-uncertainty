{
 "cells": [
  {
   "cell_type": "code",
   "execution_count": null,
   "outputs": [],
   "source": [
    "%load_ext autoreload\n",
    "%autoreload 2"
   ],
   "metadata": {
    "collapsed": false,
    "pycharm": {
     "name": "#%%\n"
    }
   }
  },
  {
   "cell_type": "code",
   "execution_count": null,
   "outputs": [],
   "source": [
    "import os\n",
    "import pickle\n",
    "import random\n",
    "from pathlib import Path\n",
    "\n",
    "import seaborn as sns\n",
    "import pandas as pd\n",
    "import torch\n",
    "from torch.nn.functional import elu\n",
    "import numpy as np\n",
    "import matplotlib.pyplot as plt\n",
    "\n",
    "from alpaca.uncertainty_estimator.masks import build_masks, DEFAULT_MASKS\n",
    "from alpaca.analysis.metrics import uq_ll\n",
    "from alpaca.model.ensemble import MLPEnsemble\n",
    "from alpaca.uncertainty_estimator import build_estimator\n",
    "from alpaca.analysis.metrics import get_uq_metrics\n",
    "\n",
    "plt.rcParams['figure.facecolor'] = 'white'\n"
   ],
   "metadata": {
    "collapsed": false,
    "pycharm": {
     "name": "#%%\n"
    }
   }
  },
  {
   "cell_type": "code",
   "execution_count": null,
   "outputs": [],
   "source": [
    "SEED = 10\n",
    "torch.manual_seed(SEED)\n",
    "np.random.seed(SEED)\n",
    "random.seed(SEED)\n",
    "\n",
    "torch.cuda.set_device(0)\n",
    "torch.backends.cudnn.deterministic = True\n",
    "torch.backends.cudnn.benchmark = False\n"
   ],
   "metadata": {
    "collapsed": false,
    "pycharm": {
     "name": "#%%\n"
    }
   }
  },
  {
   "cell_type": "code",
   "execution_count": null,
   "outputs": [],
   "source": [
    "folder = Path('./data/regression')\n",
    "files = sorted([file for file in os.listdir(folder) if file.endswith('.pickle')])\n",
    "# files = [file for file in files if file.startswith('kin8')]\n",
    "\n"
   ],
   "metadata": {
    "collapsed": false,
    "pycharm": {
     "name": "#%%\n"
    }
   }
  },
  {
   "cell_type": "code",
   "execution_count": null,
   "outputs": [],
   "source": [
    "def load_setup(file):\n",
    "    print(file)\n",
    "    with open(folder / 'log_exp.log', 'w') as f:\n",
    "        f.write(f'{cnt} / {len(files)}')\n",
    "    with open(folder / file, 'rb') as f:\n",
    "        dct = pickle.load(f)\n",
    "    print(file)\n",
    "    config = dct['config']\n",
    "    config['n_ue_runs'] = 1\n",
    "    config['acc_percentile'] = .1\n",
    "    state_dict = dct['state_dict']\n",
    "    x_train, y_train, x_val, y_val, x_scaler, y_scaler = dct['data']\n",
    "\n",
    "    ensemble = MLPEnsemble(\n",
    "        config['layers'], n_models=config['n_ens'], activation = elu,\n",
    "        reduction='mean')\n",
    "    ensemble.load_state_dict(state_dict)\n",
    "\n",
    "    model = ensemble.models[2]\n",
    "    return model, ensemble, x_train, y_train, x_val, y_val, x_scaler, y_scaler\n"
   ],
   "metadata": {
    "collapsed": false,
    "pycharm": {
     "name": "#%%\n"
    }
   }
  },
  {
   "cell_type": "code",
   "execution_count": null,
   "outputs": [],
   "source": [
    "accumulate = []\n",
    "data = []\n",
    "\n",
    "for cnt, file in enumerate(files):\n",
    "    model, ensemble, x_train, y_train, x_val, y_val, x_scaler, y_scaler = load_setup(file)\n",
    "    estimator_ensemble = build_estimator('emcdue', ensemble, nn_runs=100)\n",
    "    estimator_single = build_estimator('mcdue', model, nn_runs=100)\n",
    "\n",
    "    x_val_tensor = torch.tensor(x_val)\n",
    "    unscale = lambda y : y_scaler.inverse_transform(y)\n",
    "\n",
    "    predictions = model(x_val_tensor.cuda()).cpu().detach().numpy()\n",
    "    errors = predictions - y_val\n",
    "    ue_single = estimator_single.estimate(torch.Tensor(x_val).double().cuda())\n",
    "    ll_single = uq_ll(errors, ue_single)\n",
    "\n",
    "\n",
    "    predictions = ensemble(x_val_tensor.cuda()).cpu().detach().numpy()\n",
    "    errors = predictions - y_val\n",
    "    ue_ensemble = estimator_ensemble.estimate(torch.Tensor(x_val).double().cuda())\n",
    "    ll_ensemble = uq_ll(errors, ue_ensemble)\n",
    "\n",
    "    accumulate.append([file[:4], 'single', ll_single])\n",
    "    accumulate.append([file[:4], 'ensemble', ll_ensemble])\n",
    "    #\n",
    "    # print(file)\n",
    "    # print('Single', rmse_single)\n",
    "    # print('Ensemble', rmse_ensemble)\n",
    "\n"
   ],
   "metadata": {
    "collapsed": false,
    "pycharm": {
     "name": "#%%\n"
    }
   }
  },
  {
   "cell_type": "code",
   "execution_count": null,
   "outputs": [],
   "source": [
    "df = pd.DataFrame(accumulate, columns=['dataset', 'type', 'll'])\n",
    "sns.boxplot('dataset', 'll', hue='type', data=df)\n",
    "plt.savefig('ll_emcdue.png', dpi=150)\n",
    "\n",
    "\n",
    "\n"
   ],
   "metadata": {
    "collapsed": false,
    "pycharm": {
     "name": "#%%\n"
    }
   }
  }
 ],
 "metadata": {
  "kernelspec": {
   "name": "python3",
   "language": "python",
   "display_name": "Python 3"
  },
  "language_info": {
   "codemirror_mode": {
    "name": "ipython",
    "version": 2
   },
   "file_extension": ".py",
   "mimetype": "text/x-python",
   "name": "python",
   "nbconvert_exporter": "python",
   "pygments_lexer": "ipython2",
   "version": "2.7.6"
  }
 },
 "nbformat": 4,
 "nbformat_minor": 0
}