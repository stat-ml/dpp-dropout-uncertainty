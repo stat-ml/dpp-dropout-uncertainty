{
 "cells": [
  {
   "cell_type": "code",
   "execution_count": null,
   "metadata": {
    "pycharm": {
     "is_executing": false
    }
   },
   "outputs": [],
   "source": [
    "import sys\n",
    "sys.path.append('..')\n",
    "%load_ext autoreload\n",
    "%autoreload 2\n"
   ]
  },
  {
   "cell_type": "code",
   "execution_count": null,
   "metadata": {
    "pycharm": {
     "is_executing": false,
     "name": "#%%\n"
    }
   },
   "outputs": [],
   "source": [
    "import numpy as np\n",
    "import matplotlib.pyplot as plt\n",
    "\n",
    "from experiment_setup import get_model, set_random, build_estimator\n",
    "from uncertainty_estimator.masks import build_masks \n",
    "from dataloader.toy import ToyQubicData, ToySinData\n",
    "from model.mlp import MLP\n",
    "\n",
    "plt.rcParams['figure.facecolor'] = 'white'"
   ]
  },
  {
   "cell_type": "code",
   "execution_count": null,
   "metadata": {},
   "outputs": [],
   "source": [
    "from loss.nll_loss import NLLRegLoss\n",
    "from torch.nn import functional as F\n",
    "from model.ensemble import MLPEnsemble\n",
    "\n",
    "def nll_postprocessing(x):\n",
    "    return torch.cat([x[:, [0]], F.softplus(x[:, [1]])], dim=1)\n",
    "\n",
    "def nll_mean_only(x):\n",
    "    return x[:, 0]"
   ]
  },
  {
   "cell_type": "code",
   "execution_count": null,
   "metadata": {
    "jupyter": {
     "outputs_hidden": false
    },
    "pycharm": {
     "is_executing": false,
     "name": "#%%\n"
    }
   },
   "outputs": [],
   "source": [
    "import torch\n",
    "torch.cuda.set_device(1)"
   ]
  },
  {
   "cell_type": "code",
   "execution_count": null,
   "metadata": {
    "jupyter": {
     "outputs_hidden": false
    },
    "pycharm": {
     "is_executing": false,
     "name": "#%%\n"
    }
   },
   "outputs": [],
   "source": [
    "\n",
    "config = {\n",
    "    'nn_runs': 200,\n",
    "    'verbose': False,\n",
    "    'use_cache': False, \n",
    "    'layers': [1, 128, 128, 64, 1],\n",
    "    'nll_layers': [1, 128, 128, 64, 2],\n",
    "    'patience': 10,\n",
    "    'dropout_train': 0.2,\n",
    "    'dropout_uq': 0.5\n",
    "}"
   ]
  },
  {
   "cell_type": "markdown",
   "metadata": {},
   "source": [
    "### Visualizing on toy data"
   ]
  },
  {
   "cell_type": "code",
   "execution_count": null,
   "metadata": {
    "pycharm": {
     "is_executing": false
    }
   },
   "outputs": [],
   "source": [
    "# Generate dataset\n",
    "# dataset = 'qubic'\n",
    "dataset = 'sin'\n",
    " \n",
    "if dataset == 'qubic':\n",
    "    x_train, y_train = ToyQubicData(use_cache=config['use_cache']).dataset('train')\n",
    "    x_val, y_val = ToyQubicData(use_cache=config['use_cache']).dataset('val')\n",
    "    x_true, y_true = ToyQubicData().dataset('ground_truth')\n",
    "else:\n",
    "    x_train, y_train = ToySinData(use_cache=config['use_cache']).dataset('train')\n",
    "    x_val, y_val = ToySinData(use_cache=config['use_cache']).dataset('val')\n",
    "    x_true, y_true = ToySinData().dataset('ground_truth')\n",
    "    \n",
    "plt.plot(x_true, y_true)\n",
    "plt.scatter(x_train, y_train, color='red')\n",
    "plt.scatter(x_val, y_val, color='green')"
   ]
  },
  {
   "cell_type": "code",
   "execution_count": null,
   "metadata": {},
   "outputs": [],
   "source": []
  },
  {
   "cell_type": "code",
   "execution_count": null,
   "metadata": {},
   "outputs": [],
   "source": [
    "models = {}"
   ]
  },
  {
   "cell_type": "markdown",
   "metadata": {},
   "source": [
    "### RMSE"
   ]
  },
  {
   "cell_type": "code",
   "execution_count": null,
   "metadata": {},
   "outputs": [],
   "source": [
    "# Train model\n",
    "models['mlp_rmse'] = MLP(config['layers'])\n",
    "models['mlp_rmse'].fit((x_train, y_train), (x_train, y_train), patience=config['patience'],\n",
    "          validation_step=100, batch_size=5, dropout_rate=config['dropout_train'])\n",
    "y_pred = models['mlp_rmse'](x_true).cpu().numpy()\n",
    "\n",
    "plt.figure(figsize=(12, 8))\n",
    "plt.title('MLP (rmse)')\n",
    "plt.plot(x_true, y_true, alpha=0.5)\n",
    "plt.scatter(x_train, y_train, color='red')\n",
    "plt.scatter(x_true, y_pred, color='green', marker='+')\n",
    "plt.show()"
   ]
  },
  {
   "cell_type": "code",
   "execution_count": null,
   "metadata": {
    "scrolled": false
   },
   "outputs": [],
   "source": [
    "# Train model\n",
    "\n",
    "models['ensemble_rmse'] = MLPEnsemble(config['layers'], n_models=5, reduction='mean')\n",
    "models['ensemble_rmse'].fit((x_train, y_train), (x_train, y_train), patience=config['patience'],\n",
    "          validation_step=100, batch_size=5, dropout_rate=config['dropout_train'])\n",
    "y_pred = models['ensemble_rmse'](x_true).cpu().numpy()\n",
    "\n",
    "plt.figure(figsize=(12, 8))\n",
    "plt.title('Ensemble MLP (rmse)')\n",
    "plt.plot(x_true, y_true, alpha=0.5)\n",
    "plt.scatter(x_train, y_train, color='red')\n",
    "plt.scatter(x_true, y_pred, color='green', marker='+')\n",
    "plt.show()"
   ]
  },
  {
   "cell_type": "code",
   "execution_count": null,
   "metadata": {
    "jupyter": {
     "outputs_hidden": false
    },
    "pycharm": {
     "is_executing": false,
     "name": "#%%\n"
    },
    "scrolled": false
   },
   "outputs": [],
   "source": [
    "# Evaluate UQ and plot the results\n",
    "plt.figure(figsize=(16, 30))\n",
    "\n",
    "def make_uq_graph(name, estimations):\n",
    "    plt.title(name)\n",
    "    plt.plot(x_true, y_true, alpha=0.5)\n",
    "    plt.scatter(x_true, y_pred, color='green', marker='+')\n",
    "    plt.fill_between(np.ravel(x_true), np.ravel(y_pred)-estimations, np.ravel(y_pred)+estimations, alpha=0.3, color='green')\n",
    "    plt.scatter(x_train, y_train, color='red')\n",
    "\n",
    "masks = build_masks(nn_runs = config['nn_runs'])\n",
    "model = models['mlp_rmse']\n",
    "\n",
    "for i, (name, mask) in enumerate(masks.items()):\n",
    "    try:\n",
    "        if hasattr(mask, 'reset'):\n",
    "            mask.reset()\n",
    "        estimator = build_estimator(\n",
    "            'mcdue_masked', model, nn_runs=config['nn_runs'], dropout_mask=mask,\n",
    "            dropout_rate=config['dropout_uq'])\n",
    "\n",
    "        estimations = estimator.estimate(x_true)\n",
    "        plt.subplot(6, 2, i+1)\n",
    "        make_uq_graph(name, estimations)\n",
    "    except:\n",
    "        continue\n",
    "\n",
    "        \n",
    "nngp = build_estimator('nngp', model, nn_runs=config['nn_runs'], dropout_rate=config['dropout_uq'])\n",
    "estimations = nngp.estimate(x_true, x_train)\n",
    "plt.subplot(6, 2, len(masks)+1)\n",
    "make_uq_graph('nngp', estimations)\n",
    "\n",
    "eue = build_estimator('eue', models['ensemble_rmse'])\n",
    "estimations = eue.estimate(x_true)\n",
    "plt.subplot(6, 2, len(masks)+2)\n",
    "make_uq_graph('eue', estimations)"
   ]
  },
  {
   "cell_type": "markdown",
   "metadata": {},
   "source": [
    "### NLL"
   ]
  },
  {
   "cell_type": "code",
   "execution_count": null,
   "metadata": {},
   "outputs": [],
   "source": []
  },
  {
   "cell_type": "code",
   "execution_count": null,
   "metadata": {
    "pycharm": {
     "is_executing": false
    },
    "scrolled": false
   },
   "outputs": [],
   "source": [
    "# Train model\n",
    "models['mlp_nll'] = MLP(config['nll_layers'], loss=NLLRegLoss,\n",
    "                        postprocessing=nll_postprocessing)\n",
    "models['mlp_nll'].fit((x_train, y_train), (x_train, y_train), patience=config['patience'],\n",
    "          validation_step=100, batch_size=5, dropout_rate=config['dropout_train'])\n",
    "y_pred = models['mlp_nll'](x_true).cpu().numpy()[:, 0]\n",
    "\n",
    "plt.figure(figsize=(12, 8))\n",
    "plt.title('MLP (nll)')\n",
    "plt.plot(x_true, y_true, alpha=0.5)\n",
    "plt.scatter(x_train, y_train, color='red')\n",
    "plt.scatter(x_true, y_pred, color='green', marker='+')\n",
    "plt.show()"
   ]
  },
  {
   "cell_type": "code",
   "execution_count": null,
   "metadata": {},
   "outputs": [],
   "source": [
    "models['ensemble_nll'] = MLPEnsemble(config['nll_layers'], reduction='nll',\n",
    "                                     n_models=5, loss=NLLRegLoss,\n",
    "                                     postprocessing=nll_postprocessing )\n",
    "models['ensemble_nll'].fit((x_train, y_train), (x_train, y_train), patience=config['patience'],\n",
    "          validation_step=100, batch_size=5, dropout_rate=config['dropout_train'])"
   ]
  },
  {
   "cell_type": "code",
   "execution_count": null,
   "metadata": {},
   "outputs": [],
   "source": [
    "# Train model\n",
    "y_pred = models['ensemble_nll'](x_true).cpu().numpy()[:, 0]\n",
    "\n",
    "plt.figure(figsize=(12, 8))\n",
    "plt.title('Ensemble MLP (nll)')\n",
    "plt.plot(x_true, y_true, alpha=0.5)\n",
    "plt.scatter(x_train, y_train, color='red')\n",
    "plt.scatter(x_true, y_pred, color='green', marker='+')\n",
    "plt.show()"
   ]
  },
  {
   "cell_type": "code",
   "execution_count": null,
   "metadata": {},
   "outputs": [],
   "source": []
  },
  {
   "cell_type": "code",
   "execution_count": null,
   "metadata": {},
   "outputs": [],
   "source": []
  },
  {
   "cell_type": "code",
   "execution_count": null,
   "metadata": {},
   "outputs": [],
   "source": [
    "# Evaluate UQ and plot the results\n",
    "plt.figure(figsize=(16, 30))\n",
    "\n",
    "def make_uq_graph(name, estimations):\n",
    "    plt.title(name)\n",
    "    plt.plot(x_true, y_true, alpha=0.5)\n",
    "    plt.scatter(x_true, y_pred, color='green', marker='+')\n",
    "    plt.fill_between(np.ravel(x_true), np.ravel(y_pred)-estimations, np.ravel(y_pred)+estimations, alpha=0.3, color='green')\n",
    "    plt.scatter(x_train, y_train, color='red')\n",
    "\n",
    "masks = build_masks(nn_runs = config['nn_runs'])\n",
    "model = models['mlp_nll']\n",
    "model.postprocessing = nll_mean_only\n",
    "\n",
    "for i, (name, mask) in enumerate(masks.items()):\n",
    "    try:\n",
    "        if hasattr(mask, 'reset'):\n",
    "            mask.reset()\n",
    "        estimator = build_estimator(\n",
    "            'mcdue_masked', model, nn_runs=config['nn_runs'], dropout_mask=mask,\n",
    "            dropout_rate=config['dropout_uq'])\n",
    "\n",
    "        estimations = estimator.estimate(x_true)\n",
    "        plt.subplot(6, 2, i+1)\n",
    "        make_uq_graph(name, estimations)\n",
    "    except:\n",
    "        continue\n",
    "\n",
    "        \n",
    "nngp = build_estimator('nngp', model, nn_runs=config['nn_runs'], dropout_rate=config['dropout_uq'])\n",
    "estimations = nngp.estimate(x_true, x_train)\n",
    "plt.subplot(6, 2, len(masks)+1)\n",
    "make_uq_graph('nngp', estimations)\n",
    "\n",
    "\n",
    "eue = build_estimator('nlleue', models['ensemble_nll'])\n",
    "estimations = eue.estimate(x_true)\n",
    "plt.subplot(6, 2, len(masks)+2)\n",
    "make_uq_graph('nlleue', estimations)"
   ]
  },
  {
   "cell_type": "code",
   "execution_count": null,
   "metadata": {},
   "outputs": [],
   "source": []
  }
 ],
 "metadata": {
  "kernelspec": {
   "display_name": "Python 3",
   "language": "python",
   "name": "python3"
  },
  "language_info": {
   "codemirror_mode": {
    "name": "ipython",
    "version": 3
   },
   "file_extension": ".py",
   "mimetype": "text/x-python",
   "name": "python",
   "nbconvert_exporter": "python",
   "pygments_lexer": "ipython3",
   "version": "3.7.3"
  },
  "pycharm": {
   "stem_cell": {
    "cell_type": "raw",
    "metadata": {
     "collapsed": false
    },
    "source": []
   }
  }
 },
 "nbformat": 4,
 "nbformat_minor": 4
}
