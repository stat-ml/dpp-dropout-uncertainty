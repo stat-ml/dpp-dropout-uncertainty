{
 "cells": [
  {
   "cell_type": "code",
   "execution_count": null,
   "metadata": {
    "pycharm": {
     "is_executing": false
    }
   },
   "outputs": [],
   "source": [
    "import torch\n",
    "seed = 8715\n",
    "torch.manual_seed(seed)\n",
    "import numpy as np\n",
    "np.random.seed(seed)"
   ]
  },
  {
   "cell_type": "code",
   "execution_count": null,
   "metadata": {
    "pycharm": {
     "is_executing": false
    }
   },
   "outputs": [],
   "source": [
    "import matplotlib.pyplot as plt\n",
    "from matplotlib import cm\n",
    "\n",
    "plt.rcParams['figure.facecolor'] = 'white'\n",
    "from alpaca.model.mlp import MLP\n",
    "from alpaca.uncertainty_estimator.masks import build_masks \n",
    "from alpaca.uncertainty_estimator import build_estimator"
   ]
  },
  {
   "cell_type": "code",
   "execution_count": null,
   "metadata": {
    "pycharm": {
     "is_executing": false
    }
   },
   "outputs": [],
   "source": [
    "config = {\n",
    "    'nn_runs': 100,\n",
    "    'runs': 2,\n",
    "    'max_runs': 20,\n",
    "    'k_folds': 10,\n",
    "    'verbose': False,\n",
    "    # Our train config\n",
    "   'layers': [8, 128, 128, 256, 1],\n",
    "#     'layers': [8, 256, 256, 128, 1],\n",
    "    #'layers': [8, 2048, 2048, 1024, 1],\n",
    "    'epochs': 10_000,\n",
    "    'validation_step': 100,\n",
    "    \n",
    "    # Our train config\n",
    "    'nll_layers': [8, 256, 256, 128, 2],\n",
    "    'nll_epochs': 400,\n",
    "    'nll_validation_step': 50,\n",
    "    \n",
    "    'acc_percentile': 0.1,\n",
    "    'patience': 10,\n",
    "    'dropout_rate': 0.5,\n",
    "    'dropout_uq': 0.5,\n",
    "    'batch_size': 256,\n",
    "    'dataset': 'kin8nm',\n",
    "    'l2_reg': 1e-5,\n",
    "    'ood_percentile': 90,\n",
    "    'activation': 'celu',\n",
    "    'optimizer': {'type': 'Adam', 'lr': 0.01, 'weight_decay':1e-5}\n",
    "}"
   ]
  },
  {
   "cell_type": "code",
   "execution_count": null,
   "metadata": {
    "pycharm": {
     "is_executing": false
    }
   },
   "outputs": [],
   "source": [
    "xs = []\n",
    "ys = []\n",
    "\n",
    "xs_sector = []\n",
    "ys_sector = []\n",
    "for _ in range(2000):\n",
    "    q = np.random.random()*100 % 2*np.pi       \n",
    "    \n",
    "    r = 1 + np.random.random()*.4 - .2\n",
    "    \n",
    "    x = np.sin(q)*r\n",
    "    y = np.cos(q)*r\n",
    "    if 1.1 < q < 2.1:\n",
    "        xs_sector.append(x)\n",
    "        ys_sector.append(y)\n",
    "    else:\n",
    "        xs.append(x)\n",
    "        ys.append(y)"
   ]
  },
  {
   "cell_type": "code",
   "execution_count": null,
   "metadata": {
    "pycharm": {
     "is_executing": false
    }
   },
   "outputs": [],
   "source": [
    "xs[:4]"
   ]
  },
  {
   "cell_type": "code",
   "execution_count": null,
   "metadata": {
    "pycharm": {
     "is_executing": false
    }
   },
   "outputs": [],
   "source": [
    "xs_inner_ood = []\n",
    "ys_inner_ood = []\n",
    "\n",
    "xs_outer_ood = []\n",
    "ys_outer_ood = []\n",
    "for _ in range(1000):\n",
    "    q = np.random.random()*100 % 2*np.pi       \n",
    "    \n",
    "    r = 2 + np.random.random()*.5 - .25\n",
    "    x = np.sin(q)*r\n",
    "    y = np.cos(q)*r\n",
    "    xs_outer_ood.append(x)\n",
    "    ys_outer_ood.append(y)\n",
    "\n",
    "    r = .3 + np.random.random()*.2 - .1\n",
    "    x = np.sin(q)*r\n",
    "    y = np.cos(q)*r\n",
    "    xs_inner_ood.append(x)\n",
    "    ys_inner_ood.append(y)"
   ]
  },
  {
   "cell_type": "code",
   "execution_count": null,
   "metadata": {
    "pycharm": {
     "is_executing": false
    }
   },
   "outputs": [],
   "source": [
    "xs_inner_ood[:4]"
   ]
  },
  {
   "cell_type": "code",
   "execution_count": null,
   "metadata": {
    "pycharm": {
     "is_executing": false
    }
   },
   "outputs": [],
   "source": [
    "def f(x, y):\n",
    "    return np.cos(np.sin(x*y) +\n",
    "                  np.sin(x + y) + \n",
    "                  x - y + \n",
    "                  np.abs(x*np.cos(y)) * np.exp(np.sign(y)*np.sqrt(np.abs(y))))"
   ]
  },
  {
   "cell_type": "code",
   "execution_count": null,
   "metadata": {
    "pycharm": {
     "is_executing": false
    }
   },
   "outputs": [],
   "source": [
    "xcc = []\n",
    "ycc = []\n",
    "for xc, yc in [(xs, ys), \n",
    "               (xs_sector, ys_sector),\n",
    "               (xs_outer_ood, xs_outer_ood),\n",
    "               (xs_inner_ood, ys_inner_ood),\n",
    "              ]:\n",
    "    xq = []\n",
    "    fs = []\n",
    "    for cnt in range(len(xc)):\n",
    "        x = xc[cnt]; y = yc[cnt]\n",
    "        fs.append(f(x, y))\n",
    "        xq.append((x, y))\n",
    "    xq = np.array(xq)\n",
    "    fs = np.array(fs)[:, None]\n",
    "    xcc.append(xq)\n",
    "    ycc.append(fs)\n",
    "x_train_, x_sect, x_outer, x_inner   = xcc\n",
    "y_train_, y_sect, y_outer, y_inner   = ycc\n",
    "x_train = x_train_[:1200]\n",
    "y_train = y_train_[:1200]\n",
    "x_val = x_train_[1200:]\n",
    "y_val = y_train_[1200:]"
   ]
  },
  {
   "cell_type": "code",
   "execution_count": null,
   "metadata": {
    "pycharm": {
     "is_executing": false
    }
   },
   "outputs": [],
   "source": [
    "plt.figure(figsize=(7,7))\n",
    "\n",
    "y = np.arange(-2.5, 2.5, 0.01)\n",
    "xx, yy = np.meshgrid(y, y, sparse=True)\n",
    "z = f(xx, yy)\n",
    "h = plt.contourf(y,y,z, cmap=cm.twilight)\n",
    "\n",
    "plt.plot(xs, ys, 'mo',\n",
    "         alpha = .25)\n",
    "plt.plot(xs_sector, ys_sector, 'bo', alpha = .15\n",
    "        )\n",
    "\n",
    "plt.plot(xs_outer_ood, ys_outer_ood, 'go',\n",
    "         alpha = .5\n",
    "        )\n",
    "plt.plot(xs_inner_ood, ys_inner_ood, 'ro',\n",
    "         alpha = .1\n",
    "        )\n",
    "plt.colorbar()\n",
    "plt.axis('square')\n",
    "plt.xlabel('x')\n",
    "plt.ylabel('y')\n",
    "# p.cos(np.sin(x*y) +\n",
    "#                   np.sin(x + y) + \n",
    "#                   x - y + \n",
    "# #                   np.abs(x*np.cos(y)) * np.exp(np.sign(y)*np.sqrt(np.abs(y))))\n",
    "plt.title(r'$f(x,y) = cos(sin(x y) + sin(x + y) + x - y +$' + '\\n' + r'$|x cos y|~exp(sgn(y) |y|^{0.5})$')\n",
    "\n",
    "plt.savefig('../figures/2d_toy.png', dpi = 300)"
   ]
  },
  {
   "cell_type": "code",
   "execution_count": null,
   "metadata": {
    "pycharm": {
     "is_executing": false
    }
   },
   "outputs": [],
   "source": [
    "import torch.nn.functional as F"
   ]
  },
  {
   "cell_type": "code",
   "execution_count": null,
   "metadata": {
    "pycharm": {
     "is_executing": false
    }
   },
   "outputs": [],
   "source": [
    "config['layers'][0] = x_train.shape[-1]\n",
    "masks = build_masks(nn_runs=config['nn_runs'])\n",
    "model = MLP(config['layers'], \n",
    "            l2_reg=config['l2_reg'],\n",
    "            activation = F.celu\n",
    "           )\n",
    "train_opts = ['patience', 'dropout_rate', 'epochs', \n",
    "              'batch_size', 'validation_step']\n",
    "train_config = {k: config[k] for k in config if k in train_opts}\n",
    "model.fit((x_train, y_train), (x_val, y_val), **train_config)"
   ]
  },
  {
   "cell_type": "code",
   "execution_count": null,
   "metadata": {
    "pycharm": {
     "is_executing": false
    }
   },
   "outputs": [],
   "source": [
    "paper_names = {\n",
    "    'basic_bern': 'MC dropout',\n",
    "    'decorrelating_sc': 'decorrelation',\n",
    "    'dpp': 'dpp',\n",
    "    'k_dpp': 'k_dpp',\n",
    "    'k_dpp_noisereg': 'k_dpp_noisereg',\n",
    "    'ideal': 'ideal'\n",
    "}"
   ]
  },
  {
   "cell_type": "code",
   "execution_count": null,
   "metadata": {
    "pycharm": {
     "is_executing": false
    }
   },
   "outputs": [],
   "source": [
    "lrg_test = []\n",
    "xxss = np.arange(-10, 10, .05)\n",
    "for xq in xxss:\n",
    "    for yq in xxss:\n",
    "        lrg_test.append([xq, yq])\n",
    "lrg_test = np.array(lrg_test)"
   ]
  },
  {
   "cell_type": "code",
   "execution_count": null,
   "metadata": {
    "pycharm": {
     "is_executing": false
    }
   },
   "outputs": [],
   "source": [
    "cnt = 0\n",
    "ests = {}\n",
    "plt.figure(figsize=(8,8))\n",
    "au = ['basic_bern', 'decorrelating_sc', 'dpp', 'k_dpp']\n",
    "for name, mask in masks.items():\n",
    "    print(name)\n",
    "    if name not in au:\n",
    "        continue\n",
    "    \n",
    "    cnt += 1\n",
    "    \n",
    "    if hasattr(mask, 'reset'):\n",
    "        mask.reset()\n",
    "    estimator = build_estimator(\n",
    "        'mcdue_masked', model, \n",
    "        nn_runs=config['nn_runs'],\n",
    "        dropout_mask=mask,\n",
    "        dropout_rate=config['dropout_uq'])\n",
    "    estimations = estimator.estimate(lrg_test)\n",
    "    ests[name] = estimations\n",
    "    estimations = estimations/max(np.ravel(estimations))\n",
    "    \n",
    "    \n",
    "    plt.subplot(2,2,cnt)\n",
    "    plt.contourf(xxss,\n",
    "             xxss,\n",
    "             estimations.reshape((len(xxss), len(xxss))).T,\n",
    "             cmap=cm.gray, #levels = 20\n",
    "            )\n",
    "    plt.axis('square')\n",
    "    plt.plot(xs, ys, 'm.',\n",
    "             alpha = .05)\n",
    "    plt.title(paper_names[name])\n",
    "plt.tight_layout()\n",
    "plt.savefig('../figures/dpp_ring_contour.png', dpi = 600)"
   ]
  },
  {
   "cell_type": "code",
   "execution_count": null,
   "metadata": {
    "pycharm": {
     "is_executing": false
    }
   },
   "outputs": [],
   "source": [
    "estimations[:4]"
   ]
  },
  {
   "cell_type": "code",
   "execution_count": null,
   "metadata": {
    "pycharm": {
     "is_executing": false
    }
   },
   "outputs": [],
   "source": [
    "np.sum(estimations)"
   ]
  },
  {
   "cell_type": "code",
   "execution_count": null,
   "metadata": {
    "pycharm": {
     "is_executing": false
    }
   },
   "outputs": [],
   "source": [
    "dss = [np.array([xs, ys]).T, \n",
    "       np.array([xs_sector, ys_sector]).T, \n",
    "       np.array([xs_outer_ood, ys_outer_ood]).T, \n",
    "       np.array([xs_inner_ood, ys_inner_ood]).T, \n",
    "      ]\n",
    "labels = ['val', 'sector', 'outer', 'inner']\n",
    "\n",
    "ues2 = {}\n",
    "for name, mask in masks.items():\n",
    "    local_dct = {}\n",
    "    if hasattr(mask, 'reset'):\n",
    "        mask.reset()\n",
    "    for dataset, label in zip(dss, labels):\n",
    "        print(name, label)\n",
    "        \n",
    "        estimator = build_estimator(\n",
    "            'mcdue_masked', model,\n",
    "            nn_runs=config['nn_runs'],\n",
    "            dropout_mask=mask,\n",
    "            dropout_rate=config['dropout_uq'])\n",
    "        \n",
    "        local_dct[label] = estimator.estimate(dataset)\n",
    "    ues2[name] = local_dct"
   ]
  },
  {
   "cell_type": "code",
   "execution_count": null,
   "metadata": {
    "pycharm": {
     "is_executing": false
    }
   },
   "outputs": [],
   "source": [
    "import pandas as pd\n",
    "import seaborn as sns\n",
    "name = 'ideal'\n",
    "local_dct = {}\n",
    "for dataset, label in zip(dss, labels):\n",
    "    ans_true = np.ravel(f(dataset[:,0],dataset[:,1]))\n",
    "    prediction = np.ravel(model(dataset).cpu().numpy())\n",
    "    local_dct[label] = np.abs(ans_true - prediction)\n",
    "ues2[name] = local_dct"
   ]
  },
  {
   "cell_type": "code",
   "execution_count": null,
   "metadata": {
    "pycharm": {
     "is_executing": false
    }
   },
   "outputs": [],
   "source": [
    "plt.figure(figsize=(15, 4))\n",
    "cnt = 0\n",
    "paper_names = {\n",
    "    'basic_bern': 'MC dropout',\n",
    "    'decorrelating_sc': 'decorrelation',\n",
    "    'dpp': 'dpp',\n",
    "    'k_dpp': 'k_dpp',\n",
    "    'k_dpp_noisereg': 'k_dpp_noisereg',\n",
    "    'ideal': 'oracle'\n",
    "}\n",
    "my_pal = {\"val\": \"purple\", \"sector\": \"b\", \"outer\":\"g\", \"inner\":\"r\"}\n",
    "for name in ['basic_bern', 'decorrelating_sc', 'dpp', \n",
    "             'k_dpp', 'ideal']:\n",
    "    data = []\n",
    "    cnt += 1\n",
    "    for key, vals in ues2[name].items():\n",
    "        for val in vals:\n",
    "            data.append([val, key])\n",
    "    dfq = pd.DataFrame(data, columns = ['UE', 'split'])\n",
    "    plt.subplot(1,5,cnt)\n",
    "    bplot = sns.boxplot(y = dfq['UE'], x = dfq['split'], palette = my_pal)\n",
    "#     bplot = sns.violinplot(y = dfq['UE'], x = dfq['split'], palette = my_pal)\n",
    "    plt.grid()\n",
    "    plt.title(paper_names[name])\n",
    "    plt.xlabel('')\n",
    "    if cnt > 1:\n",
    "        plt.ylabel('')\n",
    "    plt.xticks([])\n",
    "\n",
    "#     for i in range(4):\n",
    "#         mybox = bplot.artists[i]\n",
    "#         mybox.set_facecolor('mbgr'[i])\n",
    "        \n",
    "import matplotlib.patches as mpatches\n",
    "plt.legend(handles=[mpatches.Patch(color='purple', label='validation'),\n",
    "                    mpatches.Patch(color='blue', label='sector'),\n",
    "                    mpatches.Patch(color='green', label='outer'),\n",
    "                    mpatches.Patch(color='red', label='inner')\n",
    "                   ], bbox_to_anchor=(1,1), fontsize=12)\n",
    "# plt.legend(['validation', 'sector', 'outer', 'inner'])\n",
    "plt.tight_layout()\n",
    "plt.savefig('../figures/ring_results.png', dpi = 600)"
   ]
  },
  {
   "cell_type": "code",
   "execution_count": null,
   "metadata": {
    "pycharm": {
     "is_executing": false
    }
   },
   "outputs": [],
   "source": [
    "dfq.head()"
   ]
  },
  {
   "cell_type": "code",
   "execution_count": null,
   "metadata": {
    "pycharm": {
     "is_executing": false
    }
   },
   "outputs": [],
   "source": []
  }
 ],
 "metadata": {
  "kernelspec": {
   "display_name": "Python 3",
   "language": "python",
   "name": "python3"
  },
  "language_info": {
   "codemirror_mode": {
    "name": "ipython",
    "version": 3
   },
   "file_extension": ".py",
   "mimetype": "text/x-python",
   "name": "python",
   "nbconvert_exporter": "python",
   "pygments_lexer": "ipython3",
   "version": "3.6.7"
  },
  "pycharm": {
   "stem_cell": {
    "cell_type": "raw",
    "source": [],
    "metadata": {
     "collapsed": false
    }
   }
  }
 },
 "nbformat": 4,
 "nbformat_minor": 2
}