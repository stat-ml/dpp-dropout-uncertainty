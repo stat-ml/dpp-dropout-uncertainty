{
 "cells": [
  {
   "cell_type": "code",
   "execution_count": null,
   "metadata": {
    "pycharm": {
     "is_executing": false
    }
   },
   "outputs": [],
   "source": [
    "import sys\n",
    "sys.path.append('..')\n",
    "%load_ext autoreload\n",
    "%autoreload 2\n"
   ]
  },
  {
   "cell_type": "code",
   "execution_count": null,
   "metadata": {
    "pycharm": {
     "is_executing": false
    }
   },
   "outputs": [],
   "source": [
    "sys.path = [ '/home/etsymbalov/.local/lib/python3.6/site-packages'] + sys.path"
   ]
  },
  {
   "cell_type": "code",
   "execution_count": null,
   "metadata": {
    "pycharm": {
     "is_executing": false
    }
   },
   "outputs": [],
   "source": [
    "import numpy as np\n",
    "import matplotlib.pyplot as plt\n",
    "\n",
    "from experiment_setup import get_model, set_random, build_estimator\n",
    "from uncertainty_estimator.masks import build_masks \n",
    "from dataloader.toy import ToyQubicData, ToySinData\n",
    "from model.mlp import MLP\n",
    "from model.ensemble import MLPEnsemble\n",
    "import pickle\n",
    "import torch.nn.functional as F\n",
    "\n",
    "plt.rcParams['figure.facecolor'] = 'white'"
   ]
  },
  {
   "cell_type": "code",
   "execution_count": null,
   "metadata": {
    "pycharm": {
     "is_executing": false
    }
   },
   "outputs": [],
   "source": [
    "from dataloader.builder import build_dataset\n",
    "from model.mlp import MLP\n",
    "from uncertainty_estimator.masks import build_masks \n",
    "from experiment_setup import build_estimator\n",
    "from analysis.metrics import get_uq_metrics\n",
    "from experiments.utils.data import scale, split_ood, multiple_kfold"
   ]
  },
  {
   "cell_type": "code",
   "execution_count": null,
   "metadata": {
    "pycharm": {
     "is_executing": false
    }
   },
   "outputs": [],
   "source": [
    "import torch\n",
    "torch.cuda.set_device(0)"
   ]
  },
  {
   "cell_type": "code",
   "execution_count": null,
   "metadata": {
    "pycharm": {
     "is_executing": false
    }
   },
   "outputs": [],
   "source": [
    "config = {\n",
    "    'nn_runs': 100,\n",
    "    'runs': 2,\n",
    "    'max_runs': 20,\n",
    "    'verbose': False,\n",
    "    # Our train config\n",
    "#    'layers': [8, 32, 32, 16, 1],\n",
    "    'layers': [8, 128, 128, 256, 1],\n",
    "#     'layers': [8, 2048, 2048, 1024, 1],\n",
    "    'epochs': 10_000,\n",
    "    'validation_step': 100,\n",
    "    \n",
    "    'acc_percentile': 0.1,\n",
    "    'patience': 10,\n",
    "    'dropout_rate': 0.1,\n",
    "    'dropout_uq': 0.1,\n",
    "    'batch_size': 256,\n",
    "    'dataset': 'kin8nm',\n",
    "    'l2_reg': 1e-5,\n",
    "    'ood_percentile': 90,\n",
    "    \n",
    "    'optimizer': {'type': 'Adam', 'lr': 0.01, 'weight_decay':1e-5},\n",
    "    'n_split_runs': 5,\n",
    "    'n_model_runs': 5,\n",
    "    'n_ens': 2,\n",
    "    'n_ue_runs': 5,\n",
    "    'k_folds': 2,\n",
    "    'verbose': False,\n",
    "}\n"
   ]
  },
  {
   "cell_type": "code",
   "execution_count": null,
   "metadata": {
    "pycharm": {
     "is_executing": false
    }
   },
   "outputs": [],
   "source": [
    "train_opts = ['patience', 'dropout_rate', 'epochs', 'batch_size', 'validation_step']\n",
    "config['train_opts'] = {k: config[k] for k in config if k in train_opts}\n"
   ]
  },
  {
   "cell_type": "code",
   "execution_count": null,
   "metadata": {
    "pycharm": {
     "is_executing": false
    }
   },
   "outputs": [],
   "source": [
    "dataset_name = 'energy_efficiency'"
   ]
  },
  {
   "cell_type": "code",
   "execution_count": null,
   "metadata": {
    "pycharm": {
     "is_executing": false
    }
   },
   "outputs": [],
   "source": [
    "dataset = build_dataset(dataset_name, val_split=0.01) \n",
    "x_set, y_set = dataset.dataset('train')\n",
    "config['layers'][0] = x_set.shape[-1]"
   ]
  },
  {
   "cell_type": "code",
   "execution_count": null,
   "metadata": {
    "pycharm": {
     "is_executing": false
    }
   },
   "outputs": [],
   "source": [
    "kfold_iterator = multiple_kfold(2, \n",
    "                                len(x_set), \n",
    "                                2)"
   ]
  },
  {
   "cell_type": "code",
   "execution_count": null,
   "metadata": {
    "pycharm": {
     "is_executing": false
    }
   },
   "outputs": [],
   "source": [
    "for kfold_cnt, (val_idx, train_idx) in enumerate(kfold_iterator): \n",
    "    # MIND THE ORDER\n",
    "    x_train, y_train = x_set[train_idx], y_set[train_idx]\n",
    "    x_val, y_val = x_set[val_idx], y_set[val_idx]\n",
    "    x_train, x_val, x_scaler = scale(x_train, x_val)\n",
    "    y_train, y_val, y_scaler = scale(y_train, y_val)\n",
    "\n",
    "    train_opts = config['train_opts'].copy()\n",
    "    \n",
    "    model = MLPEnsemble(config['layers'], \n",
    "                        n_models=config['n_ens'], \n",
    "                        activation = F.celu,\n",
    "                        reduction='mean')\n",
    "    model.fit((x_train, y_train),\n",
    "              (x_val, y_val),\n",
    "              **train_opts)\n",
    "    break"
   ]
  },
  {
   "cell_type": "code",
   "execution_count": null,
   "metadata": {
    "pycharm": {
     "is_executing": false
    }
   },
   "outputs": [],
   "source": []
  },
  {
   "cell_type": "code",
   "execution_count": null,
   "metadata": {
    "pycharm": {
     "is_executing": false
    }
   },
   "outputs": [],
   "source": [
    "rts = np.linspace(.5, 10, 101)"
   ]
  },
  {
   "cell_type": "code",
   "execution_count": null,
   "metadata": {
    "pycharm": {
     "is_executing": false
    }
   },
   "outputs": [],
   "source": [
    "smd = model.models[-1]"
   ]
  },
  {
   "cell_type": "code",
   "execution_count": null,
   "metadata": {
    "pycharm": {
     "is_executing": false
    }
   },
   "outputs": [],
   "source": [
    "prediction = smd(x_val).cpu().numpy()\n",
    "errors = np.abs(np.ravel(prediction) - np.ravel(y_val))\n"
   ]
  },
  {
   "cell_type": "code",
   "execution_count": null,
   "metadata": {
    "pycharm": {
     "is_executing": false
    }
   },
   "outputs": [],
   "source": [
    "xdata = []\n",
    "estimations_idx = np.argsort(errors)[::-1]\n",
    "for ratio in rts:\n",
    "    rk = int(len(estimations_idx)*ratio/100.)\n",
    "    xdata.append(np.median(errors[estimations_idx[:rk]]))\n",
    "ideal = np.array(xdata)[:,None]*100."
   ]
  },
  {
   "cell_type": "code",
   "execution_count": null,
   "metadata": {
    "pycharm": {
     "is_executing": false
    }
   },
   "outputs": [],
   "source": [
    "from uncertainty_estimator.masks import build_masks, DEFAULT_MASKS\n",
    "# masks = build_masks(DEFAULT_MASKS)\n",
    "masks = build_masks(['k_dpp'])"
   ]
  },
  {
   "cell_type": "code",
   "execution_count": null,
   "outputs": [],
   "source": [
    "xxxdata = []\n",
    "for name in masks:\n",
    "    print(name)\n",
    "    mask = masks[name]\n",
    "\n",
    "    modelq = smd\n",
    "#     for modelq in models.models:\n",
    "    if hasattr(mask, 'reset'):\n",
    "        mask.reset()\n",
    "    estimator = build_estimator(\n",
    "        'mcdue_masked', modelq, \n",
    "        nn_runs=config['nn_runs'],\n",
    "        dropout_mask=mask,\n",
    "        dropout_rate=config['dropout_uq'])\n",
    "    estimations = estimator.estimate(x_val)\n",
    "\n",
    "    data = []\n",
    "    estimations_idx = np.argsort(estimations)[::-1]\n",
    "    for ratio in rts:\n",
    "        rk = int(len(estimations_idx)*ratio/100.)\n",
    "        data.append(np.median(errors[estimations_idx[:rk]]))\n",
    "    here = np.array(data)[:,None]*100.\n",
    "    here = here/ideal*100.\n",
    "    xxxdata.append([name, here])"
   ],
   "metadata": {
    "collapsed": false,
    "pycharm": {
     "name": "#%%\n",
     "is_executing": false
    }
   }
  },
  {
   "cell_type": "code",
   "execution_count": null,
   "metadata": {
    "pycharm": {
     "is_executing": false
    }
   },
   "outputs": [],
   "source": [
    "dpp = mask.dpps[1]"
   ]
  },
  {
   "cell_type": "code",
   "execution_count": null,
   "outputs": [],
   "source": [
    "dpp.L_eig_vals\n"
   ],
   "metadata": {
    "collapsed": false,
    "pycharm": {
     "name": "#%%\n",
     "is_executing": false
    }
   }
  },
  {
   "cell_type": "code",
   "execution_count": null,
   "outputs": [],
   "source": [
    "corr = mask.layer_correlations[1].astype(np.double)"
   ],
   "metadata": {
    "collapsed": false,
    "pycharm": {
     "name": "#%%\n",
     "is_executing": false
    }
   }
  },
  {
   "cell_type": "code",
   "execution_count": null,
   "outputs": [],
   "source": [
    "corr\n"
   ],
   "metadata": {
    "collapsed": false,
    "pycharm": {
     "name": "#%%\n",
     "is_executing": false
    }
   }
  },
  {
   "cell_type": "code",
   "execution_count": null,
   "outputs": [],
   "source": [
    "from dppy.finite_dpps import FiniteDPP\n",
    "import numpy.linalg as la\n",
    "import seaborn as sns\n"
   ],
   "metadata": {
    "collapsed": false,
    "pycharm": {
     "name": "#%%\n",
     "is_executing": false
    }
   }
  },
  {
   "cell_type": "code",
   "execution_count": null,
   "outputs": [],
   "source": [
    "dpp = FiniteDPP('likelihood', **{'L': corr})"
   ],
   "metadata": {
    "collapsed": false,
    "pycharm": {
     "name": "#%%\n",
     "is_executing": false
    }
   }
  },
  {
   "cell_type": "code",
   "execution_count": null,
   "outputs": [],
   "source": [
    "dpp.L_eig_vals\n",
    "dpp.size_k_dpp"
   ],
   "metadata": {
    "collapsed": false,
    "pycharm": {
     "name": "#%%\n",
     "is_executing": false
    }
   }
  },
  {
   "cell_type": "code",
   "execution_count": null,
   "outputs": [],
   "source": [
    "# dpp.sample_exact_k_dpp(230)"
   ],
   "metadata": {
    "collapsed": false,
    "pycharm": {
     "name": "#%%\n",
     "is_executing": false
    }
   }
  },
  {
   "cell_type": "code",
   "execution_count": null,
   "outputs": [],
   "source": [
    "dpp.list_of_samples"
   ],
   "metadata": {
    "collapsed": false,
    "pycharm": {
     "name": "#%%\n",
     "is_executing": false
    }
   }
  },
  {
   "cell_type": "code",
   "execution_count": null,
   "outputs": [],
   "source": [
    "L_eig_vals, eig_vecs = la.eigh(corr)"
   ],
   "metadata": {
    "collapsed": false,
    "pycharm": {
     "name": "#%%\n",
     "is_executing": false
    }
   }
  },
  {
   "cell_type": "code",
   "execution_count": null,
   "outputs": [],
   "source": [
    "size = 230\n",
    "N = L_eig_vals.size\n",
    "E_poly = np.zeros((size + 1, N + 1))\n",
    "E_poly[0, :] = 1.0\n",
    "\n",
    "# Recursive evaluation\n",
    "for l in range(1, size + 1):\n",
    "    for n in range(1, N + 1):\n",
    "        E_poly[l, n] = E_poly[l, n-1] + L_eig_vals[n-1] * E_poly[l-1, n-1]"
   ],
   "metadata": {
    "collapsed": false,
    "pycharm": {
     "name": "#%%\n",
     "is_executing": false
    }
   }
  },
  {
   "cell_type": "code",
   "execution_count": null,
   "outputs": [],
   "source": [
    "sns.heatmap(E_poly)"
   ],
   "metadata": {
    "collapsed": false,
    "pycharm": {
     "name": "#%%\n",
     "is_executing": false
    }
   }
  },
  {
   "cell_type": "code",
   "execution_count": null,
   "outputs": [],
   "source": [
    "E_poly.shape\n"
   ],
   "metadata": {
    "collapsed": false,
    "pycharm": {
     "name": "#%%\n",
     "is_executing": false
    }
   }
  },
  {
   "cell_type": "code",
   "execution_count": null,
   "outputs": [],
   "source": [
    "np.max(E_poly[:30])\n"
   ],
   "metadata": {
    "collapsed": false,
    "pycharm": {
     "name": "#%%\n",
     "is_executing": false
    }
   }
  },
  {
   "cell_type": "code",
   "execution_count": null,
   "outputs": [],
   "source": [
    "import numpy as np\n",
    "corr2 = np.eye(100)\n",
    "corr2[range(10, 100), range(10, 100)] = 1e-12\n",
    "dpp2 = FiniteDPP('likelihood', **{'L': corr2})\n",
    "# dpp2.sample_exact_k_dpp(50)"
   ],
   "metadata": {
    "collapsed": false,
    "pycharm": {
     "name": "#%%\n",
     "is_executing": false
    }
   }
  },
  {
   "cell_type": "code",
   "execution_count": null,
   "outputs": [],
   "source": [
    "L_eig_vals, eig_vecs = la.eigh(corr2)\n",
    "size = 80\n",
    "N = L_eig_vals.size\n",
    "E_poly = np.zeros((size + 1, N + 1))\n",
    "E_poly[0, :] = 1.0\n",
    "\n",
    "# Recursive evaluation\n",
    "for l in range(1, size + 1):\n",
    "    for n in range(1, N + 1):\n",
    "        E_poly[l, n] = E_poly[l, n-1] + L_eig_vals[n-1] * E_poly[l-1, n-1]\n"
   ],
   "metadata": {
    "collapsed": false,
    "pycharm": {
     "name": "#%%\n",
     "is_executing": false
    }
   }
  },
  {
   "cell_type": "code",
   "execution_count": null,
   "outputs": [],
   "source": [
    "eig_vals = L_eig_vals\n",
    "N, k = eig_vecs.shape[0], size\n",
    "\n",
    "# as in np.linalg.matrix_rank\n",
    "tol = np.max(eig_vals) * N * np.finfo(np.float).eps\n",
    "rank = np.count_nonzero(eig_vals > tol)\n",
    "if k > rank:\n",
    "    raise ValueError('size k={} > rank={}'.format(k, rank))\n",
    "\n",
    "ind_selected = np.zeros(k, dtype=int)\n",
    "for n in range(eig_vals.size, 0, -1):\n",
    "    if np.random.rand() < eig_vals[n-1] * E_poly[k-1, n-1] / E_poly[k, n]:\n",
    "        k -= 1\n",
    "        ind_selected[k] = n - 1\n",
    "        if k == 0:\n",
    "            break\n",
    "\n",
    "V = eig_vecs[:, ind_selected]"
   ],
   "metadata": {
    "collapsed": false,
    "pycharm": {
     "name": "#%%\n",
     "is_executing": false
    }
   }
  },
  {
   "cell_type": "code",
   "execution_count": null,
   "outputs": [],
   "source": [
    "size = 80"
   ],
   "metadata": {
    "collapsed": false,
    "pycharm": {
     "name": "#%%\n",
     "is_executing": false
    }
   }
  },
  {
   "cell_type": "code",
   "execution_count": null,
   "outputs": [],
   "source": [
    "from dppy.utils import inner1d\n",
    "rng = np.random"
   ],
   "metadata": {
    "collapsed": false,
    "pycharm": {
     "name": "#%%\n",
     "is_executing": false
    }
   }
  },
  {
   "cell_type": "code",
   "execution_count": null,
   "outputs": [],
   "source": [
    "N, rank = V.shape  # ground set size / rank(K)\n",
    "if size is None:  # full projection DPP\n",
    "    size = rank\n",
    "# else: k-DPP with k = size\n",
    "\n",
    "ground_set = np.arange(N)\n",
    "sampl = np.zeros(size, dtype=int)  # sample list\n",
    "avail = np.ones(N, dtype=bool)  # available items\n",
    "\n",
    "# Phase 1: Already performed!\n",
    "# Select eigvecs with Bernoulli variables with parameter = eigvals of K.\n",
    "\n",
    "# Phase 2: Chain rule\n",
    "# Use Gram-Schmidt recursion to compute the Vol^2 of the parallelepiped spanned by the feature vectors associated to the sample\n",
    "\n",
    "c = np.zeros((N, size))\n",
    "norms_2 = inner1d(V, axis=1)  # ||V_i:||^2"
   ],
   "metadata": {
    "collapsed": false,
    "pycharm": {
     "name": "#%%\n",
     "is_executing": false
    }
   }
  },
  {
   "cell_type": "code",
   "execution_count": null,
   "outputs": [],
   "source": [
    "norms_2"
   ],
   "metadata": {
    "collapsed": false,
    "pycharm": {
     "name": "#%%\n",
     "is_executing": false
    }
   }
  },
  {
   "cell_type": "code",
   "execution_count": null,
   "outputs": [],
   "source": [
    "\n",
    "for it in range(size):\n",
    "    # Pick an item \\propto this squred distance\n",
    "    probabilities = np.abs(norms_2[avail])\n",
    "    j = rng.choice(ground_set[avail],\n",
    "                         p=probabilities / np.sum(probabilities))\n",
    "    sampl[it] = j\n",
    "    if it == size - 1:\n",
    "        break\n",
    "    # Cancel the contribution of V_j to the remaining feature vectors\n",
    "    avail[j] = False\n",
    "    c[avail, it] =\\\n",
    "        (V[avail, :].dot(V[j, :]) - c[avail, :it].dot(c[j, :it]))\\\n",
    "        / np.sqrt(norms_2[j])\n",
    "\n",
    "    norms_2[avail] -= c[avail, it]**2  # update residual norm^2\n"
   ],
   "metadata": {
    "collapsed": false,
    "pycharm": {
     "name": "#%%\n"
    }
   }
  },
  {
   "cell_type": "code",
   "execution_count": null,
   "outputs": [],
   "source": [
    "\n"
   ],
   "metadata": {
    "collapsed": false,
    "pycharm": {
     "name": "#%%\n"
    }
   }
  }
 ],
 "metadata": {
  "kernelspec": {
   "display_name": "Python 3",
   "language": "python",
   "name": "python3"
  },
  "language_info": {
   "codemirror_mode": {
    "name": "ipython",
    "version": 3
   },
   "file_extension": ".py",
   "mimetype": "text/x-python",
   "name": "python",
   "nbconvert_exporter": "python",
   "pygments_lexer": "ipython3",
   "version": "3.6.7"
  },
  "pycharm": {
   "stem_cell": {
    "cell_type": "raw",
    "source": [],
    "metadata": {
     "collapsed": false
    }
   }
  }
 },
 "nbformat": 4,
 "nbformat_minor": 2
}