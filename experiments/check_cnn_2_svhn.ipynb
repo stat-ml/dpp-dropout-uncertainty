{
 "cells": [
  {
   "cell_type": "code",
   "execution_count": null,
   "outputs": [],
   "source": [
    "import os\n",
    "os.environ[\"CUDA_VISIBLE_DEVICES\"] = '1'\n"
   ],
   "metadata": {
    "collapsed": false,
    "pycharm": {
     "name": "#%%\n"
    }
   }
  },
  {
   "cell_type": "code",
   "execution_count": null,
   "outputs": [],
   "source": [
    "%load_ext autoreload\n",
    "%autoreload 2"
   ],
   "metadata": {
    "collapsed": false,
    "pycharm": {
     "name": "#%%\n"
    }
   }
  },
  {
   "cell_type": "code",
   "execution_count": null,
   "outputs": [],
   "source": [
    "import torchvision\n",
    "import pandas as pd\n",
    "import numpy as np\n",
    "import torch\n",
    "from torch import nn\n",
    "import torch.nn.functional as F\n",
    "import seaborn as sns\n",
    "from torchvision import datasets as datasets, transforms\n",
    "from torch.utils.data import DataLoader\n",
    "from sklearn.model_selection import train_test_split\n",
    "from sklearn.metrics import roc_curve, roc_auc_score\n",
    "import matplotlib.pyplot as plt\n",
    "\n",
    "from model_resnet import ResNet18, ResNet50, ResNet50_dropblock, ResNet50_dropchannel, ResNet50_droplayer\n",
    "from datasets import get_data\n",
    "\n"
   ],
   "metadata": {
    "collapsed": false,
    "pycharm": {
     "name": "#%%\n"
    }
   }
  },
  {
   "cell_type": "code",
   "execution_count": null,
   "outputs": [],
   "source": [
    "class Args:\n",
    "    batch_size = 256\n",
    "    train_batch_size = 5000\n",
    "    lr = 1e-2\n",
    "    gamma = 0.97\n",
    "    log_interval = 100\n",
    "    epochs = 50\n",
    "\n",
    "args = Args()\n",
    "\n"
   ],
   "metadata": {
    "collapsed": false,
    "pycharm": {
     "name": "#%%\n"
    }
   }
  },
  {
   "cell_type": "code",
   "execution_count": null,
   "outputs": [],
   "source": [
    "dataset = 'svhn'\n",
    "loaders = get_data(dataset)"
   ],
   "metadata": {
    "collapsed": false,
    "pycharm": {
     "name": "#%%\n"
    }
   }
  },
  {
   "cell_type": "code",
   "execution_count": null,
   "outputs": [],
   "source": [
    "def train(args, model, device, train_loader, optimizer, epoch):\n",
    "    model.train()\n",
    "    for batch_idx, (data, target) in enumerate(train_loader):\n",
    "        data, target = data.to(device), target.to(device)\n",
    "        optimizer.zero_grad()\n",
    "        output = model(data)\n",
    "        loss = F.cross_entropy(output, target)\n",
    "        loss.backward()\n",
    "        optimizer.step()\n",
    "        if batch_idx % args.log_interval == 0:\n",
    "            print('Train Epoch: {} [{}/{} ({:.0f}%)]\\tLoss: {:.6f}'.format(\n",
    "                epoch, batch_idx * len(data), len(train_loader.dataset),\n",
    "                100. * batch_idx / len(train_loader), loss.item()))\n",
    "\n",
    "\n",
    "def test(model, device, test_loader):\n",
    "    model.eval()\n",
    "    test_loss = 0\n",
    "    correct = 0\n",
    "    with torch.no_grad():\n",
    "        for data, target in test_loader:\n",
    "            data, target = data.to(device), target.to(device)\n",
    "            output = model(data)\n",
    "            test_loss += F.cross_entropy(output, target, reduction='sum').item()  # sum up batch loss\n",
    "            pred = output.argmax(dim=1, keepdim=True)  # get the index of the max log-probability\n",
    "            correct += pred.eq(target.view_as(pred)).sum().item()\n",
    "\n",
    "    test_loss /= len(test_loader.dataset)\n",
    "\n",
    "    print('\\nTest set: Average loss: {:.4f}, Accuracy: {}/{} ({:.0f}%)\\n'.format(\n",
    "        test_loss, correct, len(test_loader.dataset),\n",
    "        100. * correct / len(test_loader.dataset)))\n",
    "\n"
   ],
   "metadata": {
    "collapsed": false,
    "pycharm": {
     "name": "#%%\n"
    }
   }
  },
  {
   "cell_type": "code",
   "execution_count": null,
   "outputs": [],
   "source": [
    "train_loader = loaders['train']\n",
    "test_loader = loaders['valid']\n",
    "\n",
    "model_mode = ['drop_block', 'drop_channel', 'drop_layer'][2]\n",
    "model_class = {\n",
    "    '': ResNet50,\n",
    "    'drop_block': ResNet50_dropblock,\n",
    "    'drop_channel': ResNet50_dropchannel,\n",
    "    'drop_layer': ResNet50_droplayer\n",
    "}\n",
    "\n",
    "model = model_class(input_size=3, dropout_rate = 0.2)\n"
   ],
   "metadata": {
    "collapsed": false,
    "pycharm": {
     "name": "#%%\n"
    }
   }
  },
  {
   "cell_type": "code",
   "execution_count": null,
   "outputs": [],
   "source": [
    "device = torch.device(\"cuda\" if torch.cuda.is_available() else \"cpu\")\n",
    "model = model.to(device)\n"
   ],
   "metadata": {
    "collapsed": false,
    "pycharm": {
     "name": "#%%\n"
    }
   }
  },
  {
   "cell_type": "code",
   "execution_count": null,
   "outputs": [],
   "source": [
    "optimizer = torch.optim.Adadelta(model.parameters(), lr=args.lr)\n",
    "\n",
    "scheduler = torch.optim.lr_scheduler.StepLR(optimizer, step_size=1, gamma=args.gamma)\n",
    "for epoch in range(1, args.epochs + 1):\n",
    "    train(args, model, device, train_loader, optimizer, epoch)\n",
    "    test(model, device, test_loader)\n",
    "    scheduler.step()"
   ],
   "metadata": {
    "collapsed": false,
    "pycharm": {
     "name": "#%%\n"
    }
   }
  },
  {
   "cell_type": "code",
   "execution_count": null,
   "outputs": [],
   "source": [
    "predictions = []\n",
    "labels = []\n",
    "probs = []\n",
    "with torch.no_grad():\n",
    "    for x_batch, y_batch in  test_loader:\n",
    "        logits = model(x_batch.cuda())\n",
    "        probs.append(torch.max(torch.softmax(logits, dim=-1), dim=-1).values.cpu().numpy())\n",
    "        predictions.append(torch.argmax(logits, dim=-1).cpu().numpy())\n",
    "        labels.append(y_batch.numpy())\n",
    "labels = np.concatenate(labels)\n",
    "predictions = np.concatenate(predictions, axis=-1)\n",
    "probs = np.concatenate(probs, axis=-1)\n"
   ],
   "metadata": {
    "collapsed": false,
    "pycharm": {
     "name": "#%%\n"
    }
   }
  },
  {
   "cell_type": "code",
   "execution_count": null,
   "outputs": [],
   "source": [
    "errors = labels != predictions\n"
   ],
   "metadata": {
    "collapsed": false,
    "pycharm": {
     "name": "#%%\n"
    }
   }
  },
  {
   "cell_type": "code",
   "execution_count": null,
   "outputs": [],
   "source": [
    "uq = 1 - probs\n"
   ],
   "metadata": {
    "collapsed": false,
    "pycharm": {
     "name": "#%%\n"
    }
   }
  },
  {
   "cell_type": "code",
   "execution_count": null,
   "outputs": [],
   "source": [
    "T = 200\n",
    "\n",
    "# model.train()\n",
    "model.eval()\n",
    "predictions = []\n",
    "for t in range(T):\n",
    "    if (t+1) % 10  == 0:\n",
    "        print(t)\n",
    "    probs = []\n",
    "    for x_batch, y_batch in  test_loader:\n",
    "        with torch.no_grad():\n",
    "            logits = model(x_batch.cuda(), dropout_mask=True)\n",
    "        probs.append(torch.softmax(logits, dim=-1).cpu().numpy())\n",
    "    predictions.append(np.concatenate(probs, axis=0))\n"
   ],
   "metadata": {
    "collapsed": false,
    "pycharm": {
     "name": "#%%\n"
    }
   }
  },
  {
   "cell_type": "code",
   "execution_count": null,
   "outputs": [],
   "source": [
    "predictions = np.array(predictions)\n",
    "predictions.shape\n"
   ],
   "metadata": {
    "collapsed": false,
    "pycharm": {
     "name": "#%%\n"
    }
   }
  },
  {
   "cell_type": "code",
   "execution_count": null,
   "outputs": [],
   "source": [
    "def entropy(preds):\n",
    "    return -np.mean((np.sum(np.log(preds) * preds, axis=-1)), axis=0)\n",
    "\n",
    "def std_uq(preds):\n",
    "    idxs = np.argmax(np.mean(preds, axis=0), axis=-1)\n",
    "    return np.std(preds[:, np.arange(len(idxs)), idxs], axis=0)\n",
    "\n",
    "def bald(preds):\n",
    "    means = np.mean(preds, axis=0)\n",
    "    return - np.sum(np.log(means) * means, axis=-1) + entropy(preds)\n",
    "\n",
    "def max_with_std(preds):\n",
    "    stds = np.std(preds, axis=0)\n",
    "    means = np.mean(preds, axis=0)\n",
    "    mean_std = means - stds\n",
    "    return 1 - np.max(mean_std, axis=-1)\n",
    "\n",
    "\n",
    "acquisition = max_with_std\n",
    "uq_mc = acquisition(predictions)\n"
   ],
   "metadata": {
    "collapsed": false,
    "pycharm": {
     "name": "#%%\n"
    }
   }
  },
  {
   "cell_type": "code",
   "execution_count": null,
   "outputs": [],
   "source": [
    "plt.style.use(['seaborn'])\n",
    "fpr, tpr, _ = roc_curve(errors, uq)\n",
    "plt.plot(fpr, tpr, label=f'max prob uncertainty')\n",
    "\n",
    "fpr, tpr, _ = roc_curve(errors, uq_mc)\n",
    "plt.plot(fpr, tpr, label=f'mc dropout ({acquisition.__name__})')\n",
    "plt.title(f\"Resnet50, {model_mode}, {dataset}\")\n",
    "plt.legend()\n",
    "plt.show()\n"
   ],
   "metadata": {
    "collapsed": false,
    "pycharm": {
     "name": "#%%\n"
    }
   }
  },
  {
   "cell_type": "markdown",
   "source": [
    "\n",
    "### Error by rejection"
   ],
   "metadata": {
    "collapsed": false
   }
  },
  {
   "cell_type": "code",
   "execution_count": null,
   "outputs": [],
   "source": [
    "slices = np.linspace(0.5, 1, 50)\n",
    "\n",
    "accuracies_max_prob = []\n",
    "accuracies_mc = []\n",
    "\n",
    "\n",
    "for slice in slices:\n",
    "    num_samples = int(len(uq)*slice)\n",
    "    idx = np.argsort(uq)[:num_samples]\n",
    "    accuracies_max_prob.append(1 - np.sum(errors[idx]) / num_samples)\n",
    "\n",
    "    idx = np.argsort(uq_mc)[:num_samples]\n",
    "    accuracies_mc.append(1 - np.sum(errors[idx]) / num_samples)\n",
    "\n",
    "plt.title(f'Accuracy by partly reject to classify, Resnet50, {model_mode}, {dataset}')\n",
    "plt.plot(slices, accuracies_max_prob, label=f'max prob uncertainty')\n",
    "plt.plot(slices, accuracies_mc, label=f'mc dropout ({acquisition.__name__})')\n",
    "plt.legend()\n",
    "\n"
   ],
   "metadata": {
    "collapsed": false,
    "pycharm": {
     "name": "#%%\n"
    }
   }
  },
  {
   "cell_type": "code",
   "execution_count": null,
   "outputs": [],
   "source": [
    "aucs = []\n",
    "nums =  np.linspace(2, 500, 50)\n",
    "max_score = 0\n",
    "for num in nums:\n",
    "    uq_sub = acquisition(predictions[:int(num)])\n",
    "    score = roc_auc_score(errors, uq_sub)\n",
    "    if score > max_score:\n",
    "        i = num\n",
    "        max_score = score\n",
    "    aucs.append(score)\n",
    "plt.plot(nums, aucs)\n",
    "print(i)"
   ],
   "metadata": {
    "collapsed": false,
    "pycharm": {
     "name": "#%%\n"
    }
   }
  },
  {
   "cell_type": "code",
   "execution_count": null,
   "outputs": [],
   "source": [
    "\n",
    "\n",
    "\n",
    "stds = np.std(predictions, axis=0)\n",
    "means = np.mean(predictions, axis=0)\n"
   ],
   "metadata": {
    "collapsed": false,
    "pycharm": {
     "name": "#%%\n"
    }
   }
  },
  {
   "cell_type": "code",
   "execution_count": null,
   "outputs": [],
   "source": [
    "df = pd.DataFrame({'errors':errors, 'stds': stds[:, 0]})\n",
    "plt.figure(figsize=(10, 8))\n",
    "sns.displot(df, x='stds', bins=20)\n",
    "plt.title(\"Mc dropout std distribution\")\n"
   ],
   "metadata": {
    "collapsed": false,
    "pycharm": {
     "name": "#%%\n"
    }
   }
  },
  {
   "cell_type": "code",
   "execution_count": null,
   "outputs": [],
   "source": [],
   "metadata": {
    "collapsed": false,
    "pycharm": {
     "name": "#%%\n"
    }
   }
  },
  {
   "cell_type": "code",
   "execution_count": null,
   "outputs": [],
   "source": [
    "uq_1 = entropy(predictions)\n",
    "uq_2 = max_with_std(predictions)\n",
    "plt.scatter(uq_1, uq_2)"
   ],
   "metadata": {
    "collapsed": false,
    "pycharm": {
     "name": "#%%\n"
    }
   }
  },
  {
   "cell_type": "code",
   "execution_count": null,
   "outputs": [],
   "source": [
    "mean_std = means - stds\n",
    "args_1 = np.argmax(means, axis=-1)\n",
    "args_2 = np.argmax(mean_std, axis=-1)\n",
    "np.sum(args_1 != args_2)"
   ],
   "metadata": {
    "collapsed": false,
    "pycharm": {
     "name": "#%%\n"
    }
   }
  },
  {
   "cell_type": "code",
   "execution_count": null,
   "outputs": [],
   "source": [
    "diff_idx = args_1 != args_2"
   ],
   "metadata": {
    "collapsed": false,
    "pycharm": {
     "name": "#%%\n"
    }
   }
  },
  {
   "cell_type": "code",
   "execution_count": null,
   "outputs": [],
   "source": [
    "diff_idx\n"
   ],
   "metadata": {
    "collapsed": false,
    "pycharm": {
     "name": "#%%\n"
    }
   }
  },
  {
   "cell_type": "code",
   "execution_count": null,
   "outputs": [],
   "source": [
    "# plt.rcParams['axes.facecolor'] = 'white'\n",
    "\n",
    "plt.style.use(['seaborn'])\n",
    "plt.title(\"Points with diffent max classes by mean prob and mean-std prob\")\n",
    "plt.xlabel('Max prob')\n",
    "plt.ylabel('Max prob for mean std')\n",
    "plt.scatter(np.max(means[diff_idx], axis=-1), np.max(mean_std[diff_idx], axis=-1))\n"
   ],
   "metadata": {
    "collapsed": false,
    "pycharm": {
     "name": "#%%\n"
    }
   }
  },
  {
   "cell_type": "code",
   "execution_count": null,
   "outputs": [],
   "source": [
    "images = []\n",
    "labels = []\n",
    "\n",
    "for x_batch, y_batch in test_loader:\n",
    "    images.append(x_batch)\n",
    "    labels.append(y_batch)\n",
    "\n"
   ],
   "metadata": {
    "collapsed": false,
    "pycharm": {
     "name": "#%%\n"
    }
   }
  },
  {
   "cell_type": "code",
   "execution_count": null,
   "outputs": [],
   "source": [
    "imgs_t = torch.cat(images, dim=0)\n"
   ],
   "metadata": {
    "collapsed": false,
    "pycharm": {
     "name": "#%%\n"
    }
   }
  },
  {
   "cell_type": "code",
   "execution_count": null,
   "outputs": [],
   "source": [
    "imgs = np.concatenate(images, axis=0)\n",
    "img_labels = np.concatenate(labels, axis=0)"
   ],
   "metadata": {
    "collapsed": false,
    "pycharm": {
     "name": "#%%\n"
    }
   }
  },
  {
   "cell_type": "code",
   "execution_count": null,
   "outputs": [],
   "source": [
    "def plt_img(img):\n",
    "    img = np.rollaxis(img, 0, 3)\n",
    "    plt.imshow(img)\n",
    "    plt.show()\n",
    "\n",
    "plt_img(imgs[0])"
   ],
   "metadata": {
    "collapsed": false,
    "pycharm": {
     "name": "#%%\n"
    }
   }
  },
  {
   "cell_type": "code",
   "execution_count": null,
   "outputs": [],
   "source": [],
   "metadata": {
    "collapsed": false,
    "pycharm": {
     "name": "#%%\n"
    }
   }
  },
  {
   "cell_type": "code",
   "execution_count": null,
   "outputs": [],
   "source": [
    "def imshow(img):\n",
    "    img = img / 2 + 0.5     # unnormalize\n",
    "    npimg = img.numpy()\n",
    "    plt.imshow(np.transpose(npimg, (1, 2, 0)))\n",
    "    plt.show()\n"
   ],
   "metadata": {
    "collapsed": false,
    "pycharm": {
     "name": "#%%\n"
    }
   }
  },
  {
   "cell_type": "code",
   "execution_count": null,
   "outputs": [],
   "source": [
    "import torchvision\n",
    "plt.style.use(['default'])\n",
    "\n",
    "plt.figure(figsize=(10, 4))\n",
    "plt.title(\"common images\")\n",
    "imshow(torchvision.utils.make_grid(imgs_t[:8]))\n",
    "plt.show()\n",
    "\n",
    "plt.figure(figsize=(10, 4))\n",
    "plt.title(\"strange images\")\n",
    "imshow(torchvision.utils.make_grid(imgs_t[diff_idx][:8]))\n"
   ],
   "metadata": {
    "collapsed": false,
    "pycharm": {
     "name": "#%%\n"
    }
   }
  },
  {
   "cell_type": "code",
   "execution_count": null,
   "outputs": [],
   "source": [
    "\n"
   ],
   "metadata": {
    "collapsed": false,
    "pycharm": {
     "name": "#%%\n"
    }
   }
  },
  {
   "cell_type": "markdown",
   "source": [
    "## TSNE implementation"
   ],
   "metadata": {
    "collapsed": false
   }
  },
  {
   "cell_type": "code",
   "execution_count": null,
   "outputs": [],
   "source": [
    "# Build embeddings\n",
    "embeddings = []\n",
    "val_labels = []\n",
    "model.eval()\n",
    "\n",
    "for data, labels in test_loader:\n",
    "    with torch.no_grad():\n",
    "        model(data.to(device))\n",
    "    embeddings.append(model.embedding.to('cpu').numpy())\n",
    "    val_labels.append(labels)\n",
    "embeddings = np.concatenate(embeddings, axis=0)\n",
    "val_labels = np.concatenate(val_labels)\n"
   ],
   "metadata": {
    "collapsed": false,
    "pycharm": {
     "name": "#%%\n"
    }
   }
  },
  {
   "cell_type": "code",
   "execution_count": null,
   "outputs": [],
   "source": [
    "from sklearn.manifold import TSNE\n",
    "\n",
    "nums = 2000\n",
    "data_1000 = embeddings[:nums]\n",
    "labels_1000 = val_labels[:nums]\n",
    "errors_1000 = diff_idx[:nums]\n",
    "\n",
    "tsne = TSNE(n_components=2, random_state=0)\n",
    "# configuring the parameteres\n",
    "# the number of components = 2\n",
    "# default perplexity = 30\n",
    "# default learning rate = 200\n",
    "# default Maximum number of iterations for the optimization = 1000\n",
    "tsne_dims = tsne.fit_transform(data_1000)\n",
    "tsne_data = np.vstack((tsne_dims.T, labels_1000, errors_1000)).T\n",
    "# creating a new data frame which help us in ploting the result data\n"
   ],
   "metadata": {
    "collapsed": false,
    "pycharm": {
     "name": "#%%\n"
    }
   }
  },
  {
   "cell_type": "code",
   "execution_count": null,
   "outputs": [],
   "source": [
    "tsne_df = pd.DataFrame(data=tsne_data, columns=('dim_1', 'dim_2', 'label', 'errors'))\n",
    "# Ploting the result of tsne\n",
    "sns.FacetGrid(tsne_df, hue='errors', size=5).map(plt.scatter, 'dim_1', 'dim_2').add_legend()\n",
    "plt.title(\"Point diff by different acquisition\")\n",
    "plt.show()\n",
    "sns.FacetGrid(tsne_df, hue='label', size=5).map(plt.scatter, 'dim_1', 'dim_2').add_legend()\n",
    "plt.title(\"Class representation\")\n",
    "plt.show()"
   ],
   "metadata": {
    "collapsed": false,
    "pycharm": {
     "name": "#%%\n"
    }
   }
  },
  {
   "cell_type": "markdown",
   "source": [
    "\n",
    "### OOD test"
   ],
   "metadata": {
    "collapsed": false,
    "pycharm": {
     "name": "#%% md\n"
    }
   }
  },
  {
   "cell_type": "code",
   "execution_count": null,
   "outputs": [],
   "source": [
    "ood_loaders = get_data('cifar')\n",
    "\n",
    "model.eval()\n",
    "probs = []\n",
    "with torch.no_grad():\n",
    "    for x_batch, y_batch in  ood_loaders['valid']:\n",
    "        logits = model(x_batch.cuda())\n",
    "        probs.append(torch.max(torch.softmax(logits, dim=-1), dim=-1).values.cpu().numpy())\n",
    "probs = np.concatenate(probs, axis=-1)\n",
    "uq_ood = 1 - probs\n",
    "\n",
    "ood_predictions = []\n",
    "for t in range(T):\n",
    "    if (t+1) % 10  == 0:\n",
    "        print(t)\n",
    "    probs = []\n",
    "    for x_batch, y_batch in  ood_loaders['valid']:\n",
    "        with torch.no_grad():\n",
    "            logits = model(x_batch.cuda(), dropout_mask=True)\n",
    "        probs.append(torch.softmax(logits, dim=-1).cpu().numpy())\n",
    "    ood_predictions.append(np.concatenate(probs, axis=0))"
   ],
   "metadata": {
    "collapsed": false,
    "pycharm": {
     "name": "#%%\n"
    }
   }
  },
  {
   "cell_type": "code",
   "execution_count": null,
   "outputs": [],
   "source": [
    "uq_ood_mc = acquisition(ood_predictions)\n",
    "norm_num = 4000\n",
    "ood_num = 1000\n",
    "\n",
    "errors_all = np.concatenate((errors[:norm_num], np.ones(ood_num)))\n",
    "uq_all = np.concatenate((uq[:norm_num], uq_ood[:ood_num]))\n",
    "uq_all_mc = np.concatenate((uq_mc[:norm_num], uq_ood_mc[:ood_num]))"
   ],
   "metadata": {
    "collapsed": false,
    "pycharm": {
     "name": "#%%\n"
    }
   }
  },
  {
   "cell_type": "code",
   "execution_count": null,
   "outputs": [],
   "source": [
    "slices = np.linspace(0.5, 1, 50)\n",
    "accuracies_max_prob = []\n",
    "accuracies_mc = []\n",
    "\n",
    "for slice in slices:\n",
    "    num_samples = int(len(uq_all)*slice)\n",
    "    idx = np.argsort(uq_all)[:num_samples]\n",
    "    accuracies_max_prob.append(1 - np.sum(errors_all[idx]) / num_samples)\n",
    "\n",
    "    idx = np.argsort(uq_all_mc)[:num_samples]\n",
    "    accuracies_mc.append(1 - np.sum(errors_all[idx]) / num_samples)\n",
    "\n",
    "plt.title(f'Accuracy by partly reject to classify with  (4000 norm/ 1000 ood points), Resnet50, {model_mode}, {dataset}')\n",
    "plt.plot(slices, accuracies_max_prob, label=f'max prob uncertainty')\n",
    "plt.plot(slices, accuracies_mc, label=f'mc dropout ({acquisition.__name__})')\n",
    "plt.legend()"
   ],
   "metadata": {
    "collapsed": false,
    "pycharm": {
     "name": "#%%\n"
    }
   }
  },
  {
   "cell_type": "code",
   "execution_count": null,
   "outputs": [],
   "source": [],
   "metadata": {
    "collapsed": false,
    "pycharm": {
     "name": "#%%\n"
    }
   }
  }
 ],
 "metadata": {
  "kernelspec": {
   "display_name": "Python 3",
   "language": "python",
   "name": "python3"
  },
  "language_info": {
   "codemirror_mode": {
    "name": "ipython",
    "version": 2
   },
   "file_extension": ".py",
   "mimetype": "text/x-python",
   "name": "python",
   "nbconvert_exporter": "python",
   "pygments_lexer": "ipython2",
   "version": "2.7.6"
  }
 },
 "nbformat": 4,
 "nbformat_minor": 0
}