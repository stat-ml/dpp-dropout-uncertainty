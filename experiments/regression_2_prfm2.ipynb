{
 "cells": [
  {
   "cell_type": "code",
   "execution_count": 1,
   "metadata": {},
   "outputs": [],
   "source": [
    "import sys\n",
    "sys.path.append('..')\n",
    "%load_ext autoreload\n",
    "%autoreload 2"
   ]
  },
  {
   "cell_type": "code",
   "execution_count": 2,
   "metadata": {},
   "outputs": [],
   "source": [
    "sys.path = ['/home/etsymbalov/.local/lib/python3.6/site-packages'] + sys.path"
   ]
  },
  {
   "cell_type": "code",
   "execution_count": 3,
   "metadata": {},
   "outputs": [],
   "source": [
    "import numpy as np\n",
    "import matplotlib.pyplot as plt\n",
    "\n",
    "from experiment_setup import get_model, set_random, build_estimator\n",
    "from uncertainty_estimator.masks import build_masks, DEFAULT_MASKS\n",
    "from dataloader.toy import ToyQubicData, ToySinData\n",
    "from model.mlp import MLP\n",
    "from model.ensemble import MLPEnsemble\n",
    "import pickle\n",
    "\n",
    "plt.rcParams['figure.facecolor'] = 'white'"
   ]
  },
  {
   "cell_type": "code",
   "execution_count": 4,
   "metadata": {},
   "outputs": [],
   "source": [
    "from dataloader.builder import build_dataset\n",
    "from model.mlp import MLP\n",
    "from uncertainty_estimator.masks import build_masks \n",
    "from experiment_setup import build_estimator\n",
    "from analysis.metrics import get_uq_metrics\n",
    "from experiments.utils.data import scale, split_ood, multiple_kfold"
   ]
  },
  {
   "cell_type": "code",
   "execution_count": 10,
   "metadata": {},
   "outputs": [],
   "source": [
    "import os\n",
    "import pickle\n",
    "import pandas as pd\n",
    "import torch\n",
    "torch.cuda.set_device(0)"
   ]
  },
  {
   "cell_type": "code",
   "execution_count": 11,
   "metadata": {},
   "outputs": [],
   "source": [
    "def construct_estimator(model, model_type, name):\n",
    "    if model_type == 'mask': \n",
    "        mask = masks[name]\n",
    "        msk = build_estimator(\n",
    "            'mcdue_masked', model, nn_runs=config['nn_runs'], dropout_mask=mask,\n",
    "            dropout_rate=config['dropout_uq'])\n",
    "        msk.tol_level=1e-5\n",
    "        return msk\n",
    "    elif model_type == 'emask': \n",
    "        mask = emasks[name]\n",
    "        msk = build_estimator(\n",
    "            'emcdue_masked', model, nn_runs=config['nn_runs'], dropout_mask=mask,\n",
    "            dropout_rate=config['dropout_uq'])\n",
    "        msk.tol_level=1e-5\n",
    "        return msk\n",
    "    else:\n",
    "        return build_estimator(name, model)\n",
    "\n",
    "\n",
    "class Evaluator:    \n",
    "    def __init__(self, x_test, y_test, y_scaler, tag='standard'):\n",
    "        self.x_test = x_test\n",
    "        self.y_test = y_test\n",
    "        self.unscale = lambda y : y_scaler.inverse_transform(y) \n",
    "        self.tag = tag\n",
    "        self.results = []\n",
    "\n",
    "    def bench(self, model, name, model_type='mask'): \n",
    "        predictions = model(self.x_test).cpu().numpy()\n",
    "        \n",
    "        errors = np.abs(predictions - self.y_test)\n",
    "        \n",
    "        scaled_errors = self.unscale(predictions) - self.unscale(self.y_test)\n",
    "        rmse = np.sqrt(np.mean(np.square(scaled_errors)))\n",
    "\n",
    "        estimator = construct_estimator(model, model_type, name)\n",
    "        if model_type == 'emask':\n",
    "            name = 'e_' + name\n",
    "        \n",
    "        for run in range(config['n_ue_runs']):\n",
    "            estimations = estimator.estimate(self.x_test)\n",
    "            acc, ndcg, ll = get_uq_metrics(estimations, errors, \n",
    "                                           config['acc_percentile'],\n",
    "                                           bins = [80, 95, 99]\n",
    "                                          )\n",
    "            self.results.append([acc, ndcg, ll, rmse, name, self.tag])\n",
    "            if hasattr(estimator, 'reset'):\n",
    "                estimator.reset()"
   ]
  },
  {
   "cell_type": "code",
   "execution_count": 40,
   "metadata": {},
   "outputs": [],
   "source": [
    "# folder = '../../../../experiments/exp5_smot/'\n",
    "folder = '../../../experiments/exp7/'\n",
    "files = os.listdir(folder)"
   ]
  },
  {
   "cell_type": "code",
   "execution_count": 41,
   "metadata": {},
   "outputs": [],
   "source": [
    "from torch.nn.functional import celu\n",
    "from torch.nn.functional import leaky_relu\n",
    "from torch.nn.functional import elu"
   ]
  },
  {
   "cell_type": "code",
   "execution_count": null,
   "metadata": {},
   "outputs": [
    {
     "name": "stdout",
     "output_type": "stream",
     "text": [
      "basic_bern|decorrelating_sc|dpp|k_dpp|k_dpp_noisereg|basic_bern*|decorrelating_sc*|dpp*|k_dpp*|k_dpp_noisereg*|basic_bern|decorrelating_sc|dpp|k_dpp|k_dpp_noisereg|basic_bern*|decorrelating_sc*|dpp*|k_dpp*|"
     ]
    }
   ],
   "source": [
    "data = []\n",
    "for cnt, file in enumerate(files):\n",
    "    try:\n",
    "        with open('log_exp.log', 'w') as f:\n",
    "            f.write(f'{cnt} / {len(files)}')\n",
    "        with open(folder + file, 'rb') as f:\n",
    "            dct = pickle.load(f)\n",
    "    #     print(file)\n",
    "        config = dct['config']\n",
    "        config['n_ue_runs'] = 1\n",
    "        config['acc_percentile'] = .1\n",
    "        state_dict = dct['state_dict']\n",
    "        x_train, y_train, x_val, y_val, x_scaler, y_scaler = dct['data']\n",
    "\n",
    "        model = MLPEnsemble(config['layers'], \n",
    "                        n_models=config['n_ens'], \n",
    "                        activation = elu,\n",
    "                        reduction='mean')\n",
    "        model.load_state_dict(state_dict)\n",
    "\n",
    "        standard_evaluator = Evaluator(x_val, y_val, y_scaler, 'standard')\n",
    "        masks = build_masks(DEFAULT_MASKS)\n",
    "        masks['k_dpp'].tol_level = 1e-4\n",
    "        emasks = []\n",
    "        for i in range(config['n_ens']):\n",
    "            msk = build_masks(DEFAULT_MASKS)\n",
    "            msk['k_dpp'].tol_level = 1e-4\n",
    "            emasks.append(msk)\n",
    "        emasks = {key: [e[key] for e in emasks] for key in masks.keys()}\n",
    "        \n",
    "\n",
    "        single_model = model.models[2]\n",
    "        for name in masks: \n",
    "            print(name, end = '|')\n",
    "            standard_evaluator.bench(single_model, name, 'mask')\n",
    "        standard_evaluator.bench(model, 'eue', 'ensemble')    \n",
    "        for name in emasks: \n",
    "            print(name, end = '*|')\n",
    "            standard_evaluator.bench(model, name, 'emask')\n",
    "        mask_df = pd.DataFrame(standard_evaluator.results, \n",
    "                           columns=['Acc', 'NDCG', 'LL',\n",
    "                                    'RMSE', 'Mask', 'Tag'])\n",
    "        mask_df['fname'] = file\n",
    "        data.append(mask_df)\n",
    "        pd.concat(data).to_csv('exper7_results_elu.csv', index = None)\n",
    "    except Exception as e:\n",
    "        print(file, name)\n",
    "        print(e)\n",
    "#         print(np.linalg.cond(masks['k_dpp'].layer_correlations[0]))\n",
    "#         print(np.linalg.cond(masks['k_dpp'].layer_correlations[1]))\n",
    "        break"
   ]
  },
  {
   "cell_type": "code",
   "execution_count": null,
   "metadata": {},
   "outputs": [],
   "source": []
  }
 ],
 "metadata": {
  "kernelspec": {
   "display_name": "Python 3",
   "language": "python",
   "name": "python3"
  },
  "language_info": {
   "codemirror_mode": {
    "name": "ipython",
    "version": 3
   },
   "file_extension": ".py",
   "mimetype": "text/x-python",
   "name": "python",
   "nbconvert_exporter": "python",
   "pygments_lexer": "ipython3",
   "version": "3.6.7"
  }
 },
 "nbformat": 4,
 "nbformat_minor": 2
}
