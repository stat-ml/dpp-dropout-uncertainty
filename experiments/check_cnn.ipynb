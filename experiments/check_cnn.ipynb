{
 "cells": [
  {
   "cell_type": "code",
   "execution_count": 1,
   "outputs": [],
   "source": [
    "import os\n",
    "os.environ[\"CUDA_VISIBLE_DEVICES\"] = '1'\n"
   ],
   "metadata": {
    "collapsed": false,
    "pycharm": {
     "name": "#%%\n"
    }
   }
  },
  {
   "cell_type": "code",
   "execution_count": 2,
   "outputs": [],
   "source": [
    "%load_ext autoreload\n",
    "%autoreload 2"
   ],
   "metadata": {
    "collapsed": false,
    "pycharm": {
     "name": "#%%\n"
    }
   }
  },
  {
   "cell_type": "code",
   "execution_count": 23,
   "outputs": [],
   "source": [
    "import pandas as pd\n",
    "import numpy as np\n",
    "import torch\n",
    "from torch import nn\n",
    "import torch.nn.functional as F\n",
    "import seaborn as sns\n",
    "from torchvision import datasets as datasets, transforms\n",
    "from torch.utils.data import DataLoader\n",
    "from sklearn.model_selection import train_test_split\n",
    "from sklearn.metrics import roc_curve, roc_auc_score\n",
    "import matplotlib.pyplot as plt\n",
    "\n",
    "from model_resnet import ResNet18, ResNet50\n",
    "\n"
   ],
   "metadata": {
    "collapsed": false,
    "pycharm": {
     "name": "#%%\n"
    }
   }
  },
  {
   "cell_type": "code",
   "execution_count": 4,
   "outputs": [],
   "source": [
    "class Args:\n",
    "    batch_size = 256\n",
    "    train_batch_size = 5000\n",
    "    lr = 1e-2\n",
    "    gamma = 0.95\n",
    "    log_interval = 100\n",
    "    epochs = 20\n",
    "\n",
    "args = Args()\n",
    "\n"
   ],
   "metadata": {
    "collapsed": false,
    "pycharm": {
     "name": "#%%\n"
    }
   }
  },
  {
   "cell_type": "code",
   "execution_count": 5,
   "outputs": [],
   "source": [
    "transform=transforms.Compose([\n",
    "    transforms.ToTensor(),\n",
    "    transforms.Normalize((0.1307,), (0.3081,))\n",
    "])\n",
    "trainset = datasets.MNIST(root='./data', train=True, download=True, transform=transform)\n",
    "trainset, _ = train_test_split(trainset, train_size=5_000)\n",
    "testset = datasets.MNIST(root='./data', train=False, download=True, transform=transform)\n",
    "testset, _ = train_test_split(testset, train_size=2_000)\n",
    "\n",
    "train_loader = DataLoader(trainset, batch_size=args.batch_size, shuffle=True)\n",
    "test_loader = DataLoader(testset, batch_size=args.train_batch_size)\n"
   ],
   "metadata": {
    "collapsed": false,
    "pycharm": {
     "name": "#%%\n"
    }
   }
  },
  {
   "cell_type": "code",
   "execution_count": 6,
   "outputs": [],
   "source": [
    "class Net(nn.Module):\n",
    "    def __init__(self):\n",
    "        super(Net, self).__init__()\n",
    "        self.conv1 = nn.Conv2d(1, 32, 3, padding=1)\n",
    "        self.conv2 = nn.Conv2d(32, 64, 3, padding=1)\n",
    "        self.pooling = nn.MaxPool2d(2)\n",
    "        self.conv3 = nn.Conv2d(64, 64, 3, padding=1)\n",
    "        self.conv4 = nn.Conv2d(64, 64, 3, padding=1)\n",
    "        self.pooling = nn.MaxPool2d(4)\n",
    "        self.dropout1 = nn.Dropout(0.1)\n",
    "        self.fc1 = nn.Linear(64*49, 128)\n",
    "        self.dropout2 = nn.Dropout(0.05)\n",
    "        self.fc2 = nn.Linear(128, 10)\n",
    "\n",
    "    def forward(self, x):\n",
    "        x = F.elu(self.conv1(x))\n",
    "        x = F.elu(self.conv2(x))\n",
    "        x = self.pooling(x)\n",
    "        x = F.elu(self.conv4(x))\n",
    "        x = F.elu(self.conv4(x))\n",
    "\n",
    "        x = torch.flatten(x, 1)\n",
    "        x = self.dropout1(x)\n",
    "        x = F.elu(self.fc1(x))\n",
    "        x = self.dropout2(x)\n",
    "        x = self.fc2(x)\n",
    "        return x\n",
    "\n",
    "def train(args, model, device, train_loader, optimizer, epoch):\n",
    "    model.train()\n",
    "    for batch_idx, (data, target) in enumerate(train_loader):\n",
    "        data, target = data.to(device), target.to(device)\n",
    "        optimizer.zero_grad()\n",
    "        output = model(data)\n",
    "        loss = F.cross_entropy(output, target)\n",
    "        loss.backward()\n",
    "        optimizer.step()\n",
    "        if batch_idx % args.log_interval == 0:\n",
    "            print('Train Epoch: {} [{}/{} ({:.0f}%)]\\tLoss: {:.6f}'.format(\n",
    "                epoch, batch_idx * len(data), len(train_loader.dataset),\n",
    "                100. * batch_idx / len(train_loader), loss.item()))\n",
    "\n",
    "\n",
    "def test(model, device, test_loader):\n",
    "    model.eval()\n",
    "    test_loss = 0\n",
    "    correct = 0\n",
    "    with torch.no_grad():\n",
    "        for data, target in test_loader:\n",
    "            data, target = data.to(device), target.to(device)\n",
    "            output = model(data)\n",
    "            test_loss += F.cross_entropy(output, target, reduction='sum').item()  # sum up batch loss\n",
    "            pred = output.argmax(dim=1, keepdim=True)  # get the index of the max log-probability\n",
    "            correct += pred.eq(target.view_as(pred)).sum().item()\n",
    "\n",
    "    test_loss /= len(test_loader.dataset)\n",
    "\n",
    "    print('\\nTest set: Average loss: {:.4f}, Accuracy: {}/{} ({:.0f}%)\\n'.format(\n",
    "        test_loss, correct, len(test_loader.dataset),\n",
    "        100. * correct / len(test_loader.dataset)))\n",
    "\n"
   ],
   "metadata": {
    "collapsed": false,
    "pycharm": {
     "name": "#%%\n"
    }
   }
  },
  {
   "cell_type": "code",
   "execution_count": 7,
   "outputs": [
    {
     "name": "stdout",
     "output_type": "stream",
     "text": [
      "Train Epoch: 1 [0/5000 (0%)]\tLoss: 2.536922\n",
      "\n",
      "Test set: Average loss: 1.7194, Accuracy: 1435/2000 (72%)\n",
      "\n",
      "Train Epoch: 2 [0/5000 (0%)]\tLoss: 0.529614\n",
      "\n",
      "Test set: Average loss: 0.2224, Accuracy: 1867/2000 (93%)\n",
      "\n",
      "Train Epoch: 3 [0/5000 (0%)]\tLoss: 0.264147\n",
      "\n",
      "Test set: Average loss: 0.1691, Accuracy: 1886/2000 (94%)\n",
      "\n",
      "Train Epoch: 4 [0/5000 (0%)]\tLoss: 0.205086\n",
      "\n",
      "Test set: Average loss: 0.1558, Accuracy: 1907/2000 (95%)\n",
      "\n",
      "Train Epoch: 5 [0/5000 (0%)]\tLoss: 0.120156\n",
      "\n",
      "Test set: Average loss: 0.1463, Accuracy: 1907/2000 (95%)\n",
      "\n",
      "Train Epoch: 6 [0/5000 (0%)]\tLoss: 0.120791\n",
      "\n",
      "Test set: Average loss: 0.1313, Accuracy: 1921/2000 (96%)\n",
      "\n",
      "Train Epoch: 7 [0/5000 (0%)]\tLoss: 0.081820\n",
      "\n",
      "Test set: Average loss: 0.1259, Accuracy: 1922/2000 (96%)\n",
      "\n",
      "Train Epoch: 8 [0/5000 (0%)]\tLoss: 0.074521\n",
      "\n",
      "Test set: Average loss: 0.1229, Accuracy: 1923/2000 (96%)\n",
      "\n",
      "Train Epoch: 9 [0/5000 (0%)]\tLoss: 0.054889\n",
      "\n",
      "Test set: Average loss: 0.1154, Accuracy: 1930/2000 (96%)\n",
      "\n",
      "Train Epoch: 10 [0/5000 (0%)]\tLoss: 0.076915\n",
      "\n",
      "Test set: Average loss: 0.1169, Accuracy: 1932/2000 (97%)\n",
      "\n",
      "Train Epoch: 11 [0/5000 (0%)]\tLoss: 0.041117\n",
      "\n",
      "Test set: Average loss: 0.1168, Accuracy: 1932/2000 (97%)\n",
      "\n",
      "Train Epoch: 12 [0/5000 (0%)]\tLoss: 0.050649\n",
      "\n",
      "Test set: Average loss: 0.1143, Accuracy: 1931/2000 (97%)\n",
      "\n",
      "Train Epoch: 13 [0/5000 (0%)]\tLoss: 0.041921\n",
      "\n",
      "Test set: Average loss: 0.1119, Accuracy: 1936/2000 (97%)\n",
      "\n",
      "Train Epoch: 14 [0/5000 (0%)]\tLoss: 0.023654\n",
      "\n",
      "Test set: Average loss: 0.1117, Accuracy: 1936/2000 (97%)\n",
      "\n",
      "Train Epoch: 15 [0/5000 (0%)]\tLoss: 0.033654\n",
      "\n",
      "Test set: Average loss: 0.1100, Accuracy: 1934/2000 (97%)\n",
      "\n",
      "Train Epoch: 16 [0/5000 (0%)]\tLoss: 0.029879\n",
      "\n",
      "Test set: Average loss: 0.1082, Accuracy: 1934/2000 (97%)\n",
      "\n",
      "Train Epoch: 17 [0/5000 (0%)]\tLoss: 0.020714\n",
      "\n",
      "Test set: Average loss: 0.1082, Accuracy: 1935/2000 (97%)\n",
      "\n",
      "Train Epoch: 18 [0/5000 (0%)]\tLoss: 0.020807\n",
      "\n",
      "Test set: Average loss: 0.1089, Accuracy: 1938/2000 (97%)\n",
      "\n",
      "Train Epoch: 19 [0/5000 (0%)]\tLoss: 0.024956\n",
      "\n",
      "Test set: Average loss: 0.1077, Accuracy: 1937/2000 (97%)\n",
      "\n",
      "Train Epoch: 20 [0/5000 (0%)]\tLoss: 0.024879\n",
      "\n",
      "Test set: Average loss: 0.1090, Accuracy: 1940/2000 (97%)\n",
      "\n"
     ]
    }
   ],
   "source": [
    "# model = Net()\n",
    "model = ResNet50()\n",
    "\n",
    "device = torch.device(\"cuda\" if torch.cuda.is_available() else \"cpu\")\n",
    "model = model.to(device)\n",
    "optimizer = torch.optim.Adadelta(model.parameters(), lr=args.lr)\n",
    "\n",
    "scheduler = torch.optim.lr_scheduler.StepLR(optimizer, step_size=1, gamma=args.gamma)\n",
    "for epoch in range(1, args.epochs + 1):\n",
    "    train(args, model, device, train_loader, optimizer, epoch)\n",
    "    test(model, device, test_loader)\n",
    "    scheduler.step()"
   ],
   "metadata": {
    "collapsed": false,
    "pycharm": {
     "name": "#%%\n"
    }
   }
  },
  {
   "cell_type": "code",
   "execution_count": 8,
   "outputs": [],
   "source": [
    "predictions = []\n",
    "labels = []\n",
    "probs = []\n",
    "with torch.no_grad():\n",
    "    for x_batch, y_batch in  test_loader:\n",
    "        logits = model(x_batch.cuda())\n",
    "        probs.append(torch.max(torch.softmax(logits, dim=-1), dim=-1).values.cpu().numpy())\n",
    "        predictions.append(torch.argmax(logits, dim=-1).cpu().numpy())\n",
    "        labels.append(y_batch.numpy())\n",
    "labels = np.concatenate(labels)\n",
    "predictions = np.concatenate(predictions, axis=-1)\n",
    "probs = np.concatenate(probs, axis=-1)\n"
   ],
   "metadata": {
    "collapsed": false,
    "pycharm": {
     "name": "#%%\n"
    }
   }
  },
  {
   "cell_type": "code",
   "execution_count": 9,
   "outputs": [],
   "source": [
    "errors = labels != predictions\n"
   ],
   "metadata": {
    "collapsed": false,
    "pycharm": {
     "name": "#%%\n"
    }
   }
  },
  {
   "cell_type": "code",
   "execution_count": 10,
   "outputs": [],
   "source": [
    "uq = 1 - probs\n"
   ],
   "metadata": {
    "collapsed": false,
    "pycharm": {
     "name": "#%%\n"
    }
   }
  },
  {
   "cell_type": "code",
   "execution_count": 11,
   "outputs": [
    {
     "name": "stdout",
     "output_type": "stream",
     "text": [
      "9\n",
      "19\n",
      "29\n",
      "39\n",
      "49\n",
      "59\n",
      "69\n",
      "79\n",
      "89\n",
      "99\n",
      "109\n",
      "119\n",
      "129\n",
      "139\n",
      "149\n",
      "159\n",
      "169\n",
      "179\n",
      "189\n",
      "199\n"
     ]
    }
   ],
   "source": [
    "T = 200\n",
    "\n",
    "# model.train()\n",
    "model.eval()\n",
    "predictions = []\n",
    "for t in range(T):\n",
    "    if (t+1) % 10  == 0:\n",
    "        print(t)\n",
    "    probs = []\n",
    "    for x_batch, y_batch in  test_loader:\n",
    "        with torch.no_grad():\n",
    "            logits = model(x_batch.cuda(), dropout_mask=True)\n",
    "        probs.append(torch.softmax(logits, dim=-1).cpu().numpy())\n",
    "    predictions.append(np.concatenate(probs, axis=0))\n"
   ],
   "metadata": {
    "collapsed": false,
    "pycharm": {
     "name": "#%%\n"
    }
   }
  },
  {
   "cell_type": "code",
   "execution_count": 12,
   "outputs": [
    {
     "data": {
      "text/plain": "(200, 2000, 10)"
     },
     "execution_count": 12,
     "metadata": {},
     "output_type": "execute_result"
    }
   ],
   "source": [
    "predictions = np.array(predictions)\n",
    "predictions.shape\n"
   ],
   "metadata": {
    "collapsed": false,
    "pycharm": {
     "name": "#%%\n"
    }
   }
  },
  {
   "cell_type": "code",
   "execution_count": 41,
   "outputs": [],
   "source": [
    "def entropy(preds):\n",
    "    return -np.mean((np.sum(np.log(preds) * preds, axis=-1)), axis=0)\n",
    "\n",
    "def std_uq(preds):\n",
    "    return np.std(np.max(preds, axis=-1), axis=0)\n",
    "\n",
    "def bald(preds):\n",
    "    means = np.mean(preds, axis=0)\n",
    "    return - np.sum(np.log(means) * means, axis=-1) + entropy(preds)\n",
    "\n",
    "def max_with_std(preds):\n",
    "    stds = np.std(preds, axis=0)\n",
    "    means = np.mean(preds, axis=0)\n",
    "    mean_std = means - stds\n",
    "    return 1 - np.max(mean_std, axis=-1)\n",
    "\n",
    "\n",
    "\n",
    "acquisition = max_with_std\n",
    "uq_mc = acquisition(predictions)\n",
    "uq_mc_2 = entropy(predictions)"
   ],
   "metadata": {
    "collapsed": false,
    "pycharm": {
     "name": "#%%\n"
    }
   }
  },
  {
   "cell_type": "code",
   "execution_count": 42,
   "outputs": [
    {
     "data": {
      "text/plain": "[<matplotlib.lines.Line2D at 0x7fcb69501490>]"
     },
     "execution_count": 42,
     "metadata": {},
     "output_type": "execute_result"
    },
    {
     "data": {
      "text/plain": "<Figure size 432x288 with 1 Axes>",
      "image/png": "[encoded data removed]"
     },
     "metadata": {
      "needs_background": "light"
     },
     "output_type": "display_data"
    }
   ],
   "source": [
    "fpr, tpr, _ = roc_curve(errors, uq)\n",
    "plt.plot(fpr, tpr)\n",
    "\n",
    "fpr, tpr, _ = roc_curve(errors, uq_mc)\n",
    "plt.plot(fpr, tpr)\n",
    "plt.title(\"Resnet, Dropout 0.1/0.05, Bald\")\n",
    "\n",
    "fpr, tpr, _ = roc_curve(errors, uq_mc_2)\n",
    "plt.plot(fpr, tpr)"
   ],
   "metadata": {
    "collapsed": false,
    "pycharm": {
     "name": "#%%\n"
    }
   }
  },
  {
   "cell_type": "code",
   "execution_count": 36,
   "outputs": [
    {
     "name": "stdout",
     "output_type": "stream",
     "text": [
      "195.10204081632654\n"
     ]
    },
    {
     "data": {
      "text/plain": "<Figure size 432x288 with 1 Axes>",
      "image/png": "[encoded data removed]"
     },
     "metadata": {
      "needs_background": "light"
     },
     "output_type": "display_data"
    }
   ],
   "source": [
    "aucs = []\n",
    "nums =  np.linspace(2, 500, 50)\n",
    "max_score = 0\n",
    "for num in nums:\n",
    "    uq_sub = acquisition(predictions[:int(num)])\n",
    "    score = roc_auc_score(errors, uq_sub)\n",
    "    if score > max_score:\n",
    "        i = num\n",
    "        max_score = score\n",
    "    aucs.append(score)\n",
    "plt.plot(nums, aucs)\n",
    "print(i)"
   ],
   "metadata": {
    "collapsed": false,
    "pycharm": {
     "name": "#%%\n"
    }
   }
  },
  {
   "cell_type": "code",
   "execution_count": 16,
   "outputs": [],
   "source": [
    "\n",
    "stds = np.std(predictions, axis=0)\n",
    "means = np.mean(predictions, axis=0)\n"
   ],
   "metadata": {
    "collapsed": false,
    "pycharm": {
     "name": "#%%\n"
    }
   }
  },
  {
   "cell_type": "code",
   "execution_count": 31,
   "outputs": [
    {
     "data": {
      "text/plain": "<seaborn.axisgrid.FacetGrid at 0x7fcb69288e10>"
     },
     "execution_count": 31,
     "metadata": {},
     "output_type": "execute_result"
    },
    {
     "data": {
      "text/plain": "<Figure size 720x576 with 0 Axes>"
     },
     "metadata": {},
     "output_type": "display_data"
    },
    {
     "data": {
      "text/plain": "<Figure size 360x360 with 1 Axes>",
      "image/png": "[encoded data removed]"
     },
     "metadata": {
      "needs_background": "light"
     },
     "output_type": "display_data"
    }
   ],
   "source": [
    "df = pd.DataFrame({'errors':errors, 'stds': stds[:, 0]})\n",
    "plt.figure(figsize=(10, 8))\n",
    "sns.displot(df, x='stds', bins=20)\n"
   ],
   "metadata": {
    "collapsed": false,
    "pycharm": {
     "name": "#%%\n"
    }
   }
  },
  {
   "cell_type": "code",
   "execution_count": null,
   "outputs": [],
   "source": [],
   "metadata": {
    "collapsed": false,
    "pycharm": {
     "name": "#%%\n"
    }
   }
  },
  {
   "cell_type": "code",
   "execution_count": 40,
   "outputs": [
    {
     "data": {
      "text/plain": "<matplotlib.collections.PathCollection at 0x7fcb6945a350>"
     },
     "execution_count": 40,
     "metadata": {},
     "output_type": "execute_result"
    },
    {
     "data": {
      "text/plain": "<Figure size 432x288 with 1 Axes>",
      "image/png": "[encoded data removed]"
     },
     "metadata": {
      "needs_background": "light"
     },
     "output_type": "display_data"
    }
   ],
   "source": [
    "uq_1 = entropy(predictions)\n",
    "uq_2 = max_with_std(predictions)\n",
    "plt.scatter(uq_1, uq_2)"
   ],
   "metadata": {
    "collapsed": false,
    "pycharm": {
     "name": "#%%\n"
    }
   }
  },
  {
   "cell_type": "code",
   "execution_count": 39,
   "outputs": [
    {
     "data": {
      "text/plain": "0"
     },
     "execution_count": 39,
     "metadata": {},
     "output_type": "execute_result"
    }
   ],
   "source": [
    "stds = np.std(predictions, axis=0)\n",
    "means = np.mean(predictions, axis=0)\n",
    "mean_std = means - stds\n",
    "args_1 = np.argmax(means, axis=-1)\n",
    "args_2 = np.argmax(mean_std, axis=-1)\n",
    "np.sum(args_1 != args_2)"
   ],
   "metadata": {
    "collapsed": false,
    "pycharm": {
     "name": "#%%\n"
    }
   }
  },
  {
   "cell_type": "code",
   "execution_count": null,
   "outputs": [],
   "source": [],
   "metadata": {
    "collapsed": false,
    "pycharm": {
     "name": "#%%\n"
    }
   }
  }
 ],
 "metadata": {
  "kernelspec": {
   "display_name": "Python 3",
   "language": "python",
   "name": "python3"
  },
  "language_info": {
   "codemirror_mode": {
    "name": "ipython",
    "version": 2
   },
   "file_extension": ".py",
   "mimetype": "text/x-python",
   "name": "python",
   "nbconvert_exporter": "python",
   "pygments_lexer": "ipython2",
   "version": "2.7.6"
  }
 },
 "nbformat": 4,
 "nbformat_minor": 0
}